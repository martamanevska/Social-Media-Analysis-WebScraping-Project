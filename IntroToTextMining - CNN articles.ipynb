{
 "cells": [
  {
   "cell_type": "markdown",
   "metadata": {},
   "source": [
    "##### Social Media Analytics\n",
    "### Introduction to Text Mining\n",
    "## Preprocessing\n",
    "(c) Nuno Antonio 2019-2023 v1.02"
   ]
  },
  {
   "cell_type": "code",
   "execution_count": 110,
   "metadata": {},
   "outputs": [],
   "source": [
    "import nltk\n",
    "#nltk.download()"
   ]
  },
  {
   "cell_type": "markdown",
   "metadata": {},
   "source": [
    "## Packages installation"
   ]
  },
  {
   "cell_type": "markdown",
   "metadata": {},
   "source": [
    "Packages required for this set of exercices:\n",
    "- **NLTK**: Install via Anaconda Navigator Environments tab or using *pip install nltk* or using *conda install -c anaconda nltk*\n",
    "- **NLTK data**: After installing NLTK open a note book and run:<br>\n",
    "*import nltk<br>\n",
    "nltk.download()*\n",
    "- **BeautifulSoup4**: Install via Anaconda Navigator Environments tab or using *pip install python3-bs4* or using *conda install -c anaconda beautifulsoup4*\n",
    "- **WordCloud**: Install via Anaconda Navigator Environments tab or using *pip install wordcloud*  or using *conda install -c conda-forge wordcloud*\n",
    "- **Spacy**: Install via Anaconda Navigator Environments tab or using *pip install spacy* or *conda install -c anaconda nltk*<br>\n",
    "   To install Spanish models: *python -m spacy download es_core_news_sm*<br>\n",
    "   To install Portuguese models: *python -m spacy download pt_core_news_sm*<br>\n",
    "   To install English models: *python -m spacy download en_core_web_sm*<br>\n",
    "   To install other languages models see: https://spacy.io/usage/models#languages<br>\n",
    "- **Rake-NLTK**: Install via Anaconda Navigator Environments tab or using *pip install rake-nltk* or  *conda install -c conda-forge rake_nltk*\n",
    "- **VaderSentiment**: Install via Anaconda Navigator Environments tab or using *pip install vaderSentiment* or *conda install -c conda-forge vadersentiment*\n",
    "- **Gensim**: Install via Anaconda Navigator Environments tab or using *pip install gensim* or *conda install -c anaconda gensim*\n",
    "- **pyLDAvis**: Install via Anaconda Navigator Environments tab or using *pip install pip install pyldavis* or *conda install -c conda-forge pyldavis*"
   ]
  },
  {
   "cell_type": "markdown",
   "metadata": {},
   "source": [
    "## Data preprocessing"
   ]
  },
  {
   "cell_type": "code",
   "execution_count": 111,
   "metadata": {},
   "outputs": [],
   "source": [
    "# Import packages\n",
    "import csv\n",
    "import pandas as pd\n",
    "import numpy as np\n",
    "import nltk \n",
    "import datetime"
   ]
  },
  {
   "cell_type": "code",
   "execution_count": 112,
   "metadata": {},
   "outputs": [
    {
     "name": "stderr",
     "output_type": "stream",
     "text": [
      "C:\\Users\\User\\AppData\\Local\\Temp\\ipykernel_13168\\3563895498.py:3: FutureWarning: The error_bad_lines argument has been deprecated and will be removed in a future version. Use on_bad_lines in the future.\n",
      "\n",
      "\n",
      "  ds = pd.read_csv(\"CNNArticles.csv\", sep=\",\",\n"
     ]
    }
   ],
   "source": [
    "# Load dataset\n",
    "dtypes = {'title':'category','author':'category','text':'category'}\n",
    "ds = pd.read_csv(\"CNNArticles.csv\", sep=\",\", \n",
    "                 error_bad_lines=False, dtype=dtypes, decimal=',', \n",
    "                 index_col='Unnamed: 0', parse_dates=['date'])"
   ]
  },
  {
   "cell_type": "code",
   "execution_count": 113,
   "metadata": {},
   "outputs": [
    {
     "data": {
      "text/html": [
       "<div>\n",
       "<style scoped>\n",
       "    .dataframe tbody tr th:only-of-type {\n",
       "        vertical-align: middle;\n",
       "    }\n",
       "\n",
       "    .dataframe tbody tr th {\n",
       "        vertical-align: top;\n",
       "    }\n",
       "\n",
       "    .dataframe thead th {\n",
       "        text-align: right;\n",
       "    }\n",
       "</style>\n",
       "<table border=\"1\" class=\"dataframe\">\n",
       "  <thead>\n",
       "    <tr style=\"text-align: right;\">\n",
       "      <th></th>\n",
       "      <th>title</th>\n",
       "      <th>author</th>\n",
       "      <th>date</th>\n",
       "      <th>text</th>\n",
       "    </tr>\n",
       "  </thead>\n",
       "  <tbody>\n",
       "    <tr>\n",
       "      <th>0</th>\n",
       "      <td>Russia's war in Ukraine</td>\n",
       "      <td>['Jessie Yeung', 'Sana Noor Haq', 'Ivana Kotta...</td>\n",
       "      <td>2023-03-05</td>\n",
       "      <td>US Ambassador to Russia Lynne Tracy visited Pa...</td>\n",
       "    </tr>\n",
       "    <tr>\n",
       "      <th>1</th>\n",
       "      <td>What we know about the murky drone attack on t...</td>\n",
       "      <td>['Rob Picheta', 'Anna Chernova', 'Allegra Good...</td>\n",
       "      <td>2023-04-05</td>\n",
       "      <td>The tight ring of security that surrounds the ...</td>\n",
       "    </tr>\n",
       "    <tr>\n",
       "      <th>2</th>\n",
       "      <td>How the Kremlin drone attack hands Russia an o...</td>\n",
       "      <td>['Jill Dougherty']</td>\n",
       "      <td>2023-04-05</td>\n",
       "      <td>At first glance, it looks like a sci-fi movie....</td>\n",
       "    </tr>\n",
       "    <tr>\n",
       "      <th>3</th>\n",
       "      <td>Wave of Russian attacks on Kyiv worst in a yea...</td>\n",
       "      <td>['Josh Pennington ', 'Olga Voitovych', 'Helen ...</td>\n",
       "      <td>2023-04-05</td>\n",
       "      <td>Russia unleashed its worst attacks on Kyiv in ...</td>\n",
       "    </tr>\n",
       "    <tr>\n",
       "      <th>4</th>\n",
       "      <td>5 things to know for May 4: Atlanta shooting, ...</td>\n",
       "      <td>['Alexandra Meeks']</td>\n",
       "      <td>2023-04-05</td>\n",
       "      <td>Thousands of people are planning to line the s...</td>\n",
       "    </tr>\n",
       "    <tr>\n",
       "      <th>5</th>\n",
       "      <td>Russia unleashes intense airstrikes against Uk...</td>\n",
       "      <td>[]</td>\n",
       "      <td>2023-04-05</td>\n",
       "      <td>Russia unleashes its most intense attacks in K...</td>\n",
       "    </tr>\n",
       "    <tr>\n",
       "      <th>6</th>\n",
       "      <td>Saudi Arabia wants to be a bigger player in th...</td>\n",
       "      <td>[]</td>\n",
       "      <td>2023-03-05</td>\n",
       "      <td>When Iranian evacuees from Sudan were being fl...</td>\n",
       "    </tr>\n",
       "    <tr>\n",
       "      <th>7</th>\n",
       "      <td>Washington is letting Chinese airlines increas...</td>\n",
       "      <td>['Michelle Toh']</td>\n",
       "      <td>2023-04-05</td>\n",
       "      <td>The United States said Wednesday it would allo...</td>\n",
       "    </tr>\n",
       "    <tr>\n",
       "      <th>8</th>\n",
       "      <td>Russia blames Ukraine for Moscow drone strikes</td>\n",
       "      <td>[]</td>\n",
       "      <td>2023-04-05</td>\n",
       "      <td>Kyiv denies involvement in drone attack on the...</td>\n",
       "    </tr>\n",
       "    <tr>\n",
       "      <th>9</th>\n",
       "      <td>May 3, 2023 - Russia-Ukraine news</td>\n",
       "      <td>['Kathleen Magramo', 'Sophie Tanno', 'Adrienne...</td>\n",
       "      <td>2023-02-05</td>\n",
       "      <td>Our live coverage of Russia's war in Ukraine h...</td>\n",
       "    </tr>\n",
       "    <tr>\n",
       "      <th>10</th>\n",
       "      <td>Indian American businessman Ajay Banga is the ...</td>\n",
       "      <td>['Reuters ']</td>\n",
       "      <td>2023-04-05</td>\n",
       "      <td>The World Bank's board of governors on Wednesd...</td>\n",
       "    </tr>\n",
       "    <tr>\n",
       "      <th>11</th>\n",
       "      <td>Kyiv denies involvement in alleged Kremlin dro...</td>\n",
       "      <td>['Sebastian Shukla', 'Nathan Hodge', 'Matthew ...</td>\n",
       "      <td>2023-03-05</td>\n",
       "      <td>Russia claimed Ukraine launched an attempt to ...</td>\n",
       "    </tr>\n",
       "    <tr>\n",
       "      <th>12</th>\n",
       "      <td>As Russia makes claims a Ukrainian drone struc...</td>\n",
       "      <td>[]</td>\n",
       "      <td>2023-03-05</td>\n",
       "      <td>CNN's Nick Paton Walsh reports.</td>\n",
       "    </tr>\n",
       "    <tr>\n",
       "      <th>13</th>\n",
       "      <td>CNN military analyst breaks down alleged Kreml...</td>\n",
       "      <td>[]</td>\n",
       "      <td>2023-03-05</td>\n",
       "      <td>Russia claimed Ukraine launched an attempt to ...</td>\n",
       "    </tr>\n",
       "    <tr>\n",
       "      <th>14</th>\n",
       "      <td>Analysis: Cross-border attacks as Russia and U...</td>\n",
       "      <td>['Nick Paton Walsh']</td>\n",
       "      <td>2023-03-05</td>\n",
       "      <td>For days now, the blasts have echoed the condi...</td>\n",
       "    </tr>\n",
       "    <tr>\n",
       "      <th>15</th>\n",
       "      <td>UK: Russia has dug large defensive trench system</td>\n",
       "      <td>[]</td>\n",
       "      <td>2023-03-05</td>\n",
       "      <td>CNN Military Analyst Col. Cedric Leighton weig...</td>\n",
       "    </tr>\n",
       "    <tr>\n",
       "      <th>16</th>\n",
       "      <td>May 2, 2023 - Russia-Ukraine news</td>\n",
       "      <td>['Tara Subramaniam', 'Sana Noor Haq', 'Aditi S...</td>\n",
       "      <td>2023-02-05</td>\n",
       "      <td>Our live coverage of Russia's war in Ukraine h...</td>\n",
       "    </tr>\n",
       "    <tr>\n",
       "      <th>17</th>\n",
       "      <td>Why Russia fears a 'major breakthrough' by Ukr...</td>\n",
       "      <td>[]</td>\n",
       "      <td>2023-02-05</td>\n",
       "      <td>CNN's Nick Paton Walsh reports from Ukraine, w...</td>\n",
       "    </tr>\n",
       "    <tr>\n",
       "      <th>18</th>\n",
       "      <td>The Met Gala 2023</td>\n",
       "      <td>['Elise Hammond', 'Scottie Andrew', 'Kristen R...</td>\n",
       "      <td>2023-04-26</td>\n",
       "      <td>Talk about a dramatic entrance: Rihanna, a Met...</td>\n",
       "    </tr>\n",
       "    <tr>\n",
       "      <th>19</th>\n",
       "      <td>US Ambassador to China: 'We are ready to talk'</td>\n",
       "      <td>['Jennifer Hansler']</td>\n",
       "      <td>2023-02-05</td>\n",
       "      <td>US Ambassador to China Nicholas Burns said Tue...</td>\n",
       "    </tr>\n",
       "    <tr>\n",
       "      <th>20</th>\n",
       "      <td>5 things to know for May 2: Writers strike, Ru...</td>\n",
       "      <td>['Alexandra Meeks']</td>\n",
       "      <td>2023-02-05</td>\n",
       "      <td>You may recall a few months ago when officials...</td>\n",
       "    </tr>\n",
       "    <tr>\n",
       "      <th>21</th>\n",
       "      <td>May 1, 2023 - Russia-Ukraine news</td>\n",
       "      <td>['Brad Lendon', 'Sana Noor Haq', 'Ivana Kottas...</td>\n",
       "      <td>2023-04-30</td>\n",
       "      <td>Our live coverage of Russia's war in Ukraine h...</td>\n",
       "    </tr>\n",
       "    <tr>\n",
       "      <th>22</th>\n",
       "      <td>As Ukraine prepares counteroffensive, Russia a...</td>\n",
       "      <td>['Nick Paton Walsh']</td>\n",
       "      <td>2023-01-05</td>\n",
       "      <td>Ukraine's much-anticipated counteroffensive ap...</td>\n",
       "    </tr>\n",
       "    <tr>\n",
       "      <th>23</th>\n",
       "      <td>Russia's Daria Kasatkina says it 'makes a lot ...</td>\n",
       "      <td>['Matias Grez']</td>\n",
       "      <td>2023-01-05</td>\n",
       "      <td>Daria Kasatkina, Russia's top-ranked female te...</td>\n",
       "    </tr>\n",
       "    <tr>\n",
       "      <th>24</th>\n",
       "      <td>5 things to know for May 1: Bank failure, Texa...</td>\n",
       "      <td>['Alexandra Meeks']</td>\n",
       "      <td>2023-01-05</td>\n",
       "      <td>Today is the start of Asian/Pacific American H...</td>\n",
       "    </tr>\n",
       "    <tr>\n",
       "      <th>25</th>\n",
       "      <td>April 30, 2023 Russia-Ukraine news</td>\n",
       "      <td>['Sophie Tanno', 'Thom Poole', 'Maureen Chowdh...</td>\n",
       "      <td>2023-04-29</td>\n",
       "      <td>Our live coverage of Russia's war in Ukraine h...</td>\n",
       "    </tr>\n",
       "    <tr>\n",
       "      <th>26</th>\n",
       "      <td>Why everyone in business loves India right now</td>\n",
       "      <td>['Michelle Toh', 'Hanna Ziady']</td>\n",
       "      <td>2023-04-30</td>\n",
       "      <td>When Tim Cook arrived in India earlier this mo...</td>\n",
       "    </tr>\n",
       "    <tr>\n",
       "      <th>27</th>\n",
       "      <td>Pope Francis says the Vatican is involved in a...</td>\n",
       "      <td>['Antonia Mortensen']</td>\n",
       "      <td>2023-04-30</td>\n",
       "      <td>The Vatican is part of a peace mission to end ...</td>\n",
       "    </tr>\n",
       "    <tr>\n",
       "      <th>28</th>\n",
       "      <td>Russia vows retaliation after Poland seizes em...</td>\n",
       "      <td>['Xiaofei Xu', 'Darya Tarasova']</td>\n",
       "      <td>2023-04-30</td>\n",
       "      <td>Russia says it will retaliate after Polish aut...</td>\n",
       "    </tr>\n",
       "    <tr>\n",
       "      <th>29</th>\n",
       "      <td>Analysis: Whether it's Trump or Biden, some in...</td>\n",
       "      <td>['Luke McGee']</td>\n",
       "      <td>2023-04-30</td>\n",
       "      <td>When Joe Biden confirmed he will run for reele...</td>\n",
       "    </tr>\n",
       "    <tr>\n",
       "      <th>30</th>\n",
       "      <td>Biden calls for release of wrongfully detained...</td>\n",
       "      <td>['Maegan Vazquez', 'Kaanita Iyer']</td>\n",
       "      <td>2023-04-29</td>\n",
       "      <td>President Joe Biden called for the release of ...</td>\n",
       "    </tr>\n",
       "    <tr>\n",
       "      <th>31</th>\n",
       "      <td>'Even one American in Iraq is too much,' Iran'...</td>\n",
       "      <td>['Mitchell McCluskey']</td>\n",
       "      <td>2023-04-30</td>\n",
       "      <td>Iranian Supreme Leader Ayatollah Ali Khamenei ...</td>\n",
       "    </tr>\n",
       "    <tr>\n",
       "      <th>32</th>\n",
       "      <td>April 29, 2023 Russia-Ukraine news</td>\n",
       "      <td>['Sophie Tanno', 'Adrienne Vogt', 'Matt Meyer']</td>\n",
       "      <td>2023-04-28</td>\n",
       "      <td>We've wrapped up our live coverage for the day...</td>\n",
       "    </tr>\n",
       "    <tr>\n",
       "      <th>33</th>\n",
       "      <td>Suspected drone strike triggers massive fire i...</td>\n",
       "      <td>['Josh Pennington ', 'Alex Stambaugh', 'Kostan...</td>\n",
       "      <td>2023-04-29</td>\n",
       "      <td>A suspected drone strike has sparked a huge fi...</td>\n",
       "    </tr>\n",
       "    <tr>\n",
       "      <th>34</th>\n",
       "      <td>Ukraine could launch its offensive against Rus...</td>\n",
       "      <td>['Tim Lister']</td>\n",
       "      <td>2023-04-29</td>\n",
       "      <td>Ukraine says its preparations for a spring cou...</td>\n",
       "    </tr>\n",
       "    <tr>\n",
       "      <th>35</th>\n",
       "      <td>Children among at least 23 killed in early-mor...</td>\n",
       "      <td>['Nic Robertson', 'AnneClaire Stapleton', 'Mar...</td>\n",
       "      <td>2023-04-28</td>\n",
       "      <td>Russia unleashed what is believed to have been...</td>\n",
       "    </tr>\n",
       "    <tr>\n",
       "      <th>36</th>\n",
       "      <td>Prosecutors say leaks suspect has history of m...</td>\n",
       "      <td>['Zachary Cohen', 'Hannah Rabinowitz']</td>\n",
       "      <td>2023-04-27</td>\n",
       "      <td>Prosecutors are arguing that the Air National ...</td>\n",
       "    </tr>\n",
       "    <tr>\n",
       "      <th>37</th>\n",
       "      <td>April 28, 2023 - Russia-Ukraine news</td>\n",
       "      <td>['Kathleen Magramo', 'Helen Regan', 'Aditi San...</td>\n",
       "      <td>2023-04-27</td>\n",
       "      <td>Our live coverage for the day has ended. Follo...</td>\n",
       "    </tr>\n",
       "    <tr>\n",
       "      <th>38</th>\n",
       "      <td>Biden made a lot of promises on the campaign t...</td>\n",
       "      <td>['Kevin Liptak']</td>\n",
       "      <td>2023-04-28</td>\n",
       "      <td>President Joe Biden's three-minute video annou...</td>\n",
       "    </tr>\n",
       "    <tr>\n",
       "      <th>39</th>\n",
       "      <td>April 27, 2023 - Russia-Ukraine news</td>\n",
       "      <td>['Tara Subramaniam', 'Helen Regan', 'Sophie Ta...</td>\n",
       "      <td>2023-04-26</td>\n",
       "      <td>Our live coverage for the day has ended. Follo...</td>\n",
       "    </tr>\n",
       "    <tr>\n",
       "      <th>40</th>\n",
       "      <td>Russia launches deadly wave of strikes across ...</td>\n",
       "      <td>[]</td>\n",
       "      <td>2023-04-28</td>\n",
       "      <td>CNN's Nic Robertson reports from Uman, Ukraine...</td>\n",
       "    </tr>\n",
       "    <tr>\n",
       "      <th>41</th>\n",
       "      <td>Air raid sirens in Kyiv as Russia launches new...</td>\n",
       "      <td>[]</td>\n",
       "      <td>2023-04-28</td>\n",
       "      <td>Russia launches new strikes across Ukraine as ...</td>\n",
       "    </tr>\n",
       "    <tr>\n",
       "      <th>42</th>\n",
       "      <td>The Iranian drones deployed by Russia in Ukrai...</td>\n",
       "      <td>['Tim Lister']</td>\n",
       "      <td>2023-04-28</td>\n",
       "      <td>New research has revealed the extent to which ...</td>\n",
       "    </tr>\n",
       "    <tr>\n",
       "      <th>43</th>\n",
       "      <td>India says border violations erode 'entire bas...</td>\n",
       "      <td>['Rhea Mogul', 'Vedika Sud']</td>\n",
       "      <td>2023-04-27</td>\n",
       "      <td>India's defense minister told his Chinese coun...</td>\n",
       "    </tr>\n",
       "    <tr>\n",
       "      <th>44</th>\n",
       "      <td>'Often they shoot at each other': Ukrainian dr...</td>\n",
       "      <td>[]</td>\n",
       "      <td>2023-04-27</td>\n",
       "      <td>CNN chief international security correspondent...</td>\n",
       "    </tr>\n",
       "    <tr>\n",
       "      <th>45</th>\n",
       "      <td>Suspect in US documents leak appears in court</td>\n",
       "      <td>['Maureen Chowdhury', 'Elise Hammond']</td>\n",
       "      <td>2023-04-18</td>\n",
       "      <td>Prosecutors are arguing that the Air National ...</td>\n",
       "    </tr>\n",
       "    <tr>\n",
       "      <th>46</th>\n",
       "      <td>Turkey's Erdogan cancels public appearances af...</td>\n",
       "      <td>['Mostafa Salem', 'Nadeen Ebrahim']</td>\n",
       "      <td>2023-04-27</td>\n",
       "      <td>Turkish President Recep Tayyip Erdogan largely...</td>\n",
       "    </tr>\n",
       "    <tr>\n",
       "      <th>47</th>\n",
       "      <td>Ukrainian and Chinese presidents speak for fir...</td>\n",
       "      <td>[]</td>\n",
       "      <td>2023-04-27</td>\n",
       "      <td>CNN's Max Foster speaks to CNN's Steven Jiang ...</td>\n",
       "    </tr>\n",
       "    <tr>\n",
       "      <th>48</th>\n",
       "      <td>'I was scared about my family:' Why two Ukrain...</td>\n",
       "      <td>['Ben Church']</td>\n",
       "      <td>2023-04-27</td>\n",
       "      <td>Ukrainian soccer player Taras Stepanenko still...</td>\n",
       "    </tr>\n",
       "    <tr>\n",
       "      <th>49</th>\n",
       "      <td>With Zelensky call, Xi Jinping steps up bid to...</td>\n",
       "      <td>['Simone McCarthy ']</td>\n",
       "      <td>2023-04-27</td>\n",
       "      <td>A long-awaited phone call between Chinese lead...</td>\n",
       "    </tr>\n",
       "  </tbody>\n",
       "</table>\n",
       "</div>"
      ],
      "text/plain": [
       "                                                title  \\\n",
       "0                             Russia's war in Ukraine   \n",
       "1   What we know about the murky drone attack on t...   \n",
       "2   How the Kremlin drone attack hands Russia an o...   \n",
       "3   Wave of Russian attacks on Kyiv worst in a yea...   \n",
       "4   5 things to know for May 4: Atlanta shooting, ...   \n",
       "5   Russia unleashes intense airstrikes against Uk...   \n",
       "6   Saudi Arabia wants to be a bigger player in th...   \n",
       "7   Washington is letting Chinese airlines increas...   \n",
       "8      Russia blames Ukraine for Moscow drone strikes   \n",
       "9                   May 3, 2023 - Russia-Ukraine news   \n",
       "10  Indian American businessman Ajay Banga is the ...   \n",
       "11  Kyiv denies involvement in alleged Kremlin dro...   \n",
       "12  As Russia makes claims a Ukrainian drone struc...   \n",
       "13  CNN military analyst breaks down alleged Kreml...   \n",
       "14  Analysis: Cross-border attacks as Russia and U...   \n",
       "15   UK: Russia has dug large defensive trench system   \n",
       "16                  May 2, 2023 - Russia-Ukraine news   \n",
       "17  Why Russia fears a 'major breakthrough' by Ukr...   \n",
       "18                                  The Met Gala 2023   \n",
       "19     US Ambassador to China: 'We are ready to talk'   \n",
       "20  5 things to know for May 2: Writers strike, Ru...   \n",
       "21                  May 1, 2023 - Russia-Ukraine news   \n",
       "22  As Ukraine prepares counteroffensive, Russia a...   \n",
       "23  Russia's Daria Kasatkina says it 'makes a lot ...   \n",
       "24  5 things to know for May 1: Bank failure, Texa...   \n",
       "25                 April 30, 2023 Russia-Ukraine news   \n",
       "26     Why everyone in business loves India right now   \n",
       "27  Pope Francis says the Vatican is involved in a...   \n",
       "28  Russia vows retaliation after Poland seizes em...   \n",
       "29  Analysis: Whether it's Trump or Biden, some in...   \n",
       "30  Biden calls for release of wrongfully detained...   \n",
       "31  'Even one American in Iraq is too much,' Iran'...   \n",
       "32                 April 29, 2023 Russia-Ukraine news   \n",
       "33  Suspected drone strike triggers massive fire i...   \n",
       "34  Ukraine could launch its offensive against Rus...   \n",
       "35  Children among at least 23 killed in early-mor...   \n",
       "36  Prosecutors say leaks suspect has history of m...   \n",
       "37               April 28, 2023 - Russia-Ukraine news   \n",
       "38  Biden made a lot of promises on the campaign t...   \n",
       "39               April 27, 2023 - Russia-Ukraine news   \n",
       "40  Russia launches deadly wave of strikes across ...   \n",
       "41  Air raid sirens in Kyiv as Russia launches new...   \n",
       "42  The Iranian drones deployed by Russia in Ukrai...   \n",
       "43  India says border violations erode 'entire bas...   \n",
       "44  'Often they shoot at each other': Ukrainian dr...   \n",
       "45      Suspect in US documents leak appears in court   \n",
       "46  Turkey's Erdogan cancels public appearances af...   \n",
       "47  Ukrainian and Chinese presidents speak for fir...   \n",
       "48  'I was scared about my family:' Why two Ukrain...   \n",
       "49  With Zelensky call, Xi Jinping steps up bid to...   \n",
       "\n",
       "                                               author       date  \\\n",
       "0   ['Jessie Yeung', 'Sana Noor Haq', 'Ivana Kotta... 2023-03-05   \n",
       "1   ['Rob Picheta', 'Anna Chernova', 'Allegra Good... 2023-04-05   \n",
       "2                                  ['Jill Dougherty'] 2023-04-05   \n",
       "3   ['Josh Pennington ', 'Olga Voitovych', 'Helen ... 2023-04-05   \n",
       "4                                 ['Alexandra Meeks'] 2023-04-05   \n",
       "5                                                  [] 2023-04-05   \n",
       "6                                                  [] 2023-03-05   \n",
       "7                                    ['Michelle Toh'] 2023-04-05   \n",
       "8                                                  [] 2023-04-05   \n",
       "9   ['Kathleen Magramo', 'Sophie Tanno', 'Adrienne... 2023-02-05   \n",
       "10                                       ['Reuters '] 2023-04-05   \n",
       "11  ['Sebastian Shukla', 'Nathan Hodge', 'Matthew ... 2023-03-05   \n",
       "12                                                 [] 2023-03-05   \n",
       "13                                                 [] 2023-03-05   \n",
       "14                               ['Nick Paton Walsh'] 2023-03-05   \n",
       "15                                                 [] 2023-03-05   \n",
       "16  ['Tara Subramaniam', 'Sana Noor Haq', 'Aditi S... 2023-02-05   \n",
       "17                                                 [] 2023-02-05   \n",
       "18  ['Elise Hammond', 'Scottie Andrew', 'Kristen R... 2023-04-26   \n",
       "19                               ['Jennifer Hansler'] 2023-02-05   \n",
       "20                                ['Alexandra Meeks'] 2023-02-05   \n",
       "21  ['Brad Lendon', 'Sana Noor Haq', 'Ivana Kottas... 2023-04-30   \n",
       "22                               ['Nick Paton Walsh'] 2023-01-05   \n",
       "23                                    ['Matias Grez'] 2023-01-05   \n",
       "24                                ['Alexandra Meeks'] 2023-01-05   \n",
       "25  ['Sophie Tanno', 'Thom Poole', 'Maureen Chowdh... 2023-04-29   \n",
       "26                    ['Michelle Toh', 'Hanna Ziady'] 2023-04-30   \n",
       "27                              ['Antonia Mortensen'] 2023-04-30   \n",
       "28                   ['Xiaofei Xu', 'Darya Tarasova'] 2023-04-30   \n",
       "29                                     ['Luke McGee'] 2023-04-30   \n",
       "30                 ['Maegan Vazquez', 'Kaanita Iyer'] 2023-04-29   \n",
       "31                             ['Mitchell McCluskey'] 2023-04-30   \n",
       "32    ['Sophie Tanno', 'Adrienne Vogt', 'Matt Meyer'] 2023-04-28   \n",
       "33  ['Josh Pennington ', 'Alex Stambaugh', 'Kostan... 2023-04-29   \n",
       "34                                     ['Tim Lister'] 2023-04-29   \n",
       "35  ['Nic Robertson', 'AnneClaire Stapleton', 'Mar... 2023-04-28   \n",
       "36             ['Zachary Cohen', 'Hannah Rabinowitz'] 2023-04-27   \n",
       "37  ['Kathleen Magramo', 'Helen Regan', 'Aditi San... 2023-04-27   \n",
       "38                                   ['Kevin Liptak'] 2023-04-28   \n",
       "39  ['Tara Subramaniam', 'Helen Regan', 'Sophie Ta... 2023-04-26   \n",
       "40                                                 [] 2023-04-28   \n",
       "41                                                 [] 2023-04-28   \n",
       "42                                     ['Tim Lister'] 2023-04-28   \n",
       "43                       ['Rhea Mogul', 'Vedika Sud'] 2023-04-27   \n",
       "44                                                 [] 2023-04-27   \n",
       "45             ['Maureen Chowdhury', 'Elise Hammond'] 2023-04-18   \n",
       "46                ['Mostafa Salem', 'Nadeen Ebrahim'] 2023-04-27   \n",
       "47                                                 [] 2023-04-27   \n",
       "48                                     ['Ben Church'] 2023-04-27   \n",
       "49                               ['Simone McCarthy '] 2023-04-27   \n",
       "\n",
       "                                                 text  \n",
       "0   US Ambassador to Russia Lynne Tracy visited Pa...  \n",
       "1   The tight ring of security that surrounds the ...  \n",
       "2   At first glance, it looks like a sci-fi movie....  \n",
       "3   Russia unleashed its worst attacks on Kyiv in ...  \n",
       "4   Thousands of people are planning to line the s...  \n",
       "5   Russia unleashes its most intense attacks in K...  \n",
       "6   When Iranian evacuees from Sudan were being fl...  \n",
       "7   The United States said Wednesday it would allo...  \n",
       "8   Kyiv denies involvement in drone attack on the...  \n",
       "9   Our live coverage of Russia's war in Ukraine h...  \n",
       "10  The World Bank's board of governors on Wednesd...  \n",
       "11  Russia claimed Ukraine launched an attempt to ...  \n",
       "12                    CNN's Nick Paton Walsh reports.  \n",
       "13  Russia claimed Ukraine launched an attempt to ...  \n",
       "14  For days now, the blasts have echoed the condi...  \n",
       "15  CNN Military Analyst Col. Cedric Leighton weig...  \n",
       "16  Our live coverage of Russia's war in Ukraine h...  \n",
       "17  CNN's Nick Paton Walsh reports from Ukraine, w...  \n",
       "18  Talk about a dramatic entrance: Rihanna, a Met...  \n",
       "19  US Ambassador to China Nicholas Burns said Tue...  \n",
       "20  You may recall a few months ago when officials...  \n",
       "21  Our live coverage of Russia's war in Ukraine h...  \n",
       "22  Ukraine's much-anticipated counteroffensive ap...  \n",
       "23  Daria Kasatkina, Russia's top-ranked female te...  \n",
       "24  Today is the start of Asian/Pacific American H...  \n",
       "25  Our live coverage of Russia's war in Ukraine h...  \n",
       "26  When Tim Cook arrived in India earlier this mo...  \n",
       "27  The Vatican is part of a peace mission to end ...  \n",
       "28  Russia says it will retaliate after Polish aut...  \n",
       "29  When Joe Biden confirmed he will run for reele...  \n",
       "30  President Joe Biden called for the release of ...  \n",
       "31  Iranian Supreme Leader Ayatollah Ali Khamenei ...  \n",
       "32  We've wrapped up our live coverage for the day...  \n",
       "33  A suspected drone strike has sparked a huge fi...  \n",
       "34  Ukraine says its preparations for a spring cou...  \n",
       "35  Russia unleashed what is believed to have been...  \n",
       "36  Prosecutors are arguing that the Air National ...  \n",
       "37  Our live coverage for the day has ended. Follo...  \n",
       "38  President Joe Biden's three-minute video annou...  \n",
       "39  Our live coverage for the day has ended. Follo...  \n",
       "40  CNN's Nic Robertson reports from Uman, Ukraine...  \n",
       "41  Russia launches new strikes across Ukraine as ...  \n",
       "42  New research has revealed the extent to which ...  \n",
       "43  India's defense minister told his Chinese coun...  \n",
       "44  CNN chief international security correspondent...  \n",
       "45  Prosecutors are arguing that the Air National ...  \n",
       "46  Turkish President Recep Tayyip Erdogan largely...  \n",
       "47  CNN's Max Foster speaks to CNN's Steven Jiang ...  \n",
       "48  Ukrainian soccer player Taras Stepanenko still...  \n",
       "49  A long-awaited phone call between Chinese lead...  "
      ]
     },
     "execution_count": 113,
     "metadata": {},
     "output_type": "execute_result"
    }
   ],
   "source": [
    "# Check first rows\n",
    "ds.head(50)"
   ]
  },
  {
   "cell_type": "code",
   "execution_count": 114,
   "metadata": {
    "scrolled": true
   },
   "outputs": [
    {
     "name": "stdout",
     "output_type": "stream",
     "text": [
      "969\n"
     ]
    }
   ],
   "source": [
    "print((ds['author'] == '[]').sum())"
   ]
  },
  {
   "cell_type": "code",
   "execution_count": 115,
   "metadata": {},
   "outputs": [
    {
     "name": "stderr",
     "output_type": "stream",
     "text": [
      "C:\\Users\\User\\AppData\\Local\\Temp\\ipykernel_13168\\3080489250.py:2: FutureWarning: Treating datetime data as categorical rather than numeric in `.describe` is deprecated and will be removed in a future version of pandas. Specify `datetime_is_numeric=True` to silence this warning and adopt the future behavior now.\n",
      "  summary=ds.describe(include='all')\n"
     ]
    },
    {
     "data": {
      "text/html": [
       "<div>\n",
       "<style scoped>\n",
       "    .dataframe tbody tr th:only-of-type {\n",
       "        vertical-align: middle;\n",
       "    }\n",
       "\n",
       "    .dataframe tbody tr th {\n",
       "        vertical-align: top;\n",
       "    }\n",
       "\n",
       "    .dataframe thead th {\n",
       "        text-align: right;\n",
       "    }\n",
       "</style>\n",
       "<table border=\"1\" class=\"dataframe\">\n",
       "  <thead>\n",
       "    <tr style=\"text-align: right;\">\n",
       "      <th></th>\n",
       "      <th>count</th>\n",
       "      <th>unique</th>\n",
       "      <th>top</th>\n",
       "      <th>freq</th>\n",
       "      <th>first</th>\n",
       "      <th>last</th>\n",
       "    </tr>\n",
       "  </thead>\n",
       "  <tbody>\n",
       "    <tr>\n",
       "      <th>title</th>\n",
       "      <td>4550</td>\n",
       "      <td>4471</td>\n",
       "      <td>Russia's war in Ukraine</td>\n",
       "      <td>22</td>\n",
       "      <td>NaT</td>\n",
       "      <td>NaT</td>\n",
       "    </tr>\n",
       "    <tr>\n",
       "      <th>author</th>\n",
       "      <td>4550</td>\n",
       "      <td>1593</td>\n",
       "      <td>[]</td>\n",
       "      <td>969</td>\n",
       "      <td>NaT</td>\n",
       "      <td>NaT</td>\n",
       "    </tr>\n",
       "    <tr>\n",
       "      <th>date</th>\n",
       "      <td>4550</td>\n",
       "      <td>470</td>\n",
       "      <td>2022-01-03 00:00:00</td>\n",
       "      <td>60</td>\n",
       "      <td>2013-01-22</td>\n",
       "      <td>2023-12-04</td>\n",
       "    </tr>\n",
       "    <tr>\n",
       "      <th>text</th>\n",
       "      <td>4550</td>\n",
       "      <td>4544</td>\n",
       "      <td>It tells you plenty about the Eurovision Song ...</td>\n",
       "      <td>2</td>\n",
       "      <td>NaT</td>\n",
       "      <td>NaT</td>\n",
       "    </tr>\n",
       "  </tbody>\n",
       "</table>\n",
       "</div>"
      ],
      "text/plain": [
       "       count unique                                                top freq  \\\n",
       "title   4550   4471                            Russia's war in Ukraine   22   \n",
       "author  4550   1593                                                 []  969   \n",
       "date    4550    470                                2022-01-03 00:00:00   60   \n",
       "text    4550   4544  It tells you plenty about the Eurovision Song ...    2   \n",
       "\n",
       "            first       last  \n",
       "title         NaT        NaT  \n",
       "author        NaT        NaT  \n",
       "date   2013-01-22 2023-12-04  \n",
       "text          NaT        NaT  "
      ]
     },
     "execution_count": 115,
     "metadata": {},
     "output_type": "execute_result"
    }
   ],
   "source": [
    "# Describe dataset\n",
    "summary=ds.describe(include='all')\n",
    "summary=summary.transpose()\n",
    "summary.head(len(summary))"
   ]
  },
  {
   "cell_type": "code",
   "execution_count": 116,
   "metadata": {},
   "outputs": [
    {
     "name": "stdout",
     "output_type": "stream",
     "text": [
      "Full review:\n",
      " The tight ring of security that surrounds the seat of the Russian presidency was punctured in dramatic fashion by what appeared to be two attempted drone strikes in the early hours of Wednesday morning. But until the Kremlin chose to publicize the incident around 12 hours later, social media footage of the incident had gained little attention. Why Russia decided to reveal the security breach is unclear. But in a five-paragraph statement on Wednesday, the Kremlin made the incendiary claim that the drones were an assassination attempt launched by Ukraine on the the Russian president, Vladimir Putin. Kyiv forcefully denied the claim. Kyiv was bombarded with missiles in the hours following Russia's claims, in keeping with Putin's historic willingness to strike Ukrainian cities after any alleged act of provocation. Many details about the incident remain murky. Here's what we know -- and the questions that remain. What happened? Moscow said the alleged attack took place in the early hours of Wednesday. Two \"unmanned aerial vehicles\" were intercepted and destroyed before they caused any damage or injury, the Kremlin said. The Russian president was not in the building at the time, according to Kremlin spokesperson Dmitry Peskov. Videos then emerged on social media appearing to show the incident. CNN analysis of these videos supports Moscow's claim that two drones were flown above the Kremlin. A video that appeared to show smoke rising from the Kremlin surfaced on a Telegram channel at 2:37 a.m. local time Wednesday. The first reports of the incident citing the Kremlin came via Russian state media TASS and RIA around 2:33 p.m. local time -- around 12 hours later. Shortly after the first media reports, another video appearing to show the moment a drone exploded above the Kremlin began circulating widely on social media. In the video, the apparent drone seems to fly towards the building's domed roof, followed by what looks like a small explosion. In this video, two people appear to be climbing on the dome holding flashlights, and can be seen ducking down just before the moment of the explosion. The people climbing the dome are not present in the first of these videos, but appear in the second, suggesting they were responding to the fire caused by the first drone at the time the subsequent drone appeared. Who's saying what? The Kremlin blamed Ukraine, describing the purported drone attack as an \"attempt on the President's life.\"  In a statement, the Kremlin said, \"We view these actions as a planned terrorist attack and an assassination attempt,\" adding that \"Russia reserves the right to take countermeasures wherever and whenever it deems appropriate.\" On Thursday, Russia also claimed the US was involved in the attack. \"Undoubtedly, Such decisions, the definition of goals, the definition of means -- all this is dictated to Kyiv from Washington,\" Peksov said. Both allegations drew sharp denials from Kyiv and Washington. \"We don't attack Putin or Moscow,\" President Volodymyr Zelensky said during a news conference in Helsinki on Wednesday. \"We fight on our territory, we are defending our villages and cities. We don't have enough weapon[s] for this. That's why we don't use it anywhere [else],\" Zelensky said. \"We didn't attack Putin. We leave it to tribunal,\" he said. John Kirby, the National Security Council's Coordinator for Strategic Communications, called Russia's allegation that the US directed Ukraine to carry out such an attack \"ridiculous.\" Secretary of State Anthony Blinken said it the US did not know who was responsible. \"I would take anything coming out of the Kremlin with a very large shaker of salt,\" he told a Washingon Post event on Wednesday. Who else could be responsible? If Ukraine wasn't the perpetrator, one possibility is that the incident was the work of Russian partisans -- as claimed by a former Russian lawmaker linked with militant groups in Russia. Ilya Ponomarev told CNN's Matthew Chance that \"it's one of (the) Russian partisan groups,\" adding that \"I cannot say more, as they have not yet publicly claimed responsibility.\" Ponomarev, who lives in exile in Ukraine and Poland, was the only Russian MP to vote against the annexation of Crimea by Russia in 2014 and has since been included on a list of terrorist suspects, according to the Russian authorities.  According to Ponomarev, members of partisans group inside Russia are usually \"youngsters, students, residents of large cities. I am aware of the partisan activity in approximately 40 cities across Russia,\" he told CNN.  Evidence of actual partisan activity inside Russia remains scant. A formation calling itself the Russian Volunteer Corps is fighting on the side of Kyiv in Ukraine and claimed to have carried out a brief armed incursion into Russian territory earlier this year, but the group's size is unclear. Russia claims Ukraine has carried out drone strikes on military airfields in western and southwestern Russia, but Kyiv has neither confirmed nor denied those allegations. US officials have also said they were still assessing the incident, and had no information about who might have been responsible. Whatever the truth, any admission of a security breach at the heart of the Kremlin is remarkable. What happens next? Moscow already launched a wave of missiles at Kyiv following the incident, a move in line with its playbook after previous flashpoints in the war. And messages written on Russian drones launched at Odesa overnight read \"for Moscow\" and \"for the Kremlin,\" according to the Ukrainian military, an apparent reference to the alleged attack. US and Ukrainian officials have in the past warned that Russia has planned so-called \"false flag\" attacks along Russia's border with Ukraine as a pretext for military escalation, including Russian claims ahead of last year's full-scale invasion that Ukraine was sending \"saboteurs\" over the Russian border.  Russia has also been embarrassed in recent months by symbolic incidents such as the sinking of the guided-missile cruiser Moskva, the flagship of its Black Sea fleet, under disputed circumstances. Moscow is also looking to project strength by following through with its planned Victory Day parade. Peskov reiterated that the parade would go ahead as planned. But while Russia has on occasion used missile bombardments around Ukraine to show its anger following flashpoints in the conflict, the ground fighting in eastern Ukraine has been bogged down in stalemate for months and it appears unlikely that Wednesday's incident will have a material impact on momentum.\n"
     ]
    }
   ],
   "source": [
    "# View text of review with ID T9909\n",
    "ArticleText = ds.text[1] # reviewText = ds['RevDescription']['T9909']\n",
    "print(\"Full review:\\n\",ArticleText)\n",
    "# There is HTML after \"My husband\" and after \"restaurant (treat)\"\n",
    "# &amp; is the HTML encoding for \"&\""
   ]
  },
  {
   "cell_type": "code",
   "execution_count": 117,
   "metadata": {},
   "outputs": [],
   "source": [
    "# Let's use BeatifulSoap to remove HMTL\n",
    "from bs4 import BeautifulSoup"
   ]
  },
  {
   "cell_type": "code",
   "execution_count": 118,
   "metadata": {},
   "outputs": [
    {
     "name": "stdout",
     "output_type": "stream",
     "text": [
      "Full review without HTML:\n",
      " The tight ring of security that surrounds the seat of the Russian presidency was punctured in dramatic fashion by what appeared to be two attempted drone strikes in the early hours of Wednesday morning. But until the Kremlin chose to publicize the incident around 12 hours later, social media footage of the incident had gained little attention. Why Russia decided to reveal the security breach is unclear. But in a five-paragraph statement on Wednesday, the Kremlin made the incendiary claim that the drones were an assassination attempt launched by Ukraine on the the Russian president, Vladimir Putin. Kyiv forcefully denied the claim. Kyiv was bombarded with missiles in the hours following Russia's claims, in keeping with Putin's historic willingness to strike Ukrainian cities after any alleged act of provocation. Many details about the incident remain murky. Here's what we know -- and the questions that remain. What happened? Moscow said the alleged attack took place in the early hours of Wednesday. Two \"unmanned aerial vehicles\" were intercepted and destroyed before they caused any damage or injury, the Kremlin said. The Russian president was not in the building at the time, according to Kremlin spokesperson Dmitry Peskov. Videos then emerged on social media appearing to show the incident. CNN analysis of these videos supports Moscow's claim that two drones were flown above the Kremlin. A video that appeared to show smoke rising from the Kremlin surfaced on a Telegram channel at 2:37 a.m. local time Wednesday. The first reports of the incident citing the Kremlin came via Russian state media TASS and RIA around 2:33 p.m. local time -- around 12 hours later. Shortly after the first media reports, another video appearing to show the moment a drone exploded above the Kremlin began circulating widely on social media. In the video, the apparent drone seems to fly towards the building's domed roof, followed by what looks like a small explosion. In this video, two people appear to be climbing on the dome holding flashlights, and can be seen ducking down just before the moment of the explosion. The people climbing the dome are not present in the first of these videos, but appear in the second, suggesting they were responding to the fire caused by the first drone at the time the subsequent drone appeared. Who's saying what? The Kremlin blamed Ukraine, describing the purported drone attack as an \"attempt on the President's life.\"  In a statement, the Kremlin said, \"We view these actions as a planned terrorist attack and an assassination attempt,\" adding that \"Russia reserves the right to take countermeasures wherever and whenever it deems appropriate.\" On Thursday, Russia also claimed the US was involved in the attack. \"Undoubtedly, Such decisions, the definition of goals, the definition of means -- all this is dictated to Kyiv from Washington,\" Peksov said. Both allegations drew sharp denials from Kyiv and Washington. \"We don't attack Putin or Moscow,\" President Volodymyr Zelensky said during a news conference in Helsinki on Wednesday. \"We fight on our territory, we are defending our villages and cities. We don't have enough weapon[s] for this. That's why we don't use it anywhere [else],\" Zelensky said. \"We didn't attack Putin. We leave it to tribunal,\" he said. John Kirby, the National Security Council's Coordinator for Strategic Communications, called Russia's allegation that the US directed Ukraine to carry out such an attack \"ridiculous.\" Secretary of State Anthony Blinken said it the US did not know who was responsible. \"I would take anything coming out of the Kremlin with a very large shaker of salt,\" he told a Washingon Post event on Wednesday. Who else could be responsible? If Ukraine wasn't the perpetrator, one possibility is that the incident was the work of Russian partisans -- as claimed by a former Russian lawmaker linked with militant groups in Russia. Ilya Ponomarev told CNN's Matthew Chance that \"it's one of (the) Russian partisan groups,\" adding that \"I cannot say more, as they have not yet publicly claimed responsibility.\" Ponomarev, who lives in exile in Ukraine and Poland, was the only Russian MP to vote against the annexation of Crimea by Russia in 2014 and has since been included on a list of terrorist suspects, according to the Russian authorities.  According to Ponomarev, members of partisans group inside Russia are usually \"youngsters, students, residents of large cities. I am aware of the partisan activity in approximately 40 cities across Russia,\" he told CNN.  Evidence of actual partisan activity inside Russia remains scant. A formation calling itself the Russian Volunteer Corps is fighting on the side of Kyiv in Ukraine and claimed to have carried out a brief armed incursion into Russian territory earlier this year, but the group's size is unclear. Russia claims Ukraine has carried out drone strikes on military airfields in western and southwestern Russia, but Kyiv has neither confirmed nor denied those allegations. US officials have also said they were still assessing the incident, and had no information about who might have been responsible. Whatever the truth, any admission of a security breach at the heart of the Kremlin is remarkable. What happens next? Moscow already launched a wave of missiles at Kyiv following the incident, a move in line with its playbook after previous flashpoints in the war. And messages written on Russian drones launched at Odesa overnight read \"for Moscow\" and \"for the Kremlin,\" according to the Ukrainian military, an apparent reference to the alleged attack. US and Ukrainian officials have in the past warned that Russia has planned so-called \"false flag\" attacks along Russia's border with Ukraine as a pretext for military escalation, including Russian claims ahead of last year's full-scale invasion that Ukraine was sending \"saboteurs\" over the Russian border.  Russia has also been embarrassed in recent months by symbolic incidents such as the sinking of the guided-missile cruiser Moskva, the flagship of its Black Sea fleet, under disputed circumstances. Moscow is also looking to project strength by following through with its planned Victory Day parade. Peskov reiterated that the parade would go ahead as planned. But while Russia has on occasion used missile bombardments around Ukraine to show its anger following flashpoints in the conflict, the ground fighting in eastern Ukraine has been bogged down in stalemate for months and it appears unlikely that Wednesday's incident will have a material impact on momentum.\n"
     ]
    }
   ],
   "source": [
    "# Let's now remove the HTML\n",
    "rawText = BeautifulSoup(ArticleText,'html.parser').get_text()\n",
    "print(\"Full review without HTML:\\n\",rawText)\n",
    "# Check the differences (&amp;) see the \"<br>\""
   ]
  },
  {
   "cell_type": "code",
   "execution_count": 119,
   "metadata": {},
   "outputs": [
    {
     "name": "stdout",
     "output_type": "stream",
     "text": [
      "Normalized text:\n",
      " the tight ring of security that surrounds the seat of the russian presidency was punctured in dramatic fashion by what appeared to be two attempted drone strikes in the early hours of wednesday morning. but until the kremlin chose to publicize the incident around 12 hours later, social media footage of the incident had gained little attention. why russia decided to reveal the security breach is unclear. but in a five-paragraph statement on wednesday, the kremlin made the incendiary claim that the drones were an assassination attempt launched by ukraine on the the russian president, vladimir putin. kyiv forcefully denied the claim. kyiv was bombarded with missiles in the hours following russia's claims, in keeping with putin's historic willingness to strike ukrainian cities after any alleged act of provocation. many details about the incident remain murky. here's what we know -- and the questions that remain. what happened? moscow said the alleged attack took place in the early hours of wednesday. two \"unmanned aerial vehicles\" were intercepted and destroyed before they caused any damage or injury, the kremlin said. the russian president was not in the building at the time, according to kremlin spokesperson dmitry peskov. videos then emerged on social media appearing to show the incident. cnn analysis of these videos supports moscow's claim that two drones were flown above the kremlin. a video that appeared to show smoke rising from the kremlin surfaced on a telegram channel at 2:37 a.m. local time wednesday. the first reports of the incident citing the kremlin came via russian state media tass and ria around 2:33 p.m. local time -- around 12 hours later. shortly after the first media reports, another video appearing to show the moment a drone exploded above the kremlin began circulating widely on social media. in the video, the apparent drone seems to fly towards the building's domed roof, followed by what looks like a small explosion. in this video, two people appear to be climbing on the dome holding flashlights, and can be seen ducking down just before the moment of the explosion. the people climbing the dome are not present in the first of these videos, but appear in the second, suggesting they were responding to the fire caused by the first drone at the time the subsequent drone appeared. who's saying what? the kremlin blamed ukraine, describing the purported drone attack as an \"attempt on the president's life.\"  in a statement, the kremlin said, \"we view these actions as a planned terrorist attack and an assassination attempt,\" adding that \"russia reserves the right to take countermeasures wherever and whenever it deems appropriate.\" on thursday, russia also claimed the us was involved in the attack. \"undoubtedly, such decisions, the definition of goals, the definition of means -- all this is dictated to kyiv from washington,\" peksov said. both allegations drew sharp denials from kyiv and washington. \"we don't attack putin or moscow,\" president volodymyr zelensky said during a news conference in helsinki on wednesday. \"we fight on our territory, we are defending our villages and cities. we don't have enough weapon[s] for this. that's why we don't use it anywhere [else],\" zelensky said. \"we didn't attack putin. we leave it to tribunal,\" he said. john kirby, the national security council's coordinator for strategic communications, called russia's allegation that the us directed ukraine to carry out such an attack \"ridiculous.\" secretary of state anthony blinken said it the us did not know who was responsible. \"i would take anything coming out of the kremlin with a very large shaker of salt,\" he told a washingon post event on wednesday. who else could be responsible? if ukraine wasn't the perpetrator, one possibility is that the incident was the work of russian partisans -- as claimed by a former russian lawmaker linked with militant groups in russia. ilya ponomarev told cnn's matthew chance that \"it's one of (the) russian partisan groups,\" adding that \"i cannot say more, as they have not yet publicly claimed responsibility.\" ponomarev, who lives in exile in ukraine and poland, was the only russian mp to vote against the annexation of crimea by russia in 2014 and has since been included on a list of terrorist suspects, according to the russian authorities.  according to ponomarev, members of partisans group inside russia are usually \"youngsters, students, residents of large cities. i am aware of the partisan activity in approximately 40 cities across russia,\" he told cnn.  evidence of actual partisan activity inside russia remains scant. a formation calling itself the russian volunteer corps is fighting on the side of kyiv in ukraine and claimed to have carried out a brief armed incursion into russian territory earlier this year, but the group's size is unclear. russia claims ukraine has carried out drone strikes on military airfields in western and southwestern russia, but kyiv has neither confirmed nor denied those allegations. us officials have also said they were still assessing the incident, and had no information about who might have been responsible. whatever the truth, any admission of a security breach at the heart of the kremlin is remarkable. what happens next? moscow already launched a wave of missiles at kyiv following the incident, a move in line with its playbook after previous flashpoints in the war. and messages written on russian drones launched at odesa overnight read \"for moscow\" and \"for the kremlin,\" according to the ukrainian military, an apparent reference to the alleged attack. us and ukrainian officials have in the past warned that russia has planned so-called \"false flag\" attacks along russia's border with ukraine as a pretext for military escalation, including russian claims ahead of last year's full-scale invasion that ukraine was sending \"saboteurs\" over the russian border.  russia has also been embarrassed in recent months by symbolic incidents such as the sinking of the guided-missile cruiser moskva, the flagship of its black sea fleet, under disputed circumstances. moscow is also looking to project strength by following through with its planned victory day parade. peskov reiterated that the parade would go ahead as planned. but while russia has on occasion used missile bombardments around ukraine to show its anger following flashpoints in the conflict, the ground fighting in eastern ukraine has been bogged down in stalemate for months and it appears unlikely that wednesday's incident will have a material impact on momentum.\n"
     ]
    }
   ],
   "source": [
    "# Normalize case\n",
    "# The typical is normalizing to lower case\n",
    "normalizedText = rawText.lower()\n",
    "print(\"Normalized text:\\n\",normalizedText)"
   ]
  },
  {
   "cell_type": "code",
   "execution_count": 120,
   "metadata": {},
   "outputs": [],
   "source": [
    "# Remove certain classes of characters (using \"regular expressions\" - regex)\n",
    "# For that let's use RE\n",
    "import re\n",
    "# To test regex online: https://regex101.com\n",
    "# Regex in more detail: https://www.machinelearningplus.com/python/python-regex-tutorial-examples/"
   ]
  },
  {
   "cell_type": "code",
   "execution_count": 121,
   "metadata": {},
   "outputs": [
    {
     "name": "stdout",
     "output_type": "stream",
     "text": [
      "Text without punctuation:\n",
      " the tight ring of security that surrounds the seat of the russian presidency was punctured in dramatic fashion by what appeared to be two attempted drone strikes in the early hours of wednesday morning but until the kremlin chose to publicize the incident around  hours later social media footage of the incident had gained little attention why russia decided to reveal the security breach is unclear but in a five-paragraph statement on wednesday the kremlin made the incendiary claim that the drones were an assassination attempt launched by ukraine on the the russian president vladimir putin kyiv forcefully denied the claim kyiv was bombarded with missiles in the hours following russia's claims in keeping with putin's historic willingness to strike ukrainian cities after any alleged act of provocation many details about the incident remain murky here's what we know  and the questions that remain what happened moscow said the alleged attack took place in the early hours of wednesday two unmanned aerial vehicles were intercepted and destroyed before they caused any damage or injury the kremlin said the russian president was not in the building at the time according to kremlin spokesperson dmitry peskov videos then emerged on social media appearing to show the incident cnn analysis of these videos supports moscow's claim that two drones were flown above the kremlin a video that appeared to show smoke rising from the kremlin surfaced on a telegram channel at : am local time wednesday the first reports of the incident citing the kremlin came via russian state media tass and ria around : pm local time  around  hours later shortly after the first media reports another video appearing to show the moment a drone exploded above the kremlin began circulating widely on social media in the video the apparent drone seems to fly towards the building's domed roof followed by what looks like a small explosion in this video two people appear to be climbing on the dome holding flashlights and can be seen ducking down just before the moment of the explosion the people climbing the dome are not present in the first of these videos but appear in the second suggesting they were responding to the fire caused by the first drone at the time the subsequent drone appeared who's saying what the kremlin blamed ukraine describing the purported drone attack as an attempt on the president's life  in a statement the kremlin said we view these actions as a planned terrorist attack and an assassination attempt adding that russia reserves the right to take countermeasures wherever and whenever it deems appropriate on thursday russia also claimed the us was involved in the attack undoubtedly such decisions the definition of goals the definition of means  all this is dictated to kyiv from washington peksov said both allegations drew sharp denials from kyiv and washington we don't attack putin or moscow president volodymyr zelensky said during a news conference in helsinki on wednesday we fight on our territory we are defending our villages and cities we don't have enough weapon[s] for this that's why we don't use it anywhere [else] zelensky said we didn't attack putin we leave it to tribunal he said john kirby the national security council's coordinator for strategic communications called russia's allegation that the us directed ukraine to carry out such an attack ridiculous secretary of state anthony blinken said it the us did not know who was responsible i would take anything coming out of the kremlin with a very large shaker of salt he told a washingon post event on wednesday who else could be responsible if ukraine wasn't the perpetrator one possibility is that the incident was the work of russian partisans  as claimed by a former russian lawmaker linked with militant groups in russia ilya ponomarev told cnn's matthew chance that it's one of the russian partisan groups adding that i cannot say more as they have not yet publicly claimed responsibility ponomarev who lives in exile in ukraine and poland was the only russian mp to vote against the annexation of crimea by russia in  and has since been included on a list of terrorist suspects according to the russian authorities  according to ponomarev members of partisans group inside russia are usually youngsters students residents of large cities i am aware of the partisan activity in approximately  cities across russia he told cnn  evidence of actual partisan activity inside russia remains scant a formation calling itself the russian volunteer corps is fighting on the side of kyiv in ukraine and claimed to have carried out a brief armed incursion into russian territory earlier this year but the group's size is unclear russia claims ukraine has carried out drone strikes on military airfields in western and southwestern russia but kyiv has neither confirmed nor denied those allegations us officials have also said they were still assessing the incident and had no information about who might have been responsible whatever the truth any admission of a security breach at the heart of the kremlin is remarkable what happens next moscow already launched a wave of missiles at kyiv following the incident a move in line with its playbook after previous flashpoints in the war and messages written on russian drones launched at odesa overnight read for moscow and for the kremlin according to the ukrainian military an apparent reference to the alleged attack us and ukrainian officials have in the past warned that russia has planned so-called false flag attacks along russia's border with ukraine as a pretext for military escalation including russian claims ahead of last year's full-scale invasion that ukraine was sending saboteurs over the russian border  russia has also been embarrassed in recent months by symbolic incidents such as the sinking of the guided-missile cruiser moskva the flagship of its black sea fleet under disputed circumstances moscow is also looking to project strength by following through with its planned victory day parade peskov reiterated that the parade would go ahead as planned but while russia has on occasion used missile bombardments around ukraine to show its anger following flashpoints in the conflict the ground fighting in eastern ukraine has been bogged down in stalemate for months and it appears unlikely that wednesday's incident will have a material impact on momentum\n"
     ]
    }
   ],
   "source": [
    "# Remove punctation and other characters such as \"&\"\n",
    "charsToRemove = r\"\\?|\\.|\\!|\\;|\\.|\\\"|\\,|\\(|\\)|\\&|[0-9]|--| [ ] \"\n",
    "textWOPunctuation = re.sub(charsToRemove,'', normalizedText)\n",
    "print(\"Text without punctuation:\\n\",textWOPunctuation)"
   ]
  },
  {
   "cell_type": "code",
   "execution_count": 122,
   "metadata": {},
   "outputs": [
    {
     "name": "stdout",
     "output_type": "stream",
     "text": [
      "{'why', 'haven', 'how', 'just', 'are', 'her', 'if', 'then', 'needn', 'nor', 'was', 'they', \"should've\", 'theirs', 'some', \"didn't\", 'once', 'more', 't', 'does', 'do', 'the', \"won't\", \"you'll\", 's', 'ma', 'who', 'as', 'where', 'y', \"mustn't\", 'don', 'through', 'were', 'under', 'when', \"isn't\", 'by', 'but', 'will', 'for', 'with', 'from', 'ain', 'yours', 'your', 'into', 'that', 'not', 'hers', 'very', 'and', 'me', 'whom', 'a', 'such', 'it', 'same', 'o', 'below', 're', 'she', 'further', 'which', 'this', 'during', \"that'll\", 'these', 'above', 'itself', 'yourselves', 'while', 'so', 'my', 'mustn', 'shouldn', 'too', 'can', \"you've\", 'now', \"hasn't\", 'didn', 'what', 'shan', 'have', \"aren't\", 'before', 'its', \"haven't\", 'ourselves', 'is', 'because', 'hadn', 've', 'again', 'down', \"it's\", 'wasn', 'no', \"doesn't\", \"hadn't\", 'has', \"don't\", 'doing', 'over', 'to', 'both', 'being', 'm', 'our', 'wouldn', 'yourself', 'between', 'herself', 'at', 'out', 'myself', 'll', 'or', 'mightn', 'than', \"weren't\", 'few', 'own', 'd', 'on', 'themselves', 'himself', 'up', 'am', \"shouldn't\", \"you're\", 'after', \"wouldn't\", 'of', 'did', 'he', 'about', \"mightn't\", 'them', 'i', 'any', 'doesn', \"wasn't\", \"you'd\", 'other', 'all', 'here', 'against', 'weren', 'those', 'in', 'been', 'most', 'hasn', 'off', 'each', 'couldn', 'their', \"shan't\", 'should', \"she's\", 'having', 'him', 'won', 'ours', 'be', 'an', \"couldn't\", 'we', 'you', 'only', 'until', 'aren', 'his', 'had', 'there', 'isn', \"needn't\"}\n"
     ]
    },
    {
     "name": "stderr",
     "output_type": "stream",
     "text": [
      "[nltk_data] Downloading package stopwords to\n",
      "[nltk_data]     C:\\Users\\User\\AppData\\Roaming\\nltk_data...\n",
      "[nltk_data]   Package stopwords is already up-to-date!\n"
     ]
    }
   ],
   "source": [
    "# Download the stopwords resource\n",
    "import nltk\n",
    "nltk.download('stopwords')\n",
    "\n",
    "# Now, let's remove stop words\n",
    "# Let's start by getting the package and checking them\n",
    "from nltk.corpus import stopwords\n",
    "stop_words = set(stopwords.words('english'))\n",
    "print(stop_words)"
   ]
  },
  {
   "cell_type": "code",
   "execution_count": 123,
   "metadata": {},
   "outputs": [
    {
     "name": "stdout",
     "output_type": "stream",
     "text": [
      "List of words:\n",
      " ['the', 'tight', 'ring', 'of', 'security', 'that', 'surrounds', 'the', 'seat', 'of', 'the', 'russian', 'presidency', 'was', 'punctured', 'in', 'dramatic', 'fashion', 'by', 'what', 'appeared', 'to', 'be', 'two', 'attempted', 'drone', 'strikes', 'in', 'the', 'early', 'hours', 'of', 'wednesday', 'morning', 'but', 'until', 'the', 'kremlin', 'chose', 'to', 'publicize', 'the', 'incident', 'around', 'hours', 'later', 'social', 'media', 'footage', 'of', 'the', 'incident', 'had', 'gained', 'little', 'attention', 'why', 'russia', 'decided', 'to', 'reveal', 'the', 'security', 'breach', 'is', 'unclear', 'but', 'in', 'a', 'five-paragraph', 'statement', 'on', 'wednesday', 'the', 'kremlin', 'made', 'the', 'incendiary', 'claim', 'that', 'the', 'drones', 'were', 'an', 'assassination', 'attempt', 'launched', 'by', 'ukraine', 'on', 'the', 'the', 'russian', 'president', 'vladimir', 'putin', 'kyiv', 'forcefully', 'denied', 'the', 'claim', 'kyiv', 'was', 'bombarded', 'with', 'missiles', 'in', 'the', 'hours', 'following', 'russia', \"'s\", 'claims', 'in', 'keeping', 'with', 'putin', \"'s\", 'historic', 'willingness', 'to', 'strike', 'ukrainian', 'cities', 'after', 'any', 'alleged', 'act', 'of', 'provocation', 'many', 'details', 'about', 'the', 'incident', 'remain', 'murky', 'here', \"'s\", 'what', 'we', 'know', 'and', 'the', 'questions', 'that', 'remain', 'what', 'happened', 'moscow', 'said', 'the', 'alleged', 'attack', 'took', 'place', 'in', 'the', 'early', 'hours', 'of', 'wednesday', 'two', 'unmanned', 'aerial', 'vehicles', 'were', 'intercepted', 'and', 'destroyed', 'before', 'they', 'caused', 'any', 'damage', 'or', 'injury', 'the', 'kremlin', 'said', 'the', 'russian', 'president', 'was', 'not', 'in', 'the', 'building', 'at', 'the', 'time', 'according', 'to', 'kremlin', 'spokesperson', 'dmitry', 'peskov', 'videos', 'then', 'emerged', 'on', 'social', 'media', 'appearing', 'to', 'show', 'the', 'incident', 'cnn', 'analysis', 'of', 'these', 'videos', 'supports', 'moscow', \"'s\", 'claim', 'that', 'two', 'drones', 'were', 'flown', 'above', 'the', 'kremlin', 'a', 'video', 'that', 'appeared', 'to', 'show', 'smoke', 'rising', 'from', 'the', 'kremlin', 'surfaced', 'on', 'a', 'telegram', 'channel', 'at', ':', 'am', 'local', 'time', 'wednesday', 'the', 'first', 'reports', 'of', 'the', 'incident', 'citing', 'the', 'kremlin', 'came', 'via', 'russian', 'state', 'media', 'tass', 'and', 'ria', 'around', ':', 'pm', 'local', 'time', 'around', 'hours', 'later', 'shortly', 'after', 'the', 'first', 'media', 'reports', 'another', 'video', 'appearing', 'to', 'show', 'the', 'moment', 'a', 'drone', 'exploded', 'above', 'the', 'kremlin', 'began', 'circulating', 'widely', 'on', 'social', 'media', 'in', 'the', 'video', 'the', 'apparent', 'drone', 'seems', 'to', 'fly', 'towards', 'the', 'building', \"'s\", 'domed', 'roof', 'followed', 'by', 'what', 'looks', 'like', 'a', 'small', 'explosion', 'in', 'this', 'video', 'two', 'people', 'appear', 'to', 'be', 'climbing', 'on', 'the', 'dome', 'holding', 'flashlights', 'and', 'can', 'be', 'seen', 'ducking', 'down', 'just', 'before', 'the', 'moment', 'of', 'the', 'explosion', 'the', 'people', 'climbing', 'the', 'dome', 'are', 'not', 'present', 'in', 'the', 'first', 'of', 'these', 'videos', 'but', 'appear', 'in', 'the', 'second', 'suggesting', 'they', 'were', 'responding', 'to', 'the', 'fire', 'caused', 'by', 'the', 'first', 'drone', 'at', 'the', 'time', 'the', 'subsequent', 'drone', 'appeared', 'who', \"'s\", 'saying', 'what', 'the', 'kremlin', 'blamed', 'ukraine', 'describing', 'the', 'purported', 'drone', 'attack', 'as', 'an', 'attempt', 'on', 'the', 'president', \"'s\", 'life', 'in', 'a', 'statement', 'the', 'kremlin', 'said', 'we', 'view', 'these', 'actions', 'as', 'a', 'planned', 'terrorist', 'attack', 'and', 'an', 'assassination', 'attempt', 'adding', 'that', 'russia', 'reserves', 'the', 'right', 'to', 'take', 'countermeasures', 'wherever', 'and', 'whenever', 'it', 'deems', 'appropriate', 'on', 'thursday', 'russia', 'also', 'claimed', 'the', 'us', 'was', 'involved', 'in', 'the', 'attack', 'undoubtedly', 'such', 'decisions', 'the', 'definition', 'of', 'goals', 'the', 'definition', 'of', 'means', 'all', 'this', 'is', 'dictated', 'to', 'kyiv', 'from', 'washington', 'peksov', 'said', 'both', 'allegations', 'drew', 'sharp', 'denials', 'from', 'kyiv', 'and', 'washington', 'we', 'do', \"n't\", 'attack', 'putin', 'or', 'moscow', 'president', 'volodymyr', 'zelensky', 'said', 'during', 'a', 'news', 'conference', 'in', 'helsinki', 'on', 'wednesday', 'we', 'fight', 'on', 'our', 'territory', 'we', 'are', 'defending', 'our', 'villages', 'and', 'cities', 'we', 'do', \"n't\", 'have', 'enough', 'weapon', '[', 's', ']', 'for', 'this', 'that', \"'s\", 'why', 'we', 'do', \"n't\", 'use', 'it', 'anywhere', '[', 'else', ']', 'zelensky', 'said', 'we', 'did', \"n't\", 'attack', 'putin', 'we', 'leave', 'it', 'to', 'tribunal', 'he', 'said', 'john', 'kirby', 'the', 'national', 'security', 'council', \"'s\", 'coordinator', 'for', 'strategic', 'communications', 'called', 'russia', \"'s\", 'allegation', 'that', 'the', 'us', 'directed', 'ukraine', 'to', 'carry', 'out', 'such', 'an', 'attack', 'ridiculous', 'secretary', 'of', 'state', 'anthony', 'blinken', 'said', 'it', 'the', 'us', 'did', 'not', 'know', 'who', 'was', 'responsible', 'i', 'would', 'take', 'anything', 'coming', 'out', 'of', 'the', 'kremlin', 'with', 'a', 'very', 'large', 'shaker', 'of', 'salt', 'he', 'told', 'a', 'washingon', 'post', 'event', 'on', 'wednesday', 'who', 'else', 'could', 'be', 'responsible', 'if', 'ukraine', 'was', \"n't\", 'the', 'perpetrator', 'one', 'possibility', 'is', 'that', 'the', 'incident', 'was', 'the', 'work', 'of', 'russian', 'partisans', 'as', 'claimed', 'by', 'a', 'former', 'russian', 'lawmaker', 'linked', 'with', 'militant', 'groups', 'in', 'russia', 'ilya', 'ponomarev', 'told', 'cnn', \"'s\", 'matthew', 'chance', 'that', 'it', \"'s\", 'one', 'of', 'the', 'russian', 'partisan', 'groups', 'adding', 'that', 'i', 'can', 'not', 'say', 'more', 'as', 'they', 'have', 'not', 'yet', 'publicly', 'claimed', 'responsibility', 'ponomarev', 'who', 'lives', 'in', 'exile', 'in', 'ukraine', 'and', 'poland', 'was', 'the', 'only', 'russian', 'mp', 'to', 'vote', 'against', 'the', 'annexation', 'of', 'crimea', 'by', 'russia', 'in', 'and', 'has', 'since', 'been', 'included', 'on', 'a', 'list', 'of', 'terrorist', 'suspects', 'according', 'to', 'the', 'russian', 'authorities', 'according', 'to', 'ponomarev', 'members', 'of', 'partisans', 'group', 'inside', 'russia', 'are', 'usually', 'youngsters', 'students', 'residents', 'of', 'large', 'cities', 'i', 'am', 'aware', 'of', 'the', 'partisan', 'activity', 'in', 'approximately', 'cities', 'across', 'russia', 'he', 'told', 'cnn', 'evidence', 'of', 'actual', 'partisan', 'activity', 'inside', 'russia', 'remains', 'scant', 'a', 'formation', 'calling', 'itself', 'the', 'russian', 'volunteer', 'corps', 'is', 'fighting', 'on', 'the', 'side', 'of', 'kyiv', 'in', 'ukraine', 'and', 'claimed', 'to', 'have', 'carried', 'out', 'a', 'brief', 'armed', 'incursion', 'into', 'russian', 'territory', 'earlier', 'this', 'year', 'but', 'the', 'group', \"'s\", 'size', 'is', 'unclear', 'russia', 'claims', 'ukraine', 'has', 'carried', 'out', 'drone', 'strikes', 'on', 'military', 'airfields', 'in', 'western', 'and', 'southwestern', 'russia', 'but', 'kyiv', 'has', 'neither', 'confirmed', 'nor', 'denied', 'those', 'allegations', 'us', 'officials', 'have', 'also', 'said', 'they', 'were', 'still', 'assessing', 'the', 'incident', 'and', 'had', 'no', 'information', 'about', 'who', 'might', 'have', 'been', 'responsible', 'whatever', 'the', 'truth', 'any', 'admission', 'of', 'a', 'security', 'breach', 'at', 'the', 'heart', 'of', 'the', 'kremlin', 'is', 'remarkable', 'what', 'happens', 'next', 'moscow', 'already', 'launched', 'a', 'wave', 'of', 'missiles', 'at', 'kyiv', 'following', 'the', 'incident', 'a', 'move', 'in', 'line', 'with', 'its', 'playbook', 'after', 'previous', 'flashpoints', 'in', 'the', 'war', 'and', 'messages', 'written', 'on', 'russian', 'drones', 'launched', 'at', 'odesa', 'overnight', 'read', 'for', 'moscow', 'and', 'for', 'the', 'kremlin', 'according', 'to', 'the', 'ukrainian', 'military', 'an', 'apparent', 'reference', 'to', 'the', 'alleged', 'attack', 'us', 'and', 'ukrainian', 'officials', 'have', 'in', 'the', 'past', 'warned', 'that', 'russia', 'has', 'planned', 'so-called', 'false', 'flag', 'attacks', 'along', 'russia', \"'s\", 'border', 'with', 'ukraine', 'as', 'a', 'pretext', 'for', 'military', 'escalation', 'including', 'russian', 'claims', 'ahead', 'of', 'last', 'year', \"'s\", 'full-scale', 'invasion', 'that', 'ukraine', 'was', 'sending', 'saboteurs', 'over', 'the', 'russian', 'border', 'russia', 'has', 'also', 'been', 'embarrassed', 'in', 'recent', 'months', 'by', 'symbolic', 'incidents', 'such', 'as', 'the', 'sinking', 'of', 'the', 'guided-missile', 'cruiser', 'moskva', 'the', 'flagship', 'of', 'its', 'black', 'sea', 'fleet', 'under', 'disputed', 'circumstances', 'moscow', 'is', 'also', 'looking', 'to', 'project', 'strength', 'by', 'following', 'through', 'with', 'its', 'planned', 'victory', 'day', 'parade', 'peskov', 'reiterated', 'that', 'the', 'parade', 'would', 'go', 'ahead', 'as', 'planned', 'but', 'while', 'russia', 'has', 'on', 'occasion', 'used', 'missile', 'bombardments', 'around', 'ukraine', 'to', 'show', 'its', 'anger', 'following', 'flashpoints', 'in', 'the', 'conflict', 'the', 'ground', 'fighting', 'in', 'eastern', 'ukraine', 'has', 'been', 'bogged', 'down', 'in', 'stalemate', 'for', 'months', 'and', 'it', 'appears', 'unlikely', 'that', 'wednesday', \"'s\", 'incident', 'will', 'have', 'a', 'material', 'impact', 'on', 'momentum']\n"
     ]
    },
    {
     "name": "stderr",
     "output_type": "stream",
     "text": [
      "[nltk_data] Downloading package punkt to\n",
      "[nltk_data]     C:\\Users\\User\\AppData\\Roaming\\nltk_data...\n",
      "[nltk_data]   Package punkt is already up-to-date!\n"
     ]
    }
   ],
   "source": [
    "nltk.download('punkt')\n",
    "\n",
    "# Your code below which means it breaks down the text into individual words or tokens\n",
    "from nltk.tokenize import word_tokenize\n",
    "tokenizedText = word_tokenize(textWOPunctuation, language='english') #parameter is set in English language\n",
    "print(\"List of words:\\n\",tokenizedText)"
   ]
  },
  {
   "cell_type": "code",
   "execution_count": 124,
   "metadata": {},
   "outputs": [
    {
     "name": "stdout",
     "output_type": "stream",
     "text": [
      "Text without stopwords:\n",
      " ['tight', 'ring', 'security', 'surrounds', 'seat', 'russian', 'presidency', 'punctured', 'dramatic', 'fashion', 'appeared', 'two', 'attempted', 'drone', 'strikes', 'early', 'hours', 'wednesday', 'morning', 'kremlin', 'chose', 'publicize', 'incident', 'around', 'hours', 'later', 'social', 'media', 'footage', 'incident', 'gained', 'little', 'attention', 'russia', 'decided', 'reveal', 'security', 'breach', 'unclear', 'five-paragraph', 'statement', 'wednesday', 'kremlin', 'made', 'incendiary', 'claim', 'drones', 'assassination', 'attempt', 'launched', 'ukraine', 'russian', 'president', 'vladimir', 'putin', 'kyiv', 'forcefully', 'denied', 'claim', 'kyiv', 'bombarded', 'missiles', 'hours', 'following', 'russia', \"'s\", 'claims', 'keeping', 'putin', \"'s\", 'historic', 'willingness', 'strike', 'ukrainian', 'cities', 'alleged', 'act', 'provocation', 'many', 'details', 'incident', 'remain', 'murky', \"'s\", 'know', 'questions', 'remain', 'happened', 'moscow', 'said', 'alleged', 'attack', 'took', 'place', 'early', 'hours', 'wednesday', 'two', 'unmanned', 'aerial', 'vehicles', 'intercepted', 'destroyed', 'caused', 'damage', 'injury', 'kremlin', 'said', 'russian', 'president', 'building', 'time', 'according', 'kremlin', 'spokesperson', 'dmitry', 'peskov', 'videos', 'emerged', 'social', 'media', 'appearing', 'show', 'incident', 'cnn', 'analysis', 'videos', 'supports', 'moscow', \"'s\", 'claim', 'two', 'drones', 'flown', 'kremlin', 'video', 'appeared', 'show', 'smoke', 'rising', 'kremlin', 'surfaced', 'telegram', 'channel', ':', 'local', 'time', 'wednesday', 'first', 'reports', 'incident', 'citing', 'kremlin', 'came', 'via', 'russian', 'state', 'media', 'tass', 'ria', 'around', ':', 'pm', 'local', 'time', 'around', 'hours', 'later', 'shortly', 'first', 'media', 'reports', 'another', 'video', 'appearing', 'show', 'moment', 'drone', 'exploded', 'kremlin', 'began', 'circulating', 'widely', 'social', 'media', 'video', 'apparent', 'drone', 'seems', 'fly', 'towards', 'building', \"'s\", 'domed', 'roof', 'followed', 'looks', 'like', 'small', 'explosion', 'video', 'two', 'people', 'appear', 'climbing', 'dome', 'holding', 'flashlights', 'seen', 'ducking', 'moment', 'explosion', 'people', 'climbing', 'dome', 'present', 'first', 'videos', 'appear', 'second', 'suggesting', 'responding', 'fire', 'caused', 'first', 'drone', 'time', 'subsequent', 'drone', 'appeared', \"'s\", 'saying', 'kremlin', 'blamed', 'ukraine', 'describing', 'purported', 'drone', 'attack', 'attempt', 'president', \"'s\", 'life', 'statement', 'kremlin', 'said', 'view', 'actions', 'planned', 'terrorist', 'attack', 'assassination', 'attempt', 'adding', 'russia', 'reserves', 'right', 'take', 'countermeasures', 'wherever', 'whenever', 'deems', 'appropriate', 'thursday', 'russia', 'also', 'claimed', 'us', 'involved', 'attack', 'undoubtedly', 'decisions', 'definition', 'goals', 'definition', 'means', 'dictated', 'kyiv', 'washington', 'peksov', 'said', 'allegations', 'drew', 'sharp', 'denials', 'kyiv', 'washington', \"n't\", 'attack', 'putin', 'moscow', 'president', 'volodymyr', 'zelensky', 'said', 'news', 'conference', 'helsinki', 'wednesday', 'fight', 'territory', 'defending', 'villages', 'cities', \"n't\", 'enough', 'weapon', '[', ']', \"'s\", \"n't\", 'use', 'anywhere', '[', 'else', ']', 'zelensky', 'said', \"n't\", 'attack', 'putin', 'leave', 'tribunal', 'said', 'john', 'kirby', 'national', 'security', 'council', \"'s\", 'coordinator', 'strategic', 'communications', 'called', 'russia', \"'s\", 'allegation', 'us', 'directed', 'ukraine', 'carry', 'attack', 'ridiculous', 'secretary', 'state', 'anthony', 'blinken', 'said', 'us', 'know', 'responsible', 'would', 'take', 'anything', 'coming', 'kremlin', 'large', 'shaker', 'salt', 'told', 'washingon', 'post', 'event', 'wednesday', 'else', 'could', 'responsible', 'ukraine', \"n't\", 'perpetrator', 'one', 'possibility', 'incident', 'work', 'russian', 'partisans', 'claimed', 'former', 'russian', 'lawmaker', 'linked', 'militant', 'groups', 'russia', 'ilya', 'ponomarev', 'told', 'cnn', \"'s\", 'matthew', 'chance', \"'s\", 'one', 'russian', 'partisan', 'groups', 'adding', 'say', 'yet', 'publicly', 'claimed', 'responsibility', 'ponomarev', 'lives', 'exile', 'ukraine', 'poland', 'russian', 'mp', 'vote', 'annexation', 'crimea', 'russia', 'since', 'included', 'list', 'terrorist', 'suspects', 'according', 'russian', 'authorities', 'according', 'ponomarev', 'members', 'partisans', 'group', 'inside', 'russia', 'usually', 'youngsters', 'students', 'residents', 'large', 'cities', 'aware', 'partisan', 'activity', 'approximately', 'cities', 'across', 'russia', 'told', 'cnn', 'evidence', 'actual', 'partisan', 'activity', 'inside', 'russia', 'remains', 'scant', 'formation', 'calling', 'russian', 'volunteer', 'corps', 'fighting', 'side', 'kyiv', 'ukraine', 'claimed', 'carried', 'brief', 'armed', 'incursion', 'russian', 'territory', 'earlier', 'year', 'group', \"'s\", 'size', 'unclear', 'russia', 'claims', 'ukraine', 'carried', 'drone', 'strikes', 'military', 'airfields', 'western', 'southwestern', 'russia', 'kyiv', 'neither', 'confirmed', 'denied', 'allegations', 'us', 'officials', 'also', 'said', 'still', 'assessing', 'incident', 'information', 'might', 'responsible', 'whatever', 'truth', 'admission', 'security', 'breach', 'heart', 'kremlin', 'remarkable', 'happens', 'next', 'moscow', 'already', 'launched', 'wave', 'missiles', 'kyiv', 'following', 'incident', 'move', 'line', 'playbook', 'previous', 'flashpoints', 'war', 'messages', 'written', 'russian', 'drones', 'launched', 'odesa', 'overnight', 'read', 'moscow', 'kremlin', 'according', 'ukrainian', 'military', 'apparent', 'reference', 'alleged', 'attack', 'us', 'ukrainian', 'officials', 'past', 'warned', 'russia', 'planned', 'so-called', 'false', 'flag', 'attacks', 'along', 'russia', \"'s\", 'border', 'ukraine', 'pretext', 'military', 'escalation', 'including', 'russian', 'claims', 'ahead', 'last', 'year', \"'s\", 'full-scale', 'invasion', 'ukraine', 'sending', 'saboteurs', 'russian', 'border', 'russia', 'also', 'embarrassed', 'recent', 'months', 'symbolic', 'incidents', 'sinking', 'guided-missile', 'cruiser', 'moskva', 'flagship', 'black', 'sea', 'fleet', 'disputed', 'circumstances', 'moscow', 'also', 'looking', 'project', 'strength', 'following', 'planned', 'victory', 'day', 'parade', 'peskov', 'reiterated', 'parade', 'would', 'go', 'ahead', 'planned', 'russia', 'occasion', 'used', 'missile', 'bombardments', 'around', 'ukraine', 'show', 'anger', 'following', 'flashpoints', 'conflict', 'ground', 'fighting', 'eastern', 'ukraine', 'bogged', 'stalemate', 'months', 'appears', 'unlikely', 'wednesday', \"'s\", 'incident', 'material', 'impact', 'momentum']\n"
     ]
    }
   ],
   "source": [
    "# Let's create a list with all words that are not part of the stop words list\n",
    "\n",
    "cleanedText = []\n",
    "for t in tokenizedText:\n",
    "    if t not in stop_words:\n",
    "        cleanedText.append(t)\n",
    "print(\"Text without stopwords:\\n\",cleanedText) "
   ]
  },
  {
   "cell_type": "code",
   "execution_count": 125,
   "metadata": {},
   "outputs": [
    {
     "name": "stdout",
     "output_type": "stream",
     "text": [
      "Full sentence with changes so far:\n",
      " tight ring security surrounds seat russian presidency punctured dramatic fashion appeared two attempted drone strikes early hours wednesday morning kremlin chose publicize incident around hours later social media footage incident gained little attention russia decided reveal security breach unclear five-paragraph statement wednesday kremlin made incendiary claim drones assassination attempt launched ukraine russian president vladimir putin kyiv forcefully denied claim kyiv bombarded missiles hours following russia 's claims keeping putin 's historic willingness strike ukrainian cities alleged act provocation many details incident remain murky 's know questions remain happened moscow said alleged attack took place early hours wednesday two unmanned aerial vehicles intercepted destroyed caused damage injury kremlin said russian president building time according kremlin spokesperson dmitry peskov videos emerged social media appearing show incident cnn analysis videos supports moscow 's claim two drones flown kremlin video appeared show smoke rising kremlin surfaced telegram channel : local time wednesday first reports incident citing kremlin came via russian state media tass ria around : pm local time around hours later shortly first media reports another video appearing show moment drone exploded kremlin began circulating widely social media video apparent drone seems fly towards building 's domed roof followed looks like small explosion video two people appear climbing dome holding flashlights seen ducking moment explosion people climbing dome present first videos appear second suggesting responding fire caused first drone time subsequent drone appeared 's saying kremlin blamed ukraine describing purported drone attack attempt president 's life statement kremlin said view actions planned terrorist attack assassination attempt adding russia reserves right take countermeasures wherever whenever deems appropriate thursday russia also claimed us involved attack undoubtedly decisions definition goals definition means dictated kyiv washington peksov said allegations drew sharp denials kyiv washington n't attack putin moscow president volodymyr zelensky said news conference helsinki wednesday fight territory defending villages cities n't enough weapon [ ] 's n't use anywhere [ else ] zelensky said n't attack putin leave tribunal said john kirby national security council 's coordinator strategic communications called russia 's allegation us directed ukraine carry attack ridiculous secretary state anthony blinken said us know responsible would take anything coming kremlin large shaker salt told washingon post event wednesday else could responsible ukraine n't perpetrator one possibility incident work russian partisans claimed former russian lawmaker linked militant groups russia ilya ponomarev told cnn 's matthew chance 's one russian partisan groups adding say yet publicly claimed responsibility ponomarev lives exile ukraine poland russian mp vote annexation crimea russia since included list terrorist suspects according russian authorities according ponomarev members partisans group inside russia usually youngsters students residents large cities aware partisan activity approximately cities across russia told cnn evidence actual partisan activity inside russia remains scant formation calling russian volunteer corps fighting side kyiv ukraine claimed carried brief armed incursion russian territory earlier year group 's size unclear russia claims ukraine carried drone strikes military airfields western southwestern russia kyiv neither confirmed denied allegations us officials also said still assessing incident information might responsible whatever truth admission security breach heart kremlin remarkable happens next moscow already launched wave missiles kyiv following incident move line playbook previous flashpoints war messages written russian drones launched odesa overnight read moscow kremlin according ukrainian military apparent reference alleged attack us ukrainian officials past warned russia planned so-called false flag attacks along russia 's border ukraine pretext military escalation including russian claims ahead last year 's full-scale invasion ukraine sending saboteurs russian border russia also embarrassed recent months symbolic incidents sinking guided-missile cruiser moskva flagship black sea fleet disputed circumstances moscow also looking project strength following planned victory day parade peskov reiterated parade would go ahead planned russia occasion used missile bombardments around ukraine show anger following flashpoints conflict ground fighting eastern ukraine bogged stalemate months appears unlikely wednesday 's incident material impact momentum\n"
     ]
    }
   ],
   "source": [
    "# Now, let's concatenate it again to a sentence\n",
    "newText = ''\n",
    "for t in cleanedText:\n",
    "  newText = newText + t + ' '\n",
    "newText = newText.rstrip() # rstring (remove spaces at the right of the string)\n",
    "print(\"Full sentence with changes so far:\\n\", newText)"
   ]
  },
  {
   "cell_type": "code",
   "execution_count": 126,
   "metadata": {},
   "outputs": [],
   "source": [
    "# Many times terms need to be replaced for other terms\n",
    "# E.g., wi-fi, wifi, internet, wi fi\n",
    "# In this example: tub by bathtub\n",
    "#newText = (\" \"+newText+\" \").replace(\" tub \",\" bathtub \")\n",
    "#print(\"Text the replacements:\\n\", newText)\n",
    "\n",
    "#WHY THE \" [ AND '  ]'  ARE STILL THERRE EVE THOUGH I REMOVED THEM"
   ]
  },
  {
   "cell_type": "code",
   "execution_count": 127,
   "metadata": {},
   "outputs": [
    {
     "name": "stderr",
     "output_type": "stream",
     "text": [
      "[nltk_data] Downloading package wordnet to\n",
      "[nltk_data]     C:\\Users\\User\\AppData\\Roaming\\nltk_data...\n",
      "[nltk_data]   Package wordnet is already up-to-date!\n",
      "[nltk_data] Downloading package omw to\n",
      "[nltk_data]     C:\\Users\\User\\AppData\\Roaming\\nltk_data...\n",
      "[nltk_data]   Package omw is already up-to-date!\n",
      "[nltk_data] Downloading package omw-1.4 to\n",
      "[nltk_data]     C:\\Users\\User\\AppData\\Roaming\\nltk_data...\n",
      "[nltk_data]   Package omw-1.4 is already up-to-date!\n"
     ]
    },
    {
     "data": {
      "text/plain": [
       "True"
      ]
     },
     "execution_count": 127,
     "metadata": {},
     "output_type": "execute_result"
    }
   ],
   "source": [
    "# Now, let's lemmatize the text - reduce terms to their origin \n",
    "# Let's start by loading the necessary package\n",
    "from nltk.stem.wordnet import WordNetLemmatizer\n",
    "import nltk\n",
    "nltk.download('wordnet')\n",
    "nltk.download('omw')\n",
    "nltk.download('omw-1.4')"
   ]
  },
  {
   "cell_type": "code",
   "execution_count": 128,
   "metadata": {},
   "outputs": [
    {
     "name": "stdout",
     "output_type": "stream",
     "text": [
      "Lemmatized text :\n",
      " ['tight', 'ring', 'security', 'surround', 'seat', 'russian', 'presidency', 'punctured', 'dramatic', 'fashion', 'appeared', 'two', 'attempted', 'drone', 'strike', 'early', 'hour', 'wednesday', 'morning', 'kremlin', 'chose', 'publicize', 'incident', 'around', 'hour', 'later', 'social', 'medium', 'footage', 'incident', 'gained', 'little', 'attention', 'russia', 'decided', 'reveal', 'security', 'breach', 'unclear', 'five-paragraph', 'statement', 'wednesday', 'kremlin', 'made', 'incendiary', 'claim', 'drone', 'assassination', 'attempt', 'launched', 'ukraine', 'russian', 'president', 'vladimir', 'putin', 'kyiv', 'forcefully', 'denied', 'claim', 'kyiv', 'bombarded', 'missile', 'hour', 'following', 'russia', \"'s\", 'claim', 'keeping', 'putin', \"'s\", 'historic', 'willingness', 'strike', 'ukrainian', 'city', 'alleged', 'act', 'provocation', 'many', 'detail', 'incident', 'remain', 'murky', \"'s\", 'know', 'question', 'remain', 'happened', 'moscow', 'said', 'alleged', 'attack', 'took', 'place', 'early', 'hour', 'wednesday', 'two', 'unmanned', 'aerial', 'vehicle', 'intercepted', 'destroyed', 'caused', 'damage', 'injury', 'kremlin', 'said', 'russian', 'president', 'building', 'time', 'according', 'kremlin', 'spokesperson', 'dmitry', 'peskov', 'video', 'emerged', 'social', 'medium', 'appearing', 'show', 'incident', 'cnn', 'analysis', 'video', 'support', 'moscow', \"'s\", 'claim', 'two', 'drone', 'flown', 'kremlin', 'video', 'appeared', 'show', 'smoke', 'rising', 'kremlin', 'surfaced', 'telegram', 'channel', ':', 'local', 'time', 'wednesday', 'first', 'report', 'incident', 'citing', 'kremlin', 'came', 'via', 'russian', 'state', 'medium', 'ta', 'ria', 'around', ':', 'pm', 'local', 'time', 'around', 'hour', 'later', 'shortly', 'first', 'medium', 'report', 'another', 'video', 'appearing', 'show', 'moment', 'drone', 'exploded', 'kremlin', 'began', 'circulating', 'widely', 'social', 'medium', 'video', 'apparent', 'drone', 'seems', 'fly', 'towards', 'building', \"'s\", 'domed', 'roof', 'followed', 'look', 'like', 'small', 'explosion', 'video', 'two', 'people', 'appear', 'climbing', 'dome', 'holding', 'flashlight', 'seen', 'ducking', 'moment', 'explosion', 'people', 'climbing', 'dome', 'present', 'first', 'video', 'appear', 'second', 'suggesting', 'responding', 'fire', 'caused', 'first', 'drone', 'time', 'subsequent', 'drone', 'appeared', \"'s\", 'saying', 'kremlin', 'blamed', 'ukraine', 'describing', 'purported', 'drone', 'attack', 'attempt', 'president', \"'s\", 'life', 'statement', 'kremlin', 'said', 'view', 'action', 'planned', 'terrorist', 'attack', 'assassination', 'attempt', 'adding', 'russia', 'reserve', 'right', 'take', 'countermeasure', 'wherever', 'whenever', 'deems', 'appropriate', 'thursday', 'russia', 'also', 'claimed', 'u', 'involved', 'attack', 'undoubtedly', 'decision', 'definition', 'goal', 'definition', 'mean', 'dictated', 'kyiv', 'washington', 'peksov', 'said', 'allegation', 'drew', 'sharp', 'denial', 'kyiv', 'washington', \"n't\", 'attack', 'putin', 'moscow', 'president', 'volodymyr', 'zelensky', 'said', 'news', 'conference', 'helsinki', 'wednesday', 'fight', 'territory', 'defending', 'village', 'city', \"n't\", 'enough', 'weapon', '[', ']', \"'s\", \"n't\", 'use', 'anywhere', '[', 'else', ']', 'zelensky', 'said', \"n't\", 'attack', 'putin', 'leave', 'tribunal', 'said', 'john', 'kirby', 'national', 'security', 'council', \"'s\", 'coordinator', 'strategic', 'communication', 'called', 'russia', \"'s\", 'allegation', 'u', 'directed', 'ukraine', 'carry', 'attack', 'ridiculous', 'secretary', 'state', 'anthony', 'blinken', 'said', 'u', 'know', 'responsible', 'would', 'take', 'anything', 'coming', 'kremlin', 'large', 'shaker', 'salt', 'told', 'washingon', 'post', 'event', 'wednesday', 'else', 'could', 'responsible', 'ukraine', \"n't\", 'perpetrator', 'one', 'possibility', 'incident', 'work', 'russian', 'partisan', 'claimed', 'former', 'russian', 'lawmaker', 'linked', 'militant', 'group', 'russia', 'ilya', 'ponomarev', 'told', 'cnn', \"'s\", 'matthew', 'chance', \"'s\", 'one', 'russian', 'partisan', 'group', 'adding', 'say', 'yet', 'publicly', 'claimed', 'responsibility', 'ponomarev', 'life', 'exile', 'ukraine', 'poland', 'russian', 'mp', 'vote', 'annexation', 'crimea', 'russia', 'since', 'included', 'list', 'terrorist', 'suspect', 'according', 'russian', 'authority', 'according', 'ponomarev', 'member', 'partisan', 'group', 'inside', 'russia', 'usually', 'youngster', 'student', 'resident', 'large', 'city', 'aware', 'partisan', 'activity', 'approximately', 'city', 'across', 'russia', 'told', 'cnn', 'evidence', 'actual', 'partisan', 'activity', 'inside', 'russia', 'remains', 'scant', 'formation', 'calling', 'russian', 'volunteer', 'corp', 'fighting', 'side', 'kyiv', 'ukraine', 'claimed', 'carried', 'brief', 'armed', 'incursion', 'russian', 'territory', 'earlier', 'year', 'group', \"'s\", 'size', 'unclear', 'russia', 'claim', 'ukraine', 'carried', 'drone', 'strike', 'military', 'airfield', 'western', 'southwestern', 'russia', 'kyiv', 'neither', 'confirmed', 'denied', 'allegation', 'u', 'official', 'also', 'said', 'still', 'assessing', 'incident', 'information', 'might', 'responsible', 'whatever', 'truth', 'admission', 'security', 'breach', 'heart', 'kremlin', 'remarkable', 'happens', 'next', 'moscow', 'already', 'launched', 'wave', 'missile', 'kyiv', 'following', 'incident', 'move', 'line', 'playbook', 'previous', 'flashpoint', 'war', 'message', 'written', 'russian', 'drone', 'launched', 'odesa', 'overnight', 'read', 'moscow', 'kremlin', 'according', 'ukrainian', 'military', 'apparent', 'reference', 'alleged', 'attack', 'u', 'ukrainian', 'official', 'past', 'warned', 'russia', 'planned', 'so-called', 'false', 'flag', 'attack', 'along', 'russia', \"'s\", 'border', 'ukraine', 'pretext', 'military', 'escalation', 'including', 'russian', 'claim', 'ahead', 'last', 'year', \"'s\", 'full-scale', 'invasion', 'ukraine', 'sending', 'saboteur', 'russian', 'border', 'russia', 'also', 'embarrassed', 'recent', 'month', 'symbolic', 'incident', 'sinking', 'guided-missile', 'cruiser', 'moskva', 'flagship', 'black', 'sea', 'fleet', 'disputed', 'circumstance', 'moscow', 'also', 'looking', 'project', 'strength', 'following', 'planned', 'victory', 'day', 'parade', 'peskov', 'reiterated', 'parade', 'would', 'go', 'ahead', 'planned', 'russia', 'occasion', 'used', 'missile', 'bombardment', 'around', 'ukraine', 'show', 'anger', 'following', 'flashpoint', 'conflict', 'ground', 'fighting', 'eastern', 'ukraine', 'bogged', 'stalemate', 'month', 'appears', 'unlikely', 'wednesday', \"'s\", 'incident', 'material', 'impact', 'momentum']\n"
     ]
    }
   ],
   "source": [
    "# We are using the tokanized text\n",
    "# For example, the lemma of \"ran\" is \"run,\" and the lemma of \"cars\" is \"car.\" \n",
    "# For example, the word \"better\" can be reduced to its base form \"good\"\n",
    "lem = WordNetLemmatizer()\n",
    "lemmatizedText= []\n",
    "for t in cleanedText:\n",
    "    lemWord = lem.lemmatize(t)\n",
    "    lemmatizedText.append(lemWord)\n",
    "print(\"Lemmatized text :\\n\",lemmatizedText)\n",
    "# Not that much of a difference - let's see steming"
   ]
  },
  {
   "cell_type": "code",
   "execution_count": 129,
   "metadata": {},
   "outputs": [],
   "source": [
    "# Load the necessary package\n",
    "from nltk.stem.porter import PorterStemmer"
   ]
  },
  {
   "cell_type": "code",
   "execution_count": 130,
   "metadata": {},
   "outputs": [
    {
     "name": "stdout",
     "output_type": "stream",
     "text": [
      "Stemmed text :\n",
      " ['tight', 'ring', 'secur', 'surround', 'seat', 'russian', 'presid', 'punctur', 'dramat', 'fashion', 'appear', 'two', 'attempt', 'drone', 'strike', 'earli', 'hour', 'wednesday', 'morn', 'kremlin', 'chose', 'public', 'incid', 'around', 'hour', 'later', 'social', 'media', 'footag', 'incid', 'gain', 'littl', 'attent', 'russia', 'decid', 'reveal', 'secur', 'breach', 'unclear', 'five-paragraph', 'statement', 'wednesday', 'kremlin', 'made', 'incendiari', 'claim', 'drone', 'assassin', 'attempt', 'launch', 'ukrain', 'russian', 'presid', 'vladimir', 'putin', 'kyiv', 'forc', 'deni', 'claim', 'kyiv', 'bombard', 'missil', 'hour', 'follow', 'russia', \"'s\", 'claim', 'keep', 'putin', \"'s\", 'histor', 'willing', 'strike', 'ukrainian', 'citi', 'alleg', 'act', 'provoc', 'mani', 'detail', 'incid', 'remain', 'murki', \"'s\", 'know', 'question', 'remain', 'happen', 'moscow', 'said', 'alleg', 'attack', 'took', 'place', 'earli', 'hour', 'wednesday', 'two', 'unman', 'aerial', 'vehicl', 'intercept', 'destroy', 'caus', 'damag', 'injuri', 'kremlin', 'said', 'russian', 'presid', 'build', 'time', 'accord', 'kremlin', 'spokesperson', 'dmitri', 'peskov', 'video', 'emerg', 'social', 'media', 'appear', 'show', 'incid', 'cnn', 'analysi', 'video', 'support', 'moscow', \"'s\", 'claim', 'two', 'drone', 'flown', 'kremlin', 'video', 'appear', 'show', 'smoke', 'rise', 'kremlin', 'surfac', 'telegram', 'channel', ':', 'local', 'time', 'wednesday', 'first', 'report', 'incid', 'cite', 'kremlin', 'came', 'via', 'russian', 'state', 'media', 'tass', 'ria', 'around', ':', 'pm', 'local', 'time', 'around', 'hour', 'later', 'shortli', 'first', 'media', 'report', 'anoth', 'video', 'appear', 'show', 'moment', 'drone', 'explod', 'kremlin', 'began', 'circul', 'wide', 'social', 'media', 'video', 'appar', 'drone', 'seem', 'fli', 'toward', 'build', \"'s\", 'dome', 'roof', 'follow', 'look', 'like', 'small', 'explos', 'video', 'two', 'peopl', 'appear', 'climb', 'dome', 'hold', 'flashlight', 'seen', 'duck', 'moment', 'explos', 'peopl', 'climb', 'dome', 'present', 'first', 'video', 'appear', 'second', 'suggest', 'respond', 'fire', 'caus', 'first', 'drone', 'time', 'subsequ', 'drone', 'appear', \"'s\", 'say', 'kremlin', 'blame', 'ukrain', 'describ', 'purport', 'drone', 'attack', 'attempt', 'presid', \"'s\", 'life', 'statement', 'kremlin', 'said', 'view', 'action', 'plan', 'terrorist', 'attack', 'assassin', 'attempt', 'ad', 'russia', 'reserv', 'right', 'take', 'countermeasur', 'wherev', 'whenev', 'deem', 'appropri', 'thursday', 'russia', 'also', 'claim', 'us', 'involv', 'attack', 'undoubtedli', 'decis', 'definit', 'goal', 'definit', 'mean', 'dictat', 'kyiv', 'washington', 'peksov', 'said', 'alleg', 'drew', 'sharp', 'denial', 'kyiv', 'washington', \"n't\", 'attack', 'putin', 'moscow', 'presid', 'volodymyr', 'zelenski', 'said', 'news', 'confer', 'helsinki', 'wednesday', 'fight', 'territori', 'defend', 'villag', 'citi', \"n't\", 'enough', 'weapon', '[', ']', \"'s\", \"n't\", 'use', 'anywher', '[', 'els', ']', 'zelenski', 'said', \"n't\", 'attack', 'putin', 'leav', 'tribun', 'said', 'john', 'kirbi', 'nation', 'secur', 'council', \"'s\", 'coordin', 'strateg', 'commun', 'call', 'russia', \"'s\", 'alleg', 'us', 'direct', 'ukrain', 'carri', 'attack', 'ridicul', 'secretari', 'state', 'anthoni', 'blinken', 'said', 'us', 'know', 'respons', 'would', 'take', 'anyth', 'come', 'kremlin', 'larg', 'shaker', 'salt', 'told', 'washingon', 'post', 'event', 'wednesday', 'els', 'could', 'respons', 'ukrain', \"n't\", 'perpetr', 'one', 'possibl', 'incid', 'work', 'russian', 'partisan', 'claim', 'former', 'russian', 'lawmak', 'link', 'milit', 'group', 'russia', 'ilya', 'ponomarev', 'told', 'cnn', \"'s\", 'matthew', 'chanc', \"'s\", 'one', 'russian', 'partisan', 'group', 'ad', 'say', 'yet', 'publicli', 'claim', 'respons', 'ponomarev', 'live', 'exil', 'ukrain', 'poland', 'russian', 'mp', 'vote', 'annex', 'crimea', 'russia', 'sinc', 'includ', 'list', 'terrorist', 'suspect', 'accord', 'russian', 'author', 'accord', 'ponomarev', 'member', 'partisan', 'group', 'insid', 'russia', 'usual', 'youngster', 'student', 'resid', 'larg', 'citi', 'awar', 'partisan', 'activ', 'approxim', 'citi', 'across', 'russia', 'told', 'cnn', 'evid', 'actual', 'partisan', 'activ', 'insid', 'russia', 'remain', 'scant', 'format', 'call', 'russian', 'volunt', 'corp', 'fight', 'side', 'kyiv', 'ukrain', 'claim', 'carri', 'brief', 'arm', 'incurs', 'russian', 'territori', 'earlier', 'year', 'group', \"'s\", 'size', 'unclear', 'russia', 'claim', 'ukrain', 'carri', 'drone', 'strike', 'militari', 'airfield', 'western', 'southwestern', 'russia', 'kyiv', 'neither', 'confirm', 'deni', 'alleg', 'us', 'offici', 'also', 'said', 'still', 'assess', 'incid', 'inform', 'might', 'respons', 'whatev', 'truth', 'admiss', 'secur', 'breach', 'heart', 'kremlin', 'remark', 'happen', 'next', 'moscow', 'alreadi', 'launch', 'wave', 'missil', 'kyiv', 'follow', 'incid', 'move', 'line', 'playbook', 'previou', 'flashpoint', 'war', 'messag', 'written', 'russian', 'drone', 'launch', 'odesa', 'overnight', 'read', 'moscow', 'kremlin', 'accord', 'ukrainian', 'militari', 'appar', 'refer', 'alleg', 'attack', 'us', 'ukrainian', 'offici', 'past', 'warn', 'russia', 'plan', 'so-cal', 'fals', 'flag', 'attack', 'along', 'russia', \"'s\", 'border', 'ukrain', 'pretext', 'militari', 'escal', 'includ', 'russian', 'claim', 'ahead', 'last', 'year', \"'s\", 'full-scal', 'invas', 'ukrain', 'send', 'saboteur', 'russian', 'border', 'russia', 'also', 'embarrass', 'recent', 'month', 'symbol', 'incid', 'sink', 'guided-missil', 'cruiser', 'moskva', 'flagship', 'black', 'sea', 'fleet', 'disput', 'circumst', 'moscow', 'also', 'look', 'project', 'strength', 'follow', 'plan', 'victori', 'day', 'parad', 'peskov', 'reiter', 'parad', 'would', 'go', 'ahead', 'plan', 'russia', 'occas', 'use', 'missil', 'bombard', 'around', 'ukrain', 'show', 'anger', 'follow', 'flashpoint', 'conflict', 'ground', 'fight', 'eastern', 'ukrain', 'bog', 'stalem', 'month', 'appear', 'unlik', 'wednesday', \"'s\", 'incid', 'materi', 'impact', 'momentum']\n"
     ]
    }
   ],
   "source": [
    "# Check the differences after this\n",
    "# Verbs like \"stayed -> stay\" or \"arranged -> arrang\" emoving sufix\n",
    "stem = PorterStemmer()\n",
    "stemmedText = []\n",
    "for t in cleanedText:\n",
    "    stemmedWord = stem.stem(t)\n",
    "    stemmedText.append(stemmedWord)\n",
    "print(\"Stemmed text :\\n\",stemmedText) "
   ]
  }
 ],
 "metadata": {
  "interpreter": {
   "hash": "d7a18bc08bf6b314cad8b0dd8f53415ad78d1015cc806d14e4873c235fb4e191"
  },
  "kernelspec": {
   "display_name": "Python 3 (ipykernel)",
   "language": "python",
   "name": "python3"
  },
  "language_info": {
   "codemirror_mode": {
    "name": "ipython",
    "version": 3
   },
   "file_extension": ".py",
   "mimetype": "text/x-python",
   "name": "python",
   "nbconvert_exporter": "python",
   "pygments_lexer": "ipython3",
   "version": "3.9.12"
  },
  "varInspector": {
   "cols": {
    "lenName": 16,
    "lenType": 16,
    "lenVar": 40
   },
   "kernels_config": {
    "python": {
     "delete_cmd_postfix": "",
     "delete_cmd_prefix": "del ",
     "library": "var_list.py",
     "varRefreshCmd": "print(var_dic_list())"
    },
    "r": {
     "delete_cmd_postfix": ") ",
     "delete_cmd_prefix": "rm(",
     "library": "var_list.r",
     "varRefreshCmd": "cat(var_dic_list()) "
    }
   },
   "types_to_exclude": [
    "module",
    "function",
    "builtin_function_or_method",
    "instance",
    "_Feature"
   ],
   "window_display": false
  }
 },
 "nbformat": 4,
 "nbformat_minor": 2
}
