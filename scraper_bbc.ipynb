{
 "cells": [
  {
   "cell_type": "code",
   "execution_count": 1,
   "id": "39fd35c0-a8ed-4ee5-9384-9a4ca7880b9f",
   "metadata": {},
   "outputs": [],
   "source": [
    "# Import the two main libraries\n",
    "from bs4 import BeautifulSoup       # to process html\n",
    "import requests\n",
    "import urllib.request,sys,time\n",
    "import pandas as pd\n",
    "from tqdm import tqdm\n",
    "import pickle\n",
    "import datetime"
   ]
  },
  {
   "cell_type": "code",
   "execution_count": 142,
   "id": "a309394a-12c1-4fea-bca8-e39a56dabf9c",
   "metadata": {},
   "outputs": [],
   "source": [
    "import warnings\n",
    "warnings.filterwarnings(\"ignore\")"
   ]
  },
  {
   "cell_type": "markdown",
   "id": "ca339d33",
   "metadata": {},
   "source": [
    "This notebook is a fork of the one [about the Sun](./scraper_sun.ipynb) for more information look at that one before."
   ]
  },
  {
   "cell_type": "code",
   "execution_count": 17,
   "id": "6f0a6f41",
   "metadata": {},
   "outputs": [
    {
     "name": "stderr",
     "output_type": "stream",
     "text": [
      "100%|██████████| 29/29 [00:05<00:00,  5.37it/s]\n"
     ]
    }
   ],
   "source": [
    "#get all the links of the articles\n",
    "\n",
    "saved_links = []\n",
    "for page in tqdm(range(1,30)):\n",
    "\n",
    "    url = 'https://www.bbc.co.uk/search?q=russia-ukraine+war&d=news_gnl&page='+str(page)\n",
    "    page = requests.get(url)\n",
    "    soup = BeautifulSoup(page.text, \"html.parser\")\n",
    "    links = soup.find_all('a',{'ssrcss-rl2iw9-PromoLink e1f5wbog1'})\n",
    "    \n",
    "    for link in links:\n",
    "        saved_links.append(link['href'].strip())"
   ]
  },
  {
   "cell_type": "code",
   "execution_count": 1,
   "id": "ed8c543b-55a4-442c-bb93-3ac62455d02c",
   "metadata": {},
   "outputs": [
    {
     "ename": "NameError",
     "evalue": "name 'pickle' is not defined",
     "output_type": "error",
     "traceback": [
      "\u001b[1;31m---------------------------------------------------------------------------\u001b[0m",
      "\u001b[1;31mNameError\u001b[0m                                 Traceback (most recent call last)",
      "Input \u001b[1;32mIn [1]\u001b[0m, in \u001b[0;36m<cell line: 4>\u001b[1;34m()\u001b[0m\n\u001b[0;32m      1\u001b[0m file_name \u001b[38;5;241m=\u001b[39m \u001b[38;5;124m\"\u001b[39m\u001b[38;5;124mbbc_links.pkl\u001b[39m\u001b[38;5;124m\"\u001b[39m\n\u001b[0;32m      3\u001b[0m open_file \u001b[38;5;241m=\u001b[39m \u001b[38;5;28mopen\u001b[39m(file_name, \u001b[38;5;124m\"\u001b[39m\u001b[38;5;124mwb\u001b[39m\u001b[38;5;124m\"\u001b[39m) \u001b[38;5;66;03m#writte on the pickle file\u001b[39;00m\n\u001b[1;32m----> 4\u001b[0m \u001b[43mpickle\u001b[49m\u001b[38;5;241m.\u001b[39mdump(saved_links, open_file)\n\u001b[0;32m      5\u001b[0m open_file\u001b[38;5;241m.\u001b[39mclose()\n",
      "\u001b[1;31mNameError\u001b[0m: name 'pickle' is not defined"
     ]
    }
   ],
   "source": [
    "#We put the link into the pickle file\n",
    "file_name = \"bbc_links.pkl\"\n",
    "\n",
    "open_file = open(file_name, \"wb\") #writte on the pickle file\n",
    "pickle.dump(saved_links, open_file)\n",
    "open_file.close()"
   ]
  },
  {
   "cell_type": "code",
   "execution_count": 2,
   "id": "7671ca93-5df0-48ef-9f2c-1520d9eaed30",
   "metadata": {},
   "outputs": [],
   "source": [
    "# to load\n",
    "open_file = open(\"bbc_links.pkl\", \"rb\") #read the pickle file \n",
    "saved_links = pickle.load(open_file)\n",
    "open_file.close()"
   ]
  },
  {
   "cell_type": "code",
   "execution_count": 7,
   "id": "85e71d91-dfc4-449d-82f7-16b3541ed2b8",
   "metadata": {},
   "outputs": [],
   "source": [
    "#creating the dataframe\n",
    "\n",
    "BbcArticles = pd.DataFrame({'title': pd.Series([], dtype='string'),\n",
    "                             'author': pd.Series([], dtype='string'),\n",
    "                             'date': pd.Series([], dtype='float'),\n",
    "                             'text': pd.Series([], dtype='string'),\n",
    "                             })\n"
   ]
  },
  {
   "cell_type": "markdown",
   "id": "9a8488d4",
   "metadata": {},
   "source": [
    "The main difference with the one of the Sun is that not all the link that we have of the BBC are about articles, so sometimes beautiful soup fail while is searching f"
   ]
  },
  {
   "cell_type": "code",
   "execution_count": 11,
   "id": "89e94859",
   "metadata": {},
   "outputs": [
    {
     "name": "stderr",
     "output_type": "stream",
     "text": [
      "290it [00:52,  5.55it/s]\n"
     ]
    }
   ],
   "source": [
    "for i,link in tqdm(enumerate(saved_links)):\n",
    "    \n",
    "    page = requests.get(link)\n",
    "    soup = BeautifulSoup(page.text, \"html.parser\")\n",
    "    \n",
    "    try: # the try except is made to handle the problem that some links of the bbc aren't article, so when beautiful soup fail to load the article tag the news is skipped\n",
    "        # get article tag\n",
    "        article = soup.find_all(\"article\")[0]\n",
    "\n",
    "        #get title\n",
    "        header = article.find_all(\"header\")[0]\n",
    "        title = header.find_all(\"h1\")[0].get_text()\n",
    "\n",
    "        #get author\n",
    "        author = article.find('div', {'class': 'ssrcss-68pt20-Text-TextContributorName'})\n",
    "        if author == None:\n",
    "            author = article.find('span', {'class': 'qa-contributor-name'}).get_text()\n",
    "        else:\n",
    "            author = author.get_text()\n",
    "\n",
    "        #get date\n",
    "        date = article.time['datetime']\n",
    "        date = pd.to_datetime(date).strftime('%d/%m/%y')\n",
    "\n",
    "        #get text\n",
    "        text = ''\n",
    "        for p in article.find_all('p'):\n",
    "            text += p.text\n",
    "\n",
    "        BbcArticles = BbcArticles.append({\"title\": title, \"author\": author, \"date\": date, \"text\": text}, ignore_index=True)\n",
    "    except:\n",
    "        pass"
   ]
  },
  {
   "cell_type": "code",
   "execution_count": 12,
   "id": "b9ec7781-24a8-4b60-8823-9e390903237d",
   "metadata": {
    "scrolled": true,
    "tags": []
   },
   "outputs": [
    {
     "data": {
      "text/html": [
       "<div>\n",
       "<style scoped>\n",
       "    .dataframe tbody tr th:only-of-type {\n",
       "        vertical-align: middle;\n",
       "    }\n",
       "\n",
       "    .dataframe tbody tr th {\n",
       "        vertical-align: top;\n",
       "    }\n",
       "\n",
       "    .dataframe thead th {\n",
       "        text-align: right;\n",
       "    }\n",
       "</style>\n",
       "<table border=\"1\" class=\"dataframe\">\n",
       "  <thead>\n",
       "    <tr style=\"text-align: right;\">\n",
       "      <th></th>\n",
       "      <th>title</th>\n",
       "      <th>author</th>\n",
       "      <th>date</th>\n",
       "      <th>text</th>\n",
       "    </tr>\n",
       "  </thead>\n",
       "  <tbody>\n",
       "    <tr>\n",
       "      <th>0</th>\n",
       "      <td>Ukraine war: Russia launches second pre-dawn m...</td>\n",
       "      <td>By Hugo Bachega in Kyiv &amp; Antoinette Radford i...</td>\n",
       "      <td>01/05/23</td>\n",
       "      <td>Russia has launched a series of missiles at Uk...</td>\n",
       "    </tr>\n",
       "    <tr>\n",
       "      <th>1</th>\n",
       "      <td>Ukraine war: 25 dead as Russian missiles hit c...</td>\n",
       "      <td>By Hugo Bachega in Uman &amp; Antoinette Radford i...</td>\n",
       "      <td>28/04/23</td>\n",
       "      <td>A wave of Russian air strikes on cities across...</td>\n",
       "    </tr>\n",
       "    <tr>\n",
       "      <th>2</th>\n",
       "      <td>Ukraine war: The Nigerian paying a 'heavy pric...</td>\n",
       "      <td>By Oluwashina Okeleji</td>\n",
       "      <td>13/04/23</td>\n",
       "      <td>Last updated on 13 April 202313 April 2023.Fro...</td>\n",
       "    </tr>\n",
       "    <tr>\n",
       "      <th>3</th>\n",
       "      <td>Ukraine war: Partisan attack kills police chie...</td>\n",
       "      <td>By Robert Greenall</td>\n",
       "      <td>27/04/23</td>\n",
       "      <td>A police chief in the occupied Ukrainian city ...</td>\n",
       "    </tr>\n",
       "    <tr>\n",
       "      <th>4</th>\n",
       "      <td>Ukraine war: Where are Russia's opposition lea...</td>\n",
       "      <td>By Vitaly Shevchenko</td>\n",
       "      <td>17/04/23</td>\n",
       "      <td>President Vladimir Putin now rules Russia virt...</td>\n",
       "    </tr>\n",
       "    <tr>\n",
       "      <th>...</th>\n",
       "      <td>...</td>\n",
       "      <td>...</td>\n",
       "      <td>...</td>\n",
       "      <td>...</td>\n",
       "    </tr>\n",
       "    <tr>\n",
       "      <th>345</th>\n",
       "      <td>Ukraine war: Drone attack on Russian bomber ba...</td>\n",
       "      <td>By Russia Editor Steve Rosenberg &amp; Jaroslav Lukiv</td>\n",
       "      <td>26/12/22</td>\n",
       "      <td>A Ukrainian drone attack on an airbase for bom...</td>\n",
       "    </tr>\n",
       "    <tr>\n",
       "      <th>346</th>\n",
       "      <td>Ukraine war: Zelensky says Russia controls a f...</td>\n",
       "      <td>By Matt Murphy</td>\n",
       "      <td>02/06/22</td>\n",
       "      <td>Ukraine's President Volodymyr Zelensky says th...</td>\n",
       "    </tr>\n",
       "    <tr>\n",
       "      <th>347</th>\n",
       "      <td>Ukraine war: The deadly landmines killing hund...</td>\n",
       "      <td>By James Waterhouse</td>\n",
       "      <td>11/04/23</td>\n",
       "      <td>Across Ukraine's vast expanse, there are thoug...</td>\n",
       "    </tr>\n",
       "    <tr>\n",
       "      <th>348</th>\n",
       "      <td>Ukraine war: Russia's jailed Navalny attacks i...</td>\n",
       "      <td>By Paul Kirby</td>\n",
       "      <td>24/05/22</td>\n",
       "      <td>This video can not be playedWatch: Alexei Nava...</td>\n",
       "    </tr>\n",
       "    <tr>\n",
       "      <th>349</th>\n",
       "      <td>Ukraine war: Civilians flee Kherson as Russian...</td>\n",
       "      <td>By Yogita Limaye</td>\n",
       "      <td>28/12/22</td>\n",
       "      <td>Thirteen-year-old Nika Selivanova made a heart...</td>\n",
       "    </tr>\n",
       "  </tbody>\n",
       "</table>\n",
       "<p>350 rows × 4 columns</p>\n",
       "</div>"
      ],
      "text/plain": [
       "                                                 title  \\\n",
       "0    Ukraine war: Russia launches second pre-dawn m...   \n",
       "1    Ukraine war: 25 dead as Russian missiles hit c...   \n",
       "2    Ukraine war: The Nigerian paying a 'heavy pric...   \n",
       "3    Ukraine war: Partisan attack kills police chie...   \n",
       "4    Ukraine war: Where are Russia's opposition lea...   \n",
       "..                                                 ...   \n",
       "345  Ukraine war: Drone attack on Russian bomber ba...   \n",
       "346  Ukraine war: Zelensky says Russia controls a f...   \n",
       "347  Ukraine war: The deadly landmines killing hund...   \n",
       "348  Ukraine war: Russia's jailed Navalny attacks i...   \n",
       "349  Ukraine war: Civilians flee Kherson as Russian...   \n",
       "\n",
       "                                                author      date  \\\n",
       "0    By Hugo Bachega in Kyiv & Antoinette Radford i...  01/05/23   \n",
       "1    By Hugo Bachega in Uman & Antoinette Radford i...  28/04/23   \n",
       "2                                By Oluwashina Okeleji  13/04/23   \n",
       "3                                   By Robert Greenall  27/04/23   \n",
       "4                                 By Vitaly Shevchenko  17/04/23   \n",
       "..                                                 ...       ...   \n",
       "345  By Russia Editor Steve Rosenberg & Jaroslav Lukiv  26/12/22   \n",
       "346                                     By Matt Murphy  02/06/22   \n",
       "347                                By James Waterhouse  11/04/23   \n",
       "348                                      By Paul Kirby  24/05/22   \n",
       "349                                   By Yogita Limaye  28/12/22   \n",
       "\n",
       "                                                  text  \n",
       "0    Russia has launched a series of missiles at Uk...  \n",
       "1    A wave of Russian air strikes on cities across...  \n",
       "2    Last updated on 13 April 202313 April 2023.Fro...  \n",
       "3    A police chief in the occupied Ukrainian city ...  \n",
       "4    President Vladimir Putin now rules Russia virt...  \n",
       "..                                                 ...  \n",
       "345  A Ukrainian drone attack on an airbase for bom...  \n",
       "346  Ukraine's President Volodymyr Zelensky says th...  \n",
       "347  Across Ukraine's vast expanse, there are thoug...  \n",
       "348  This video can not be playedWatch: Alexei Nava...  \n",
       "349  Thirteen-year-old Nika Selivanova made a heart...  \n",
       "\n",
       "[350 rows x 4 columns]"
      ]
     },
     "execution_count": 12,
     "metadata": {},
     "output_type": "execute_result"
    }
   ],
   "source": [
    "BbcArticles"
   ]
  },
  {
   "cell_type": "code",
   "execution_count": 10,
   "id": "c117913b-0bc7-4691-bbd0-bc3efed8770f",
   "metadata": {},
   "outputs": [],
   "source": [
    "BbcArticles.to_csv(\"BbcArticles.csv\")"
   ]
  }
 ],
 "metadata": {
  "kernelspec": {
   "display_name": "Python 3 (ipykernel)",
   "language": "python",
   "name": "python3"
  },
  "language_info": {
   "codemirror_mode": {
    "name": "ipython",
    "version": 3
   },
   "file_extension": ".py",
   "mimetype": "text/x-python",
   "name": "python",
   "nbconvert_exporter": "python",
   "pygments_lexer": "ipython3",
   "version": "3.9.12"
  }
 },
 "nbformat": 4,
 "nbformat_minor": 5
}
