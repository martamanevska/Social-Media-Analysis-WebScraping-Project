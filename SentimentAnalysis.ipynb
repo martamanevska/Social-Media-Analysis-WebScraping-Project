{
 "cells": [
  {
   "cell_type": "markdown",
   "metadata": {},
   "source": [
    "##### Social Media Analytics\n",
    "### Introduction to Text Mining\n",
    "## Sentiment Analysis\n",
    "(c) Nuno Antonio 2019-2022 v1.02"
   ]
  },
  {
   "cell_type": "markdown",
   "metadata": {},
   "source": [
    "### Initial setup"
   ]
  },
  {
   "cell_type": "code",
   "execution_count": 1,
   "metadata": {},
   "outputs": [],
   "source": [
    "# Import packages\n",
    "import csv\n",
    "import pandas as pd\n",
    "import numpy as np\n",
    "import nltk \n",
    "import re\n",
    "from bs4 import BeautifulSoup\n",
    "from nltk.tokenize import sent_tokenize\n",
    "from nltk.tokenize import word_tokenize\n",
    "from nltk.corpus import stopwords\n",
    "from vaderSentiment.vaderSentiment import SentimentIntensityAnalyzer "
   ]
  },
  {
   "cell_type": "code",
   "execution_count": 2,
   "metadata": {},
   "outputs": [
    {
     "name": "stderr",
     "output_type": "stream",
     "text": [
      "C:\\Users\\User\\AppData\\Local\\Temp\\ipykernel_3668\\473334055.py:5: FutureWarning: The error_bad_lines argument has been deprecated and will be removed in a future version. Use on_bad_lines in the future.\n",
      "\n",
      "\n",
      "  ds = pd.DataFrame(pd.read_csv(\"HotelOnlineReviews.txt\",sep=\"|\",\n",
      "Skipping line 12799: expected 21 fields, saw 23\n",
      "\n",
      "Skipping line 37247: expected 21 fields, saw 22\n",
      "\n"
     ]
    }
   ],
   "source": [
    "# Load dataset\n",
    "dtypes = {'RevID':'category','Source':'category','HotelID':'category',\n",
    "  'HotelType':'category','HotelStars':'category','ObsDateGlobalRating':'float64',\n",
    "  'Language':'category','RevUserName':'category','RevUserLocation':'category','RevOverallRating':'float64'}\n",
    "ds = pd.DataFrame(pd.read_csv(\"HotelOnlineReviews.txt\",sep=\"|\", \n",
    "  error_bad_lines=False, dtype=dtypes, decimal=','))"
   ]
  },
  {
   "cell_type": "code",
   "execution_count": 3,
   "metadata": {},
   "outputs": [],
   "source": [
    "# Drop non-English reviews\n",
    "ds = ds.drop(ds[ds.Language!='English'].index)"
   ]
  },
  {
   "cell_type": "code",
   "execution_count": 4,
   "metadata": {},
   "outputs": [
    {
     "data": {
      "text/html": [
       "<div>\n",
       "<style scoped>\n",
       "    .dataframe tbody tr th:only-of-type {\n",
       "        vertical-align: middle;\n",
       "    }\n",
       "\n",
       "    .dataframe tbody tr th {\n",
       "        vertical-align: top;\n",
       "    }\n",
       "\n",
       "    .dataframe thead th {\n",
       "        text-align: right;\n",
       "    }\n",
       "</style>\n",
       "<table border=\"1\" class=\"dataframe\">\n",
       "  <thead>\n",
       "    <tr style=\"text-align: right;\">\n",
       "      <th></th>\n",
       "      <th>RevID</th>\n",
       "      <th>Source</th>\n",
       "      <th>HotelID</th>\n",
       "      <th>HotelType</th>\n",
       "      <th>HotelStars</th>\n",
       "      <th>HotelRooms</th>\n",
       "      <th>ObsDate</th>\n",
       "      <th>ObsDateTotalReviewsOnSite</th>\n",
       "      <th>ObsDateGlobalRating</th>\n",
       "      <th>RevDescription</th>\n",
       "      <th>...</th>\n",
       "      <th>RevUsername</th>\n",
       "      <th>RevUserLocation</th>\n",
       "      <th>RevPublishedDate</th>\n",
       "      <th>RevOverallRating</th>\n",
       "      <th>RevLocationRating</th>\n",
       "      <th>RevSleepQualityRating</th>\n",
       "      <th>RevRoomsRating</th>\n",
       "      <th>RevServiceRating</th>\n",
       "      <th>RevValueRating</th>\n",
       "      <th>RevCleanlinessRating</th>\n",
       "    </tr>\n",
       "  </thead>\n",
       "  <tbody>\n",
       "    <tr>\n",
       "      <th>0</th>\n",
       "      <td>B377</td>\n",
       "      <td>Booking</td>\n",
       "      <td>1</td>\n",
       "      <td>Resort</td>\n",
       "      <td>4</td>\n",
       "      <td>158</td>\n",
       "      <td>2015-11-29</td>\n",
       "      <td>1092</td>\n",
       "      <td>8.8</td>\n",
       "      <td>Hotel is  so  centrally located with  bars and...</td>\n",
       "      <td>...</td>\n",
       "      <td>John</td>\n",
       "      <td>Ireland</td>\n",
       "      <td>2015-11-12</td>\n",
       "      <td>10.0</td>\n",
       "      <td>-1</td>\n",
       "      <td>-1</td>\n",
       "      <td>-1</td>\n",
       "      <td>-1</td>\n",
       "      <td>-1</td>\n",
       "      <td>-1</td>\n",
       "    </tr>\n",
       "    <tr>\n",
       "      <th>1</th>\n",
       "      <td>B378</td>\n",
       "      <td>Booking</td>\n",
       "      <td>1</td>\n",
       "      <td>Resort</td>\n",
       "      <td>4</td>\n",
       "      <td>158</td>\n",
       "      <td>2015-11-29</td>\n",
       "      <td>1092</td>\n",
       "      <td>8.8</td>\n",
       "      <td>Room were big &amp; comfortable.þ Very noisy at ni...</td>\n",
       "      <td>...</td>\n",
       "      <td>David</td>\n",
       "      <td>United Kingdom</td>\n",
       "      <td>2015-11-09</td>\n",
       "      <td>5.8</td>\n",
       "      <td>-1</td>\n",
       "      <td>-1</td>\n",
       "      <td>-1</td>\n",
       "      <td>-1</td>\n",
       "      <td>-1</td>\n",
       "      <td>-1</td>\n",
       "    </tr>\n",
       "    <tr>\n",
       "      <th>2</th>\n",
       "      <td>B379</td>\n",
       "      <td>Booking</td>\n",
       "      <td>1</td>\n",
       "      <td>Resort</td>\n",
       "      <td>4</td>\n",
       "      <td>158</td>\n",
       "      <td>2015-11-29</td>\n",
       "      <td>1092</td>\n",
       "      <td>8.8</td>\n",
       "      <td>right near the beach &amp; breakfast good!þ Noisy ...</td>\n",
       "      <td>...</td>\n",
       "      <td>Dawn</td>\n",
       "      <td>Portugal</td>\n",
       "      <td>2015-11-07</td>\n",
       "      <td>7.5</td>\n",
       "      <td>-1</td>\n",
       "      <td>-1</td>\n",
       "      <td>-1</td>\n",
       "      <td>-1</td>\n",
       "      <td>-1</td>\n",
       "      <td>-1</td>\n",
       "    </tr>\n",
       "    <tr>\n",
       "      <th>3</th>\n",
       "      <td>B380</td>\n",
       "      <td>Booking</td>\n",
       "      <td>1</td>\n",
       "      <td>Resort</td>\n",
       "      <td>4</td>\n",
       "      <td>158</td>\n",
       "      <td>2015-11-29</td>\n",
       "      <td>1092</td>\n",
       "      <td>8.8</td>\n",
       "      <td>The location is the best in Portimao, just acr...</td>\n",
       "      <td>...</td>\n",
       "      <td>Ron</td>\n",
       "      <td>USA</td>\n",
       "      <td>2015-10-29</td>\n",
       "      <td>9.2</td>\n",
       "      <td>-1</td>\n",
       "      <td>-1</td>\n",
       "      <td>-1</td>\n",
       "      <td>-1</td>\n",
       "      <td>-1</td>\n",
       "      <td>-1</td>\n",
       "    </tr>\n",
       "    <tr>\n",
       "      <th>4</th>\n",
       "      <td>B381</td>\n",
       "      <td>Booking</td>\n",
       "      <td>1</td>\n",
       "      <td>Resort</td>\n",
       "      <td>4</td>\n",
       "      <td>158</td>\n",
       "      <td>2015-11-29</td>\n",
       "      <td>1092</td>\n",
       "      <td>8.8</td>\n",
       "      <td>Hotel was clean and the staff helpful and frie...</td>\n",
       "      <td>...</td>\n",
       "      <td>Pat</td>\n",
       "      <td>Spain</td>\n",
       "      <td>2015-10-27</td>\n",
       "      <td>7.1</td>\n",
       "      <td>-1</td>\n",
       "      <td>-1</td>\n",
       "      <td>-1</td>\n",
       "      <td>-1</td>\n",
       "      <td>-1</td>\n",
       "      <td>-1</td>\n",
       "    </tr>\n",
       "  </tbody>\n",
       "</table>\n",
       "<p>5 rows × 21 columns</p>\n",
       "</div>"
      ],
      "text/plain": [
       "  RevID   Source HotelID HotelType HotelStars  HotelRooms     ObsDate  \\\n",
       "0  B377  Booking       1    Resort          4         158  2015-11-29   \n",
       "1  B378  Booking       1    Resort          4         158  2015-11-29   \n",
       "2  B379  Booking       1    Resort          4         158  2015-11-29   \n",
       "3  B380  Booking       1    Resort          4         158  2015-11-29   \n",
       "4  B381  Booking       1    Resort          4         158  2015-11-29   \n",
       "\n",
       "   ObsDateTotalReviewsOnSite  ObsDateGlobalRating  \\\n",
       "0                       1092                  8.8   \n",
       "1                       1092                  8.8   \n",
       "2                       1092                  8.8   \n",
       "3                       1092                  8.8   \n",
       "4                       1092                  8.8   \n",
       "\n",
       "                                      RevDescription  ... RevUsername  \\\n",
       "0  Hotel is  so  centrally located with  bars and...  ...        John   \n",
       "1  Room were big & comfortable.þ Very noisy at ni...  ...       David   \n",
       "2  right near the beach & breakfast good!þ Noisy ...  ...        Dawn   \n",
       "3  The location is the best in Portimao, just acr...  ...         Ron   \n",
       "4  Hotel was clean and the staff helpful and frie...  ...         Pat   \n",
       "\n",
       "  RevUserLocation RevPublishedDate RevOverallRating  RevLocationRating  \\\n",
       "0         Ireland       2015-11-12             10.0                 -1   \n",
       "1  United Kingdom       2015-11-09              5.8                 -1   \n",
       "2        Portugal       2015-11-07              7.5                 -1   \n",
       "3             USA       2015-10-29              9.2                 -1   \n",
       "4           Spain       2015-10-27              7.1                 -1   \n",
       "\n",
       "   RevSleepQualityRating  RevRoomsRating  RevServiceRating  RevValueRating  \\\n",
       "0                     -1              -1                -1              -1   \n",
       "1                     -1              -1                -1              -1   \n",
       "2                     -1              -1                -1              -1   \n",
       "3                     -1              -1                -1              -1   \n",
       "4                     -1              -1                -1              -1   \n",
       "\n",
       "   RevCleanlinessRating  \n",
       "0                    -1  \n",
       "1                    -1  \n",
       "2                    -1  \n",
       "3                    -1  \n",
       "4                    -1  \n",
       "\n",
       "[5 rows x 21 columns]"
      ]
     },
     "execution_count": 4,
     "metadata": {},
     "output_type": "execute_result"
    }
   ],
   "source": [
    "ds.head()"
   ]
  },
  {
   "cell_type": "markdown",
   "metadata": {},
   "source": [
    "### Functions"
   ]
  },
  {
   "cell_type": "code",
   "execution_count": 5,
   "metadata": {},
   "outputs": [],
   "source": [
    "# Text preprocessing\n",
    "def textPreProcess(rawText, removeHTML=True, charsToRemove = r'\\?|\\.|\\!|\\;|\\.|\\\"|\\,|\\(|\\)|\\&|\\:|\\-', removeNumbers=True, removeLineBreaks=False, specialCharsToRemove = r'[^\\x00-\\xfd]', convertToLower=True, removeConsecutiveSpaces=True):\n",
    "    if type(rawText) != str:\n",
    "        return rawText\n",
    "    procText = rawText\n",
    "        \n",
    "    # Remove HTML\n",
    "    if removeHTML:\n",
    "        procText = BeautifulSoup(procText,'html.parser').get_text()\n",
    "\n",
    "    # Remove punctuation and other special characters\n",
    "    if len(charsToRemove)>0:\n",
    "        procText = re.sub(charsToRemove,' ',procText)\n",
    "\n",
    "    # Remove numbers\n",
    "    if removeNumbers:\n",
    "        procText = re.sub(r'\\d+',' ',procText)\n",
    "\n",
    "    # Remove line breaks\n",
    "    if removeLineBreaks:\n",
    "        procText = procText.replace('\\n',' ').replace('\\r', '')\n",
    "\n",
    "    # Remove special characters\n",
    "    if len(specialCharsToRemove)>0:\n",
    "        procText = re.sub(specialCharsToRemove,' ',procText)\n",
    "\n",
    "    # Normalize to lower case\n",
    "    if convertToLower:\n",
    "        procText = procText.lower() \n",
    "\n",
    "    # Replace multiple consecutive spaces with just one space\n",
    "    if removeConsecutiveSpaces:\n",
    "        procText = re.sub(' +', ' ', procText)\n",
    "\n",
    "    return procText"
   ]
  },
  {
   "cell_type": "code",
   "execution_count": 6,
   "metadata": {},
   "outputs": [],
   "source": [
    "# Tokenize words\n",
    "def tokenize_words(words):\n",
    "    if (type(words) != str) or (word_tokenize(words) == ''):\n",
    "        return np.nan\n",
    "    else:\n",
    "        return word_tokenize(words)"
   ]
  },
  {
   "cell_type": "code",
   "execution_count": 7,
   "metadata": {},
   "outputs": [],
   "source": [
    "# Function to create text from words\n",
    "def recreateText(words):\n",
    "    if type(words) == list:\n",
    "        temp_str = (' ').join(words)\n",
    "        return temp_str\n",
    "    else:\n",
    "        return np.nan"
   ]
  },
  {
   "cell_type": "code",
   "execution_count": 8,
   "metadata": {},
   "outputs": [],
   "source": [
    "# Function to break texts into sentences\n",
    "def tokenize_sentences(texts):\n",
    "    s_token = sent_tokenize(texts)\n",
    "    return s_token"
   ]
  },
  {
   "cell_type": "code",
   "execution_count": 9,
   "metadata": {},
   "outputs": [],
   "source": [
    "# Function to remove stop words\n",
    "def removeStopWords(t, stop_words):\n",
    "    if type(t) == list:\n",
    "        return [w for w in t if not w in stop_words]\n",
    "    else:\n",
    "        return np.nan"
   ]
  },
  {
   "cell_type": "markdown",
   "metadata": {},
   "source": [
    "### Analysis"
   ]
  },
  {
   "cell_type": "code",
   "execution_count": 11,
   "metadata": {},
   "outputs": [],
   "source": [
    "# Because a review can express multiple opinions, let's analyze opinions by sentence\n",
    "\n",
    "# Break reviews' into a list of lists sentences\n",
    "listOfSentences = ds.RevDescription.apply(tokenize_sentences)"
   ]
  },
  {
   "cell_type": "code",
   "execution_count": 10,
   "metadata": {},
   "outputs": [
    {
     "name": "stderr",
     "output_type": "stream",
     "text": [
      "/Users/nunoantonio/opt/anaconda3/lib/python3.8/site-packages/bs4/__init__.py:435: MarkupResemblesLocatorWarning: The input looks more like a filename than markup. You may want to open this file and pass the filehandle into Beautiful Soup.\n",
      "  warnings.warn(\n"
     ]
    }
   ],
   "source": [
    "# Create a dataframe with only the description\n",
    "processedReviews = pd.DataFrame(data=ds.RevDescription.apply(textPreProcess,charsToRemove ='', removeLineBreaks=False, removeNumbers=False).values, index=ds.index, columns=['PreProcessedText'])"
   ]
  },
  {
   "cell_type": "code",
   "execution_count": 11,
   "metadata": {},
   "outputs": [
    {
     "data": {
      "text/plain": [
       "'Hotel is  so  centrally located with  bars and restaurants all  within a few minutes walk. Taxis,beach etc. literally on the doorstep. Breakfast excellent. Staff very  friendly and helpful. Will definitely be going  back.þ No  socket  at worktop for electric  kettle so had to place  it on the floor to boil Electric hob not  in use. Shortage of basic  kitchen items to make snack but  we  managed ok.'"
      ]
     },
     "execution_count": 11,
     "metadata": {},
     "output_type": "execute_result"
    }
   ],
   "source": [
    "# Check first review\n",
    "ds.RevDescription[0]"
   ]
  },
  {
   "cell_type": "code",
   "execution_count": 12,
   "metadata": {},
   "outputs": [
    {
     "data": {
      "text/plain": [
       "['Hotel is  so  centrally located with  bars and restaurants all  within a few minutes walk.',\n",
       " 'Taxis,beach etc.',\n",
       " 'literally on the doorstep.',\n",
       " 'Breakfast excellent.',\n",
       " 'Staff very  friendly and helpful.',\n",
       " 'Will definitely be going  back.þ No  socket  at worktop for electric  kettle so had to place  it on the floor to boil Electric hob not  in use.',\n",
       " 'Shortage of basic  kitchen items to make snack but  we  managed ok.']"
      ]
     },
     "execution_count": 12,
     "metadata": {},
     "output_type": "execute_result"
    }
   ],
   "source": [
    "# Sentences of first review\n",
    "listOfSentences[0]"
   ]
  },
  {
   "cell_type": "code",
   "execution_count": 13,
   "metadata": {},
   "outputs": [],
   "source": [
    "# Create DataFrame for sentences\n",
    "sentences = pd.DataFrame(data=[item for elem in listOfSentences for item in elem], columns=['BaseText'])"
   ]
  },
  {
   "cell_type": "code",
   "execution_count": 14,
   "metadata": {},
   "outputs": [],
   "source": [
    "# Add a column with the review ID\n",
    "sentencesPerReview = []\n",
    "for elem in listOfSentences:\n",
    "  sentencesPerReview.append(len(elem))\n",
    "sentences['RevID'] = np.repeat(ds['RevID'].values,sentencesPerReview)"
   ]
  },
  {
   "cell_type": "code",
   "execution_count": 15,
   "metadata": {},
   "outputs": [
    {
     "name": "stderr",
     "output_type": "stream",
     "text": [
      "/Users/nunoantonio/opt/anaconda3/lib/python3.8/site-packages/bs4/__init__.py:435: MarkupResemblesLocatorWarning: The input looks more like a filename than markup. You may want to open this file and pass the filehandle into Beautiful Soup.\n",
      "  warnings.warn(\n"
     ]
    }
   ],
   "source": [
    "# Preprocess text \n",
    "sentences['PreProcessedText'] = sentences['BaseText'].apply(textPreProcess)"
   ]
  },
  {
   "cell_type": "code",
   "execution_count": 16,
   "metadata": {},
   "outputs": [],
   "source": [
    "# Get words\n",
    "sentences['Words'] =  sentences['PreProcessedText'].apply(tokenize_words)"
   ]
  },
  {
   "cell_type": "code",
   "execution_count": 17,
   "metadata": {},
   "outputs": [],
   "source": [
    "# Remove stopwords\n",
    "stop_words = set(stopwords.words('english'))\n",
    "sentences['WordsCleaned'] = sentences['Words'].apply(removeStopWords,stop_words=stop_words)"
   ]
  },
  {
   "cell_type": "code",
   "execution_count": 18,
   "metadata": {},
   "outputs": [],
   "source": [
    "# Recreate sentence without stopwords\n",
    "sentences['ProcessedText'] = sentences['WordsCleaned'].apply(recreateText)"
   ]
  },
  {
   "cell_type": "code",
   "execution_count": 19,
   "metadata": {},
   "outputs": [],
   "source": [
    "# Create sentiment analysis object\n",
    "analyser = SentimentIntensityAnalyzer()"
   ]
  },
  {
   "cell_type": "code",
   "execution_count": 20,
   "metadata": {},
   "outputs": [
    {
     "name": "stdout",
     "output_type": "stream",
     "text": [
      "hotel centrally located bars restaurants within minutes walk {'neg': 0.0, 'neu': 1.0, 'pos': 0.0, 'compound': 0.0}\n"
     ]
    }
   ],
   "source": [
    "# To test, let's evaluate first sentence of first review\n",
    "# Scales:\n",
    "#   compound: -1:most extreme negative, 1:most extreme positive\n",
    "#     positive: compound >=0.05\n",
    "#     neutral: -0.05<compound<0.05\n",
    "#     negative: compound <= -0.05\n",
    "#   pos, neu, neg: proportion of text that are positive, neutral or negative\n",
    "score = analyser.polarity_scores(sentences['ProcessedText'][0])\n",
    "print(sentences['ProcessedText'][0],score)"
   ]
  },
  {
   "cell_type": "code",
   "execution_count": 21,
   "metadata": {},
   "outputs": [],
   "source": [
    "# Process sentiment for all sentences\n",
    "all_scores = []\n",
    "for t in (sentences['ProcessedText'][:]):\n",
    "  score = analyser.polarity_scores(t)\n",
    "  all_scores.append(score)\n",
    "sentences['Sentiment'] = [c['compound'] for c in all_scores]"
   ]
  },
  {
   "cell_type": "code",
   "execution_count": 22,
   "metadata": {},
   "outputs": [],
   "source": [
    "# Compute review's sentiment as the mean sentiment from its sentences\n",
    "meanByReview = sentences.groupby('RevID')['Sentiment'].mean()\n",
    "\n",
    "# Consider sentences with no result as neutral (0)\n",
    "meanByReview = meanByReview.fillna(0)\n",
    "\n",
    "# Add column Sentiment to reviews Dataframe\n",
    "ds['Sentiment'] = meanByReview[ds['RevID']].values"
   ]
  },
  {
   "cell_type": "code",
   "execution_count": 23,
   "metadata": {},
   "outputs": [],
   "source": [
    "# Assign a qualitative evaluation to the review\n",
    "bins = pd.IntervalIndex.from_tuples([(-1.1, -0.05), (-0.05, 0.05), (0.05, 1)], closed='right')\n",
    "x = pd.cut(ds['Sentiment'].to_list(), bins)\n",
    "x.categories = ['Negative','Neutral','Positive']\n",
    "ds['Polarity'] = x"
   ]
  },
  {
   "cell_type": "code",
   "execution_count": 24,
   "metadata": {},
   "outputs": [
    {
     "data": {
      "text/html": [
       "<div>\n",
       "<style scoped>\n",
       "    .dataframe tbody tr th:only-of-type {\n",
       "        vertical-align: middle;\n",
       "    }\n",
       "\n",
       "    .dataframe tbody tr th {\n",
       "        vertical-align: top;\n",
       "    }\n",
       "\n",
       "    .dataframe thead th {\n",
       "        text-align: right;\n",
       "    }\n",
       "</style>\n",
       "<table border=\"1\" class=\"dataframe\">\n",
       "  <thead>\n",
       "    <tr style=\"text-align: right;\">\n",
       "      <th></th>\n",
       "      <th>Sentiment</th>\n",
       "    </tr>\n",
       "    <tr>\n",
       "      <th>HotelID</th>\n",
       "      <th></th>\n",
       "    </tr>\n",
       "  </thead>\n",
       "  <tbody>\n",
       "    <tr>\n",
       "      <th>1</th>\n",
       "      <td>0.361068</td>\n",
       "    </tr>\n",
       "    <tr>\n",
       "      <th>10</th>\n",
       "      <td>0.376767</td>\n",
       "    </tr>\n",
       "    <tr>\n",
       "      <th>11</th>\n",
       "      <td>0.323291</td>\n",
       "    </tr>\n",
       "    <tr>\n",
       "      <th>12</th>\n",
       "      <td>0.339835</td>\n",
       "    </tr>\n",
       "    <tr>\n",
       "      <th>13</th>\n",
       "      <td>0.369670</td>\n",
       "    </tr>\n",
       "    <tr>\n",
       "      <th>...</th>\n",
       "      <td>...</td>\n",
       "    </tr>\n",
       "    <tr>\n",
       "      <th>65</th>\n",
       "      <td>0.478573</td>\n",
       "    </tr>\n",
       "    <tr>\n",
       "      <th>66</th>\n",
       "      <td>0.452675</td>\n",
       "    </tr>\n",
       "    <tr>\n",
       "      <th>7</th>\n",
       "      <td>0.240772</td>\n",
       "    </tr>\n",
       "    <tr>\n",
       "      <th>8</th>\n",
       "      <td>0.339550</td>\n",
       "    </tr>\n",
       "    <tr>\n",
       "      <th>9</th>\n",
       "      <td>0.364137</td>\n",
       "    </tr>\n",
       "  </tbody>\n",
       "</table>\n",
       "<p>64 rows × 1 columns</p>\n",
       "</div>"
      ],
      "text/plain": [
       "         Sentiment\n",
       "HotelID           \n",
       "1         0.361068\n",
       "10        0.376767\n",
       "11        0.323291\n",
       "12        0.339835\n",
       "13        0.369670\n",
       "...            ...\n",
       "65        0.478573\n",
       "66        0.452675\n",
       "7         0.240772\n",
       "8         0.339550\n",
       "9         0.364137\n",
       "\n",
       "[64 rows x 1 columns]"
      ]
     },
     "execution_count": 24,
     "metadata": {},
     "output_type": "execute_result"
    }
   ],
   "source": [
    "# Analysis examples:\n",
    "# Mean by hotel \n",
    "ex1 = ds.groupby('HotelID')['Sentiment'].mean().to_frame()\n",
    "ex1"
   ]
  },
  {
   "cell_type": "code",
   "execution_count": 25,
   "metadata": {},
   "outputs": [
    {
     "data": {
      "text/html": [
       "<div>\n",
       "<style scoped>\n",
       "    .dataframe tbody tr th:only-of-type {\n",
       "        vertical-align: middle;\n",
       "    }\n",
       "\n",
       "    .dataframe tbody tr th {\n",
       "        vertical-align: top;\n",
       "    }\n",
       "\n",
       "    .dataframe thead th {\n",
       "        text-align: right;\n",
       "    }\n",
       "</style>\n",
       "<table border=\"1\" class=\"dataframe\">\n",
       "  <thead>\n",
       "    <tr style=\"text-align: right;\">\n",
       "      <th></th>\n",
       "      <th>HotelType</th>\n",
       "      <th>HotelStars</th>\n",
       "      <th>Sentiment</th>\n",
       "    </tr>\n",
       "  </thead>\n",
       "  <tbody>\n",
       "    <tr>\n",
       "      <th>0</th>\n",
       "      <td>City</td>\n",
       "      <td>2</td>\n",
       "      <td>0.236023</td>\n",
       "    </tr>\n",
       "    <tr>\n",
       "      <th>1</th>\n",
       "      <td>City</td>\n",
       "      <td>3</td>\n",
       "      <td>0.334388</td>\n",
       "    </tr>\n",
       "    <tr>\n",
       "      <th>2</th>\n",
       "      <td>City</td>\n",
       "      <td>4</td>\n",
       "      <td>0.343244</td>\n",
       "    </tr>\n",
       "    <tr>\n",
       "      <th>3</th>\n",
       "      <td>City</td>\n",
       "      <td>5</td>\n",
       "      <td>0.324848</td>\n",
       "    </tr>\n",
       "    <tr>\n",
       "      <th>4</th>\n",
       "      <td>Resort</td>\n",
       "      <td>2</td>\n",
       "      <td>0.302441</td>\n",
       "    </tr>\n",
       "    <tr>\n",
       "      <th>5</th>\n",
       "      <td>Resort</td>\n",
       "      <td>3</td>\n",
       "      <td>0.331119</td>\n",
       "    </tr>\n",
       "    <tr>\n",
       "      <th>6</th>\n",
       "      <td>Resort</td>\n",
       "      <td>4</td>\n",
       "      <td>0.406917</td>\n",
       "    </tr>\n",
       "    <tr>\n",
       "      <th>7</th>\n",
       "      <td>Resort</td>\n",
       "      <td>5</td>\n",
       "      <td>0.369157</td>\n",
       "    </tr>\n",
       "  </tbody>\n",
       "</table>\n",
       "</div>"
      ],
      "text/plain": [
       "  HotelType HotelStars  Sentiment\n",
       "0      City          2   0.236023\n",
       "1      City          3   0.334388\n",
       "2      City          4   0.343244\n",
       "3      City          5   0.324848\n",
       "4    Resort          2   0.302441\n",
       "5    Resort          3   0.331119\n",
       "6    Resort          4   0.406917\n",
       "7    Resort          5   0.369157"
      ]
     },
     "execution_count": 25,
     "metadata": {},
     "output_type": "execute_result"
    }
   ],
   "source": [
    "# Analysis examples:\n",
    "# Mean by hotel stars and type\n",
    "ex2 = ds[['HotelType','HotelStars','Sentiment']].groupby(['HotelType','HotelStars'], as_index=False).mean()\n",
    "ex2"
   ]
  }
 ],
 "metadata": {
  "kernelspec": {
   "display_name": "Python 3 (ipykernel)",
   "language": "python",
   "name": "python3"
  },
  "language_info": {
   "codemirror_mode": {
    "name": "ipython",
    "version": 3
   },
   "file_extension": ".py",
   "mimetype": "text/x-python",
   "name": "python",
   "nbconvert_exporter": "python",
   "pygments_lexer": "ipython3",
   "version": "3.9.12"
  },
  "vscode": {
   "interpreter": {
    "hash": "d7a18bc08bf6b314cad8b0dd8f53415ad78d1015cc806d14e4873c235fb4e191"
   }
  }
 },
 "nbformat": 4,
 "nbformat_minor": 2
}
