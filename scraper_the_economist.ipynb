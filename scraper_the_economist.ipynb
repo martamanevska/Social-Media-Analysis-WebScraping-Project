{
 "cells": [
  {
   "cell_type": "code",
   "execution_count": 2,
   "id": "39fd35c0-a8ed-4ee5-9384-9a4ca7880b9f",
   "metadata": {},
   "outputs": [],
   "source": [
    "# Import the two main libraries\n",
    "from bs4 import BeautifulSoup       # to process html\n",
    "import requests\n",
    "import urllib.request,sys,time\n",
    "import pandas as pd\n",
    "from tqdm import tqdm\n",
    "import pickle\n",
    "import datetime"
   ]
  },
  {
   "cell_type": "code",
   "execution_count": 3,
   "id": "a309394a-12c1-4fea-bca8-e39a56dabf9c",
   "metadata": {},
   "outputs": [],
   "source": [
    "import warnings\n",
    "warnings.filterwarnings(\"ignore\")"
   ]
  },
  {
   "cell_type": "markdown",
   "id": "ca339d33",
   "metadata": {},
   "source": [
    "This notebook is a fork of the one [about the Sun](./scraper_sun.ipynb) for more information look at that one before."
   ]
  },
  {
   "cell_type": "code",
   "execution_count": 4,
   "id": "6f0a6f41",
   "metadata": {},
   "outputs": [
    {
     "name": "stderr",
     "output_type": "stream",
     "text": [
      "100%|██████████████████████████████████████████████████████████████████████████████████| 10/10 [00:10<00:00,  1.06s/it]\n"
     ]
    }
   ],
   "source": [
    "#get all the links of the articles\n",
    "\n",
    "saved_links = []\n",
    "for page in tqdm(range(1,11)):\n",
    "\n",
    "    url = 'https://sputnikglobe.com/search/?query=Russia-Ukraine+war='+str(page)\n",
    "    page = requests.get(url)\n",
    "    soup = BeautifulSoup(page.text, \"html.parser\")\n",
    "    links = soup.find_all('a',{'_search-result'})\n",
    "    \n",
    "    for link in links:\n",
    "        saved_links.append(link['href'].strip())"
   ]
  },
  {
   "cell_type": "code",
   "execution_count": 5,
   "id": "ed8c543b-55a4-442c-bb93-3ac62455d02c",
   "metadata": {},
   "outputs": [],
   "source": [
    "file_name = \"bbc_links.pkl\"\n",
    "\n",
    "open_file = open(file_name, \"wb\")\n",
    "pickle.dump(saved_links, open_file)\n",
    "open_file.close()"
   ]
  },
  {
   "cell_type": "code",
   "execution_count": 6,
   "id": "7671ca93-5df0-48ef-9f2c-1520d9eaed30",
   "metadata": {},
   "outputs": [],
   "source": [
    "# to load\n",
    "open_file = open(\"bbc_links.pkl\", \"rb\")\n",
    "saved_links = pickle.load(open_file)\n",
    "open_file.close()"
   ]
  },
  {
   "cell_type": "code",
   "execution_count": 7,
   "id": "85e71d91-dfc4-449d-82f7-16b3541ed2b8",
   "metadata": {},
   "outputs": [],
   "source": [
    "#creating the dataframe\n",
    "\n",
    "BbcArticles = pd.DataFrame({'title': pd.Series([], dtype='string'),\n",
    "                             'author': pd.Series([], dtype='string'),\n",
    "                             'date': pd.Series([], dtype='float'),\n",
    "                             'text': pd.Series([], dtype='string'),\n",
    "                             })\n"
   ]
  },
  {
   "cell_type": "markdown",
   "id": "9a8488d4",
   "metadata": {},
   "source": [
    "The main difference with the one of the Sun is that not all the link that we have of the BBC are about articles, so sometimes beautiful soup fail while is searching f"
   ]
  },
  {
   "cell_type": "code",
   "execution_count": 13,
   "id": "8f0ecc29",
   "metadata": {},
   "outputs": [
    {
     "name": "stdout",
     "output_type": "stream",
     "text": [
      "['https://www.economist.com/ukraine-crisis', 'https://www.economist.com/graphic-detail/2022/03/21/in-russias-war-in-ukraine-both-sides-have-attacked-water-supplies', 'https://www.economist.com/briefing/2022/06/30/does-a-protracted-conflict-favour-russia-or-ukraine', 'https://www.economist.com/the-world-ahead/2022/11/14/three-scenarios-for-how-war-in-ukraine-could-play-out', 'https://www.economist.com/finance-and-economics/2023/03/30/how-rare-gas-supply-adapted-to-russias-war', 'https://www.economist.com/graphic-detail/2023/03/08/how-many-russians-have-been-killed-in-ukraine', 'https://www.economist.com/business/russias-war-is-creating-corporate-winners-and-losers/21808223', 'https://www.economist.com/international/2022/04/04/how-if-at-all-might-russia-be-punished-for-its-war-crimes-in-ukraine', 'https://www.economist.com/the-economist-explains/2022/02/22/what-is-hybrid-war-and-is-russia-waging-it-in-ukraine', 'https://www.economist.com/europe/moldova-is-trying-to-stay-out-of-russias-war-with-ukraine/21809093', 'https://www.economist.com/briefing/2022/10/06/ukraines-military-success-is-reshaping-russia-as-well-as-the-war', 'https://www.economist.com/europe/2022/03/21/russias-orthodox-church-paints-the-conflict-in-ukraine-as-a-holy-war', 'https://www.economist.com/international/2023/04/24/how-the-war-split-the-mafia', 'https://www.economist.com/films/2023/02/27/ukraine-at-war-one-year-on', 'https://www.economist.com/europe/giving-ukraine-heavy-weapons-does-not-mean-nato-is-at-war-with-russia/21808835', 'https://www.economist.com/finance-and-economics/2022/03/12/war-in-ukraine-will-cripple-global-food-markets', 'https://www.economist.com/by-invitation/ian-bremmer-counts-the-cost-of-the-war-to-vladimir-putin/21808839', 'https://www.economist.com/by-invitation/2022/08/18/the-head-of-gchq-says-vladimir-putin-is-losing-the-information-war-in-ukraine', 'https://www.economist.com/podcasts/2022/09/15/could-vladimir-putin-lose-the-war-in-ukraine', 'https://www.economist.com/films/2022/02/25/the-russia-ukraine-war', 'https://www.economist.com/briefing/2023/02/21/the-war-is-making-ukraine-a-western-country', 'https://www.economist.com/graphic-detail/2022/04/05/russias-war-in-ukraine-has-caused-at-least-68bn-in-physical-damage', 'https://www.economist.com/europe/2022/03/28/russia-says-it-is-changing-its-war-aims-in-ukraine', 'https://www.economist.com/europe/2022/07/24/how-heavy-are-russian-casualties-in-ukraine', 'https://www.economist.com/podcasts/2023/02/24/putin-saw-it-as-russias-war-against-the-west-being-fought-in-ukraine-an-appraisal-one-year-on', 'https://www.economist.com/by-invitation/2022/06/19/there-will-be-african-victims-of-russias-war-warn-ellen-johnson-sirleaf-and-olusegun-obasanjo', 'https://www.economist.com/the-economist-explains/2022/03/08/why-z-for-putin-russia-ukraine-war', 'https://www.economist.com/by-invitation/2022/05/20/andrey-kortunov-offers-three-scenarios-for-the-end-of-the-war-in-ukraine', 'https://www.economist.com/europe/2022/10/09/the-war-in-ukraine-has-battered-the-reputation-of-russian-spies', 'https://www.economist.com/graphic-detail/2022/04/04/who-are-russias-supporters', 'https://www.economist.com/culture/2022/03/21/atlantis-envisaged-the-aftermath-of-a-russia-ukraine-war', 'https://www.economist.com/finance-and-economics/2017/01/21/ukraines-conflict-with-russia-is-also-financial', 'https://www.economist.com/science-and-technology/2022/11/30/lessons-from-russias-cyber-war-in-ukraine', 'https://www.economist.com/the-economist-explains/2022/03/25/how-the-war-in-ukraine-is-accelerating-russias-brain-drain', 'https://www.economist.com/the-economist-explains/2022/03/08/why-is-eritrea-backing-russian-aggression-in-ukraine', 'https://www.economist.com/the-economist-explains/2022/07/04/how-war-in-ukraine-is-changing-the-arctic', 'https://www.economist.com/europe/2022/02/24/turkeys-rapprochement-with-russia-may-not-survive-the-war-in-ukraine', 'https://www.economist.com/graphic-detail/2022/02/25/the-military-gap-between-russia-and-ukraine-is-vast', 'https://www.economist.com/europe/what-are-russias-military-options-in-ukraine/21807240', 'https://www.economist.com/leaders/2022/04/08/russian-war-criminals-may-never-be-brought-to-justice', 'https://www.economist.com/europe/2022/05/26/when-and-how-might-the-war-in-ukraine-end', 'https://www.economist.com/eastern-approaches/2014/03/01/edging-closer-to-war', 'https://www.economist.com/europe/2023/03/12/how-ukraine-tamed-russian-missile-barrages-and-kept-the-lights-on', 'https://www.economist.com/europe/2022/06/07/the-conflict-in-ukraine-is-settling-into-a-war-of-attrition', 'https://www.economist.com/united-states/2022/06/23/how-russias-war-could-revive-americas-uranium-industry', 'https://www.economist.com/finance-and-economics/the-inflationary-consequences-of-russias-war-will-spread/21808192', 'https://www.economist.com/briefing/2023/04/23/russias-economy-can-withstand-a-long-war-but-not-a-more-intense-one', 'https://www.economist.com/the-economist-explains/2022/03/01/has-vladimir-putin-committed-war-crimes-in-ukraine', 'https://www.economist.com/europe/2023/04/05/ukraines-gay-soldiers-fight-russia-and-for-their-rights', 'https://www.economist.com/by-invitation/2022/10/23/mick-ryan-on-why-ukraine-can-expect-to-make-further-gains-against-russia', 'https://www.economist.com/europe/2023/04/30/war-crimes-prosecutions-in-ukraine-are-a-long-game', 'https://www.economist.com/international/2022/02/25/the-west-struggles-to-respond-forcefully-to-russias-war-in-ukraine', 'https://www.economist.com/europe/2022/03/23/ukraines-government-is-willing-to-make-big-concessions-to-end-the-war', 'https://www.economist.com/by-invitation/2022/03/10/samuel-charap-considers-how-russias-war-in-ukraine-could-escalate', 'https://www.economist.com/by-invitation/2022/05/14/senior-colonel-zhou-bo-says-the-war-in-ukraine-will-accelerate-the-geopolitical-shift-from-west-to-east', 'https://www.economist.com/the-economist-explains/2022/06/02/how-ukraine-is-fighting-back-against-russian-artillery', 'https://www.economist.com/business/2022/03/05/russias-attack-on-ukraine-means-more-military-spending', 'https://www.economist.com/graphic-detail/2022/03/12/the-war-in-ukraine-has-made-russian-social-media-users-glum', 'https://www.economist.com/europe/2022/02/24/russia-invades-ukraine', 'https://www.economist.com/the-economist-explains/2022/04/08/how-cartographers-track-and-map-russias-war-in-ukraine', 'https://www.economist.com/the-economist-explains/2022/07/27/how-crowdfunding-is-shaping-the-war-in-ukraine', 'https://www.economist.com/europe/2023/03/04/russias-population-nightmare-is-going-to-get-even-worse', 'https://www.economist.com/by-invitation/2023/02/09/sir-richard-barrons-on-how-the-characteristics-of-war-are-changing', 'https://www.economist.com/graphic-detail/2022/02/24/commodity-prices-jump-as-russia-goes-to-war', 'https://www.economist.com/briefing/2022/03/19/ukraine-fights-on', 'https://www.economist.com/leaders/2022/01/22/momentum-is-building-for-war-in-ukraine', 'https://www.economist.com/by-invitation/2022/03/11/john-mearsheimer-on-why-the-west-is-principally-responsible-for-the-ukrainian-crisis', 'https://www.economist.com/leaders/2022/05/19/the-coming-food-catastrophe', 'https://www.economist.com/europe/2022/12/23/making-sense-of-vladimir-putins-war', 'https://www.economist.com/europe/2022/05/07/odessa-strives-for-normality-despite-russias-war', 'https://www.economist.com/europe/2017/05/25/ukraine-and-russia-are-both-trapped-by-the-war-in-donbas', 'https://www.economist.com/the-economist-explains/2022/04/30/why-is-russia-setting-up-detention-centres-in-ukraine', 'https://www.economist.com/leaders/2015/02/12/putins-war-on-the-west', 'https://www.economist.com/1843/2022/11/07/at-what-age-do-they-take-people-to-ukraine-war-catches-up-with-the-russian-elite', 'https://www.economist.com/leaders/2022/12/15/a-looming-russian-offensive', 'https://www.economist.com/asia/2022/03/26/the-stans-want-nothing-to-do-with-vladimir-putins-invasion-of-ukraine', 'https://www.economist.com/china/2023/02/20/the-conflict-in-ukraine-risks-inflaming-the-sino-american-rivalry', 'https://www.economist.com/europe/2023/03/30/why-russian-oil-and-gas-is-still-flowing-through-ukraine', 'https://www.economist.com/the-economist-explains/2022/10/19/will-russias-drone-attacks-change-the-war-in-ukraine', 'https://www.economist.com/science-and-technology/2023/03/29/russian-hackers-are-preparing-for-a-new-campaign-in-ukraine', 'https://www.economist.com/the-economist-explains/2015/02/11/what-russia-is-up-to-in-ukraine', 'https://www.economist.com/leaders/2022/06/30/how-to-win-ukraines-long-war', 'https://www.economist.com/international/2022/09/29/could-the-war-in-ukraine-go-nuclear', 'https://www.economist.com/europe/2023/01/12/the-war-has-devastated-ukraines-environment-too', 'https://www.economist.com/united-states/2022/03/28/russias-invasion-of-ukraine-pushes-the-west-to-re-arm', 'https://www.economist.com/europe/2022/08/02/what-would-push-the-west-and-russia-to-nuclear-war', 'https://www.economist.com/graphic-detail/2022/02/28/russians-in-every-major-city-and-region-call-for-nowar', 'https://www.economist.com/europe/2022/03/22/russia-says-western-sanctions-and-arms-shipments-to-ukraine-are-acts-of-war', 'https://www.economist.com/europe/2022/04/11/russias-invasion-of-ukraine-is-under-new-management', 'https://www.economist.com/the-economist-explains/2022/01/31/how-big-is-russias-military-build-up-around-ukraine', 'https://www.economist.com/europe/2023/03/30/the-kremlin-escalates-its-war-on-truth', 'https://www.economist.com/by-invitation/2023/01/29/talks-between-russia-and-ukraine-would-save-lives-argues-christopher-chivvis', 'https://www.economist.com/the-economist-explains/2022/09/24/how-russia-is-conscripting-men-to-fight-in-ukraine', 'https://www.economist.com/europe/2023/01/04/a-russian-warlords-savagery-is-sending-a-loud-message-to-moscow', 'https://www.economist.com/by-invitation/2022/02/09/yuval-noah-harari-argues-that-whats-at-stake-in-ukraine-is-the-direction-of-human-history', 'https://www.economist.com/international/2023/04/17/the-worlds-deadliest-war-last-year-wasnt-in-ukraine', 'https://www.economist.com/europe/2022/05/07/europes-hard-hit-east-is-pushing-the-toughest-response-in-ukraine', 'https://www.economist.com/the-world-ahead/2022/11/18/how-putins-war-is-causing-global-instability', 'https://www.economist.com/europe/2014/07/03/war-by-any-other-name', 'https://www.economist.com/briefing/2015/02/12/from-cold-war-to-hot-war']\n"
     ]
    }
   ],
   "source": [
    "print(saved_links)"
   ]
  },
  {
   "cell_type": "code",
   "execution_count": 15,
   "id": "89e94859",
   "metadata": {},
   "outputs": [
    {
     "name": "stderr",
     "output_type": "stream",
     "text": [
      "100it [01:40,  1.01s/it]\n"
     ]
    }
   ],
   "source": [
    "for i,link in tqdm(enumerate(saved_links)):\n",
    "    \n",
    "    page = requests.get(link)\n",
    "    soup = BeautifulSoup(page.text, \"html.parser\")\n",
    "    \n",
    "    try: # the try except is made to handle the problem that some links of the bbc aren't article, so when beautiful soup fail to load the article tag the news is skipped\n",
    "        # get article tag\n",
    "        article = soup.find_all(\"article\")[0]\n",
    "\n",
    "        #get title\n",
    "        title = article.find_all(\"h1\")[0].get_text()\n",
    "\n",
    "        #get author\n",
    "        author = ''\n",
    "\n",
    "        #get date\n",
    "        date = article.time['datetime']\n",
    "        date = pd.to_datetime(date).strftime('%d/%m/%y')\n",
    "\n",
    "        #get text\n",
    "        text = ''\n",
    "        for p in article.find_all('p'):\n",
    "            text += p.text\n",
    "\n",
    "        BbcArticles = BbcArticles.append({\"title\": title, \"author\": author, \"date\": date, \"text\": text}, ignore_index=True)\n",
    "    except:\n",
    "        pass"
   ]
  },
  {
   "cell_type": "code",
   "execution_count": 16,
   "id": "b9ec7781-24a8-4b60-8823-9e390903237d",
   "metadata": {
    "scrolled": true,
    "tags": []
   },
   "outputs": [
    {
     "data": {
      "text/html": [
       "<div>\n",
       "<style scoped>\n",
       "    .dataframe tbody tr th:only-of-type {\n",
       "        vertical-align: middle;\n",
       "    }\n",
       "\n",
       "    .dataframe tbody tr th {\n",
       "        vertical-align: top;\n",
       "    }\n",
       "\n",
       "    .dataframe thead th {\n",
       "        text-align: right;\n",
       "    }\n",
       "</style>\n",
       "<table border=\"1\" class=\"dataframe\">\n",
       "  <thead>\n",
       "    <tr style=\"text-align: right;\">\n",
       "      <th></th>\n",
       "      <th>title</th>\n",
       "      <th>author</th>\n",
       "      <th>date</th>\n",
       "      <th>text</th>\n",
       "    </tr>\n",
       "  </thead>\n",
       "  <tbody>\n",
       "    <tr>\n",
       "      <th>0</th>\n",
       "      <td>In Russia’s war in Ukraine, both sides have at...</td>\n",
       "      <td></td>\n",
       "      <td>21/03/22</td>\n",
       "      <td>Shortly after Vladimir Putin began his bloody ...</td>\n",
       "    </tr>\n",
       "    <tr>\n",
       "      <th>1</th>\n",
       "      <td>Does a protracted conflict favour Russia or Uk...</td>\n",
       "      <td></td>\n",
       "      <td>30/06/22</td>\n",
       "      <td>The typical war is short. Since 1815, the medi...</td>\n",
       "    </tr>\n",
       "    <tr>\n",
       "      <th>2</th>\n",
       "      <td>Three scenarios for how war in Ukraine could p...</td>\n",
       "      <td></td>\n",
       "      <td>14/11/22</td>\n",
       "      <td>By Shashank Joshi: Defence editor, The Economi...</td>\n",
       "    </tr>\n",
       "    <tr>\n",
       "      <th>3</th>\n",
       "      <td>How rare-gas supply adapted to Russia’s war</td>\n",
       "      <td></td>\n",
       "      <td>30/03/23</td>\n",
       "      <td>Read more of our recent coverage of the Ukrain...</td>\n",
       "    </tr>\n",
       "    <tr>\n",
       "      <th>4</th>\n",
       "      <td>How many Russians have been killed in Ukraine?</td>\n",
       "      <td></td>\n",
       "      <td>08/03/23</td>\n",
       "      <td>Read more of our recent coverage of the Ukrain...</td>\n",
       "    </tr>\n",
       "    <tr>\n",
       "      <th>...</th>\n",
       "      <td>...</td>\n",
       "      <td>...</td>\n",
       "      <td>...</td>\n",
       "      <td>...</td>\n",
       "    </tr>\n",
       "    <tr>\n",
       "      <th>94</th>\n",
       "      <td>The world’s deadliest war last year wasn’t in ...</td>\n",
       "      <td></td>\n",
       "      <td>17/04/23</td>\n",
       "      <td>Fighter jets roar over Khartoum. Bombs rattle ...</td>\n",
       "    </tr>\n",
       "    <tr>\n",
       "      <th>95</th>\n",
       "      <td>Europe’s hard-hit east is pushing the toughest...</td>\n",
       "      <td></td>\n",
       "      <td>07/05/22</td>\n",
       "      <td>WHEN RUSSIA invaded Ukraine, many eastern Euro...</td>\n",
       "    </tr>\n",
       "    <tr>\n",
       "      <th>96</th>\n",
       "      <td>How Putin’s war is causing global instability</td>\n",
       "      <td></td>\n",
       "      <td>18/11/22</td>\n",
       "      <td>By Robert Guest: Foreign editor, The Economist...</td>\n",
       "    </tr>\n",
       "    <tr>\n",
       "      <th>97</th>\n",
       "      <td>War by any other name</td>\n",
       "      <td></td>\n",
       "      <td>03/07/14</td>\n",
       "      <td>A “NON-LINEAR” war, explains Natan Dubovitsky,...</td>\n",
       "    </tr>\n",
       "    <tr>\n",
       "      <th>98</th>\n",
       "      <td>From cold war to hot war</td>\n",
       "      <td></td>\n",
       "      <td>12/02/15</td>\n",
       "      <td>THE pens were on the table in Minsk, Belarus’s...</td>\n",
       "    </tr>\n",
       "  </tbody>\n",
       "</table>\n",
       "<p>99 rows × 4 columns</p>\n",
       "</div>"
      ],
      "text/plain": [
       "                                                title author      date  \\\n",
       "0   In Russia’s war in Ukraine, both sides have at...         21/03/22   \n",
       "1   Does a protracted conflict favour Russia or Uk...         30/06/22   \n",
       "2   Three scenarios for how war in Ukraine could p...         14/11/22   \n",
       "3         How rare-gas supply adapted to Russia’s war         30/03/23   \n",
       "4      How many Russians have been killed in Ukraine?         08/03/23   \n",
       "..                                                ...    ...       ...   \n",
       "94  The world’s deadliest war last year wasn’t in ...         17/04/23   \n",
       "95  Europe’s hard-hit east is pushing the toughest...         07/05/22   \n",
       "96      How Putin’s war is causing global instability         18/11/22   \n",
       "97                              War by any other name         03/07/14   \n",
       "98                           From cold war to hot war         12/02/15   \n",
       "\n",
       "                                                 text  \n",
       "0   Shortly after Vladimir Putin began his bloody ...  \n",
       "1   The typical war is short. Since 1815, the medi...  \n",
       "2   By Shashank Joshi: Defence editor, The Economi...  \n",
       "3   Read more of our recent coverage of the Ukrain...  \n",
       "4   Read more of our recent coverage of the Ukrain...  \n",
       "..                                                ...  \n",
       "94  Fighter jets roar over Khartoum. Bombs rattle ...  \n",
       "95  WHEN RUSSIA invaded Ukraine, many eastern Euro...  \n",
       "96  By Robert Guest: Foreign editor, The Economist...  \n",
       "97  A “NON-LINEAR” war, explains Natan Dubovitsky,...  \n",
       "98  THE pens were on the table in Minsk, Belarus’s...  \n",
       "\n",
       "[99 rows x 4 columns]"
      ]
     },
     "execution_count": 16,
     "metadata": {},
     "output_type": "execute_result"
    }
   ],
   "source": [
    "BbcArticles"
   ]
  },
  {
   "cell_type": "code",
   "execution_count": 18,
   "id": "c117913b-0bc7-4691-bbd0-bc3efed8770f",
   "metadata": {},
   "outputs": [],
   "source": [
    "BbcArticles.to_csv(\"scraper_the_economist.csv\")"
   ]
  }
 ],
 "metadata": {
  "kernelspec": {
   "display_name": "Python 3 (ipykernel)",
   "language": "python",
   "name": "python3"
  },
  "language_info": {
   "codemirror_mode": {
    "name": "ipython",
    "version": 3
   },
   "file_extension": ".py",
   "mimetype": "text/x-python",
   "name": "python",
   "nbconvert_exporter": "python",
   "pygments_lexer": "ipython3",
   "version": "3.9.12"
  }
 },
 "nbformat": 4,
 "nbformat_minor": 5
}
