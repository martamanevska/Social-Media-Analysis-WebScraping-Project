{
 "cells": [
  {
   "cell_type": "markdown",
   "metadata": {},
   "source": [
    "##### Social Media Analytics\n",
    "### Introduction to Text Mining\n",
    "## Sentiment Analysis\n",
    "(c) Nuno Antonio 2019-2022 v1.02"
   ]
  },
  {
   "cell_type": "markdown",
   "metadata": {},
   "source": [
    "### Initial setup"
   ]
  },
  {
   "cell_type": "code",
   "execution_count": 1,
   "metadata": {},
   "outputs": [],
   "source": [
    "# Import packages\n",
    "import csv\n",
    "import pandas as pd\n",
    "import numpy as np\n",
    "import nltk \n",
    "import re\n",
    "from bs4 import BeautifulSoup\n",
    "from nltk.tokenize import sent_tokenize\n",
    "from nltk.tokenize import word_tokenize\n",
    "from nltk.corpus import stopwords\n",
    "from vaderSentiment.vaderSentiment import SentimentIntensityAnalyzer\n",
    "\n",
    "#nltk.download('punkt')"
   ]
  },
  {
   "cell_type": "code",
   "execution_count": 2,
   "metadata": {},
   "outputs": [],
   "source": [
    "# Load dataset\n",
    "ds = pd.read_parquet(\"sputnik.parquet.snappy\", engine='fastparquet')\n",
    "\n",
    "# Define the desired data types\n",
    "#dtypes = {'title': 'category', 'author': 'category', 'date': 'datetime64[ns]', 'text': 'category', 'comments': 'object'}\n",
    "\n",
    "# Convert columns to specified data types\n",
    "ds['date'] = pd.to_datetime(ds['date'])  # Convert 'date' column to datetime\n",
    "\n",
    "#ds = ds.astype(dtypes)"
   ]
  },
  {
   "cell_type": "code",
   "execution_count": 3,
   "metadata": {
    "scrolled": true
   },
   "outputs": [
    {
     "data": {
      "text/html": [
       "<div>\n",
       "<style scoped>\n",
       "    .dataframe tbody tr th:only-of-type {\n",
       "        vertical-align: middle;\n",
       "    }\n",
       "\n",
       "    .dataframe tbody tr th {\n",
       "        vertical-align: top;\n",
       "    }\n",
       "\n",
       "    .dataframe thead th {\n",
       "        text-align: right;\n",
       "    }\n",
       "</style>\n",
       "<table border=\"1\" class=\"dataframe\">\n",
       "  <thead>\n",
       "    <tr style=\"text-align: right;\">\n",
       "      <th></th>\n",
       "      <th>link</th>\n",
       "      <th>title</th>\n",
       "      <th>author</th>\n",
       "      <th>date</th>\n",
       "      <th>text</th>\n",
       "      <th>comments</th>\n",
       "    </tr>\n",
       "  </thead>\n",
       "  <tbody>\n",
       "    <tr>\n",
       "      <th>0</th>\n",
       "      <td>/20230501/watch-russian-army-sappers-blow-up-a...</td>\n",
       "      <td>Watch Russian Army Sappers Blow Up Abandoned Ammo</td>\n",
       "      <td>Oleg Burunov https://cdn1.img.sputnikglobe.com...</td>\n",
       "      <td>2023-01-05</td>\n",
       "      <td>The Russian Ministry of Defense (MoD) has rele...</td>\n",
       "      <td>[]</td>\n",
       "    </tr>\n",
       "    <tr>\n",
       "      <th>1</th>\n",
       "      <td>/20230501/kiev-lost-over-300-soldiers-over-pas...</td>\n",
       "      <td>Kiev Lost Over 300 Soldiers Over Past 24 Hours...</td>\n",
       "      <td>Sputnik International</td>\n",
       "      <td>2023-01-05</td>\n",
       "      <td>\"Over the past day, the aviation carried out s...</td>\n",
       "      <td>[330 US mercenaries with mostly Ukrainian pass...</td>\n",
       "    </tr>\n",
       "    <tr>\n",
       "      <th>2</th>\n",
       "      <td>/20230430/russia-destroys-up-to-200-tonnes-of-...</td>\n",
       "      <td>Russia Destroys Up to 200 Tons of Ukrainian Am...</td>\n",
       "      <td>Sputnik International</td>\n",
       "      <td>2023-04-30</td>\n",
       "      <td>\"As a result of a strike on an echelon at a ra...</td>\n",
       "      <td>[Very soon they will only have stones to throw...</td>\n",
       "    </tr>\n",
       "    <tr>\n",
       "      <th>3</th>\n",
       "      <td>/20230430/russian-forces-discover-underground-...</td>\n",
       "      <td>Russian Forces Discover Underground Soledar Ar...</td>\n",
       "      <td>Oleg Burunov https://cdn1.img.sputnikglobe.com...</td>\n",
       "      <td>2023-04-30</td>\n",
       "      <td>The Armed Forces of Ukraine failed in its effo...</td>\n",
       "      <td>[Kudos to the Russian explosive ordnance dispo...</td>\n",
       "    </tr>\n",
       "    <tr>\n",
       "      <th>4</th>\n",
       "      <td>/20230430/ukraine-loses-over-480-military-merc...</td>\n",
       "      <td>Ukraine Loses Over 480 Military, Mercenaries i...</td>\n",
       "      <td>Sputnik International</td>\n",
       "      <td>2023-04-30</td>\n",
       "      <td>\"Over the past 24 hours, over 480 Ukrainian se...</td>\n",
       "      <td>[]</td>\n",
       "    </tr>\n",
       "  </tbody>\n",
       "</table>\n",
       "</div>"
      ],
      "text/plain": [
       "                                                link  \\\n",
       "0  /20230501/watch-russian-army-sappers-blow-up-a...   \n",
       "1  /20230501/kiev-lost-over-300-soldiers-over-pas...   \n",
       "2  /20230430/russia-destroys-up-to-200-tonnes-of-...   \n",
       "3  /20230430/russian-forces-discover-underground-...   \n",
       "4  /20230430/ukraine-loses-over-480-military-merc...   \n",
       "\n",
       "                                               title  \\\n",
       "0  Watch Russian Army Sappers Blow Up Abandoned Ammo   \n",
       "1  Kiev Lost Over 300 Soldiers Over Past 24 Hours...   \n",
       "2  Russia Destroys Up to 200 Tons of Ukrainian Am...   \n",
       "3  Russian Forces Discover Underground Soledar Ar...   \n",
       "4  Ukraine Loses Over 480 Military, Mercenaries i...   \n",
       "\n",
       "                                              author       date  \\\n",
       "0  Oleg Burunov https://cdn1.img.sputnikglobe.com... 2023-01-05   \n",
       "1                              Sputnik International 2023-01-05   \n",
       "2                              Sputnik International 2023-04-30   \n",
       "3  Oleg Burunov https://cdn1.img.sputnikglobe.com... 2023-04-30   \n",
       "4                              Sputnik International 2023-04-30   \n",
       "\n",
       "                                                text  \\\n",
       "0  The Russian Ministry of Defense (MoD) has rele...   \n",
       "1  \"Over the past day, the aviation carried out s...   \n",
       "2  \"As a result of a strike on an echelon at a ra...   \n",
       "3  The Armed Forces of Ukraine failed in its effo...   \n",
       "4  \"Over the past 24 hours, over 480 Ukrainian se...   \n",
       "\n",
       "                                            comments  \n",
       "0                                                 []  \n",
       "1  [330 US mercenaries with mostly Ukrainian pass...  \n",
       "2  [Very soon they will only have stones to throw...  \n",
       "3  [Kudos to the Russian explosive ordnance dispo...  \n",
       "4                                                 []  "
      ]
     },
     "execution_count": 3,
     "metadata": {},
     "output_type": "execute_result"
    }
   ],
   "source": [
    "ds.head()"
   ]
  },
  {
   "cell_type": "code",
   "execution_count": 4,
   "metadata": {},
   "outputs": [
    {
     "name": "stdout",
     "output_type": "stream",
     "text": [
      "                                                link  \\\n",
      "0  /20230501/watch-russian-army-sappers-blow-up-a...   \n",
      "1  /20230501/kiev-lost-over-300-soldiers-over-pas...   \n",
      "2  /20230430/russia-destroys-up-to-200-tonnes-of-...   \n",
      "3  /20230430/russian-forces-discover-underground-...   \n",
      "4  /20230430/ukraine-loses-over-480-military-merc...   \n",
      "5  /20230430/watch-russian-multiple-launch-rocket...   \n",
      "6  /20230430/russian-forces-hit-ukrainian-drone-c...   \n",
      "7  /20230429/watch-russian-armed-forces-fire-crui...   \n",
      "8  /20230429/kievs-counteroffensive-bluster-all-a...   \n",
      "9  /20230429/moscow-ukraine-loses-nearly-600-mili...   \n",
      "\n",
      "                                               title  \\\n",
      "0  Watch Russian Army Sappers Blow Up Abandoned Ammo   \n",
      "1  Kiev Lost Over 300 Soldiers Over Past 24 Hours...   \n",
      "2  Russia Destroys Up to 200 Tons of Ukrainian Am...   \n",
      "3  Russian Forces Discover Underground Soledar Ar...   \n",
      "4  Ukraine Loses Over 480 Military, Mercenaries i...   \n",
      "5  Watch Russian Multiple Launch Rocket System Ob...   \n",
      "6  Russian Forces Hit Ukrainian Drone Control Pos...   \n",
      "7  Watch Russian Armed Forces Fire Cruise Missile...   \n",
      "8  Kiev’s Counteroffensive Bluster ‘All About PR’...   \n",
      "9  Ukraine Loses Nearly 600 Military, Mercenaries...   \n",
      "\n",
      "                                              author       date  \\\n",
      "0  Oleg Burunov https://cdn1.img.sputnikglobe.com... 2023-01-05   \n",
      "1                              Sputnik International 2023-01-05   \n",
      "2                              Sputnik International 2023-04-30   \n",
      "3  Oleg Burunov https://cdn1.img.sputnikglobe.com... 2023-04-30   \n",
      "4                              Sputnik International 2023-04-30   \n",
      "5  Oleg Burunov https://cdn1.img.sputnikglobe.com... 2023-04-30   \n",
      "6                              Sputnik International 2023-04-30   \n",
      "7                              Sputnik International 2023-04-29   \n",
      "8                                 Svetlana Ekimenko  2023-04-29   \n",
      "9                              Sputnik International 2023-04-29   \n",
      "\n",
      "                                                text  \\\n",
      "0  The Russian Ministry of Defense (MoD) has rele...   \n",
      "1  \"Over the past day, the aviation carried out s...   \n",
      "2  \"As a result of a strike on an echelon at a ra...   \n",
      "3  The Armed Forces of Ukraine failed in its effo...   \n",
      "4  \"Over the past 24 hours, over 480 Ukrainian se...   \n",
      "5  Sputnik obtained a video of a Grad Russian mul...   \n",
      "6  \"[Russian] Artillery units … inflicted fire da...   \n",
      "7  Russian forces have launched a cruise missile ...   \n",
      "8  The Kiev regime has gathered up “cannon fodder...   \n",
      "9  \"Total enemy losses in this direction amounted...   \n",
      "\n",
      "                                            comments  \n",
      "0                                                 []  \n",
      "1  [330 US mercenaries with mostly Ukrainian pass...  \n",
      "2  [Very soon they will only have stones to throw...  \n",
      "3  [Kudos to the Russian explosive ordnance dispo...  \n",
      "4                                                 []  \n",
      "5                                                 []  \n",
      "6  [Ta ra ra BOOM de aye!  Rest in pieces, Neonaz...  \n",
      "7                                                 []  \n",
      "8  [Put Elensky and his big-nosed cohorts at the ...  \n",
      "9  [Well done, Russia and Good luck for the final...  \n"
     ]
    }
   ],
   "source": [
    "sample_data = ds.head(10)  # Retrieves the first 10 rows\n",
    "print(sample_data)"
   ]
  },
  {
   "cell_type": "markdown",
   "metadata": {},
   "source": [
    "### Functions"
   ]
  },
  {
   "cell_type": "code",
   "execution_count": 5,
   "metadata": {},
   "outputs": [],
   "source": [
    "# Text preprocessing\n",
    "def textPreProcess(rawText, removeHTML=True, charsToRemove = r\"\\?|\\.|\\!|\\;|\\.|\\\"|\\,|\\(|\\)|\\&|\\:|\\|[0-9]|--| [ ] |'s |said|says|also|according|Ukrainian|Ukraine|US|Russian|Russia|would\", removeNumbers=True, removeLineBreaks=False, specialCharsToRemove = r'[^\\x00-\\xfd]', convertToLower=True, removeConsecutiveSpaces=True):\n",
    "    if type(rawText) != str:\n",
    "        return rawText\n",
    "    procText = rawText\n",
    "        \n",
    "    # Remove HTML\n",
    "    if removeHTML:\n",
    "        procText = BeautifulSoup(procText,'html.parser').get_text()\n",
    "\n",
    "    # Remove punctuation and other special characters\n",
    "    if len(charsToRemove)>0:\n",
    "        procText = re.sub(charsToRemove,' ',procText)\n",
    "\n",
    "    # Remove numbers\n",
    "    if removeNumbers:\n",
    "        procText = re.sub(r'\\d+',' ',procText)\n",
    "\n",
    "    # Remove line breaks\n",
    "    if removeLineBreaks:\n",
    "        procText = procText.replace('\\n',' ').replace('\\r', '')\n",
    "\n",
    "    # Remove special characters\n",
    "    if len(specialCharsToRemove)>0:\n",
    "        procText = re.sub(specialCharsToRemove,' ',procText)\n",
    "\n",
    "    # Normalize to lower case\n",
    "    if convertToLower:\n",
    "        procText = procText.lower() \n",
    "\n",
    "    # Replace multiple consecutive spaces with just one space\n",
    "    if removeConsecutiveSpaces:\n",
    "        procText = re.sub(' +', ' ', procText)\n",
    "        \n",
    "\n",
    "    return procText"
   ]
  },
  {
   "cell_type": "code",
   "execution_count": 6,
   "metadata": {},
   "outputs": [],
   "source": [
    "# Tokenize words\n",
    "def tokenize_words(words):\n",
    "    if (type(words) != str) or (word_tokenize(words) == ''):\n",
    "        return np.nan\n",
    "    else:\n",
    "        return word_tokenize(words)"
   ]
  },
  {
   "cell_type": "code",
   "execution_count": 7,
   "metadata": {},
   "outputs": [],
   "source": [
    "# Function to create text from words\n",
    "def recreateText(words):\n",
    "    if type(words) == list:\n",
    "        temp_str = (' ').join(words)\n",
    "        return temp_str\n",
    "    else:\n",
    "        return np.nan"
   ]
  },
  {
   "cell_type": "code",
   "execution_count": 8,
   "metadata": {},
   "outputs": [],
   "source": [
    "# Function to break texts into sentences\n",
    "def tokenize_sentences(texts):\n",
    "    s_token = sent_tokenize(texts)\n",
    "    return s_token"
   ]
  },
  {
   "cell_type": "code",
   "execution_count": 9,
   "metadata": {},
   "outputs": [],
   "source": [
    "# Function to remove stop words\n",
    "def removeStopWords(t, stop_words):\n",
    "    if type(t) == list:\n",
    "        return [w for w in t if not w in stop_words]\n",
    "    else:\n",
    "        return np.nan"
   ]
  },
  {
   "cell_type": "markdown",
   "metadata": {},
   "source": [
    "### Analysis"
   ]
  },
  {
   "cell_type": "code",
   "execution_count": 10,
   "metadata": {
    "scrolled": false
   },
   "outputs": [],
   "source": [
    "# Break reviews' into a list of lists sentences\n",
    "listOfSentences = ds.text.apply(tokenize_sentences)"
   ]
  },
  {
   "cell_type": "code",
   "execution_count": 11,
   "metadata": {},
   "outputs": [
    {
     "data": {
      "text/plain": [
       "['The Russian Ministry of Defense (MoD) has released a video showing the work of army sappers in the zone of Moscow’s special military operation in Ukraine.In footage published on the MoD’s Telegram page, the servicemen are seen performing a controlled explosion of the projectiles that had apparently been abandoned by Ukrainian units and then detected by Russian forces in an unspecified area.The MoD quoted a demining platoon commander as saying that more than 1,000 shells have already been destroyed.',\n",
       " '\"Sowing machinery will soon ride across these fields and life will return back to normal there,\" he added.']"
      ]
     },
     "execution_count": 11,
     "metadata": {},
     "output_type": "execute_result"
    }
   ],
   "source": [
    "# Sentences of first review\n",
    "listOfSentences[0]"
   ]
  },
  {
   "cell_type": "code",
   "execution_count": 12,
   "metadata": {},
   "outputs": [],
   "source": [
    "# Create a dataframe with only the description\n",
    "dsprocessedText = pd.DataFrame(data=ds.text.apply(textPreProcess,charsToRemove ='', removeLineBreaks=False, removeNumbers=False).values, index=ds.index, columns=['PreProcessedText'])"
   ]
  },
  {
   "cell_type": "code",
   "execution_count": 13,
   "metadata": {},
   "outputs": [
    {
     "data": {
      "text/plain": [
       "'The Russian Ministry of Defense (MoD) has released a video showing the work of army sappers in the zone of Moscow’s special military operation in Ukraine.In footage published on the MoD’s Telegram page, the servicemen are seen performing a controlled explosion of the projectiles that had apparently been abandoned by Ukrainian units and then detected by Russian forces in an unspecified area.The MoD quoted a demining platoon commander as saying that more than 1,000 shells have already been destroyed.\"Sowing machinery will soon ride across these fields and life will return back to normal there,\" he added.'"
      ]
     },
     "execution_count": 13,
     "metadata": {},
     "output_type": "execute_result"
    }
   ],
   "source": [
    "# Check first review\n",
    "ds.text[0]"
   ]
  },
  {
   "cell_type": "code",
   "execution_count": 14,
   "metadata": {},
   "outputs": [],
   "source": [
    "# Create DataFrame for sentences\n",
    "#sentences = pd.DataFrame(data=[item for elem in listOfSentences for item in elem], columns=['BaseText'])\n",
    "sentences = pd.DataFrame(data=[item for elem in listOfSentences for item in elem if pd.notnull(item)], columns=['BaseText'])"
   ]
  },
  {
   "cell_type": "code",
   "execution_count": 15,
   "metadata": {},
   "outputs": [
    {
     "ename": "KeyError",
     "evalue": "'RevID'",
     "output_type": "error",
     "traceback": [
      "\u001b[1;31m---------------------------------------------------------------------------\u001b[0m",
      "\u001b[1;31mKeyError\u001b[0m                                  Traceback (most recent call last)",
      "File \u001b[1;32m~\\anaconda3\\lib\\site-packages\\pandas\\core\\indexes\\base.py:3802\u001b[0m, in \u001b[0;36mIndex.get_loc\u001b[1;34m(self, key, method, tolerance)\u001b[0m\n\u001b[0;32m   3801\u001b[0m \u001b[38;5;28;01mtry\u001b[39;00m:\n\u001b[1;32m-> 3802\u001b[0m     \u001b[38;5;28;01mreturn\u001b[39;00m \u001b[38;5;28;43mself\u001b[39;49m\u001b[38;5;241;43m.\u001b[39;49m\u001b[43m_engine\u001b[49m\u001b[38;5;241;43m.\u001b[39;49m\u001b[43mget_loc\u001b[49m\u001b[43m(\u001b[49m\u001b[43mcasted_key\u001b[49m\u001b[43m)\u001b[49m\n\u001b[0;32m   3803\u001b[0m \u001b[38;5;28;01mexcept\u001b[39;00m \u001b[38;5;167;01mKeyError\u001b[39;00m \u001b[38;5;28;01mas\u001b[39;00m err:\n",
      "File \u001b[1;32m~\\anaconda3\\lib\\site-packages\\pandas\\_libs\\index.pyx:138\u001b[0m, in \u001b[0;36mpandas._libs.index.IndexEngine.get_loc\u001b[1;34m()\u001b[0m\n",
      "File \u001b[1;32m~\\anaconda3\\lib\\site-packages\\pandas\\_libs\\index.pyx:165\u001b[0m, in \u001b[0;36mpandas._libs.index.IndexEngine.get_loc\u001b[1;34m()\u001b[0m\n",
      "File \u001b[1;32mpandas\\_libs\\hashtable_class_helper.pxi:5745\u001b[0m, in \u001b[0;36mpandas._libs.hashtable.PyObjectHashTable.get_item\u001b[1;34m()\u001b[0m\n",
      "File \u001b[1;32mpandas\\_libs\\hashtable_class_helper.pxi:5753\u001b[0m, in \u001b[0;36mpandas._libs.hashtable.PyObjectHashTable.get_item\u001b[1;34m()\u001b[0m\n",
      "\u001b[1;31mKeyError\u001b[0m: 'RevID'",
      "\nThe above exception was the direct cause of the following exception:\n",
      "\u001b[1;31mKeyError\u001b[0m                                  Traceback (most recent call last)",
      "Input \u001b[1;32mIn [15]\u001b[0m, in \u001b[0;36m<cell line: 5>\u001b[1;34m()\u001b[0m\n\u001b[0;32m      3\u001b[0m \u001b[38;5;28;01mfor\u001b[39;00m elem \u001b[38;5;129;01min\u001b[39;00m listOfSentences:\n\u001b[0;32m      4\u001b[0m   sentencesPerReview\u001b[38;5;241m.\u001b[39mappend(\u001b[38;5;28mlen\u001b[39m(elem))\n\u001b[1;32m----> 5\u001b[0m sentences[\u001b[38;5;124m'\u001b[39m\u001b[38;5;124mRevID\u001b[39m\u001b[38;5;124m'\u001b[39m] \u001b[38;5;241m=\u001b[39m np\u001b[38;5;241m.\u001b[39mrepeat(\u001b[43mds\u001b[49m\u001b[43m[\u001b[49m\u001b[38;5;124;43m'\u001b[39;49m\u001b[38;5;124;43mRevID\u001b[39;49m\u001b[38;5;124;43m'\u001b[39;49m\u001b[43m]\u001b[49m\u001b[38;5;241m.\u001b[39mvalues,sentencesPerReview)\n",
      "File \u001b[1;32m~\\anaconda3\\lib\\site-packages\\pandas\\core\\frame.py:3807\u001b[0m, in \u001b[0;36mDataFrame.__getitem__\u001b[1;34m(self, key)\u001b[0m\n\u001b[0;32m   3805\u001b[0m \u001b[38;5;28;01mif\u001b[39;00m \u001b[38;5;28mself\u001b[39m\u001b[38;5;241m.\u001b[39mcolumns\u001b[38;5;241m.\u001b[39mnlevels \u001b[38;5;241m>\u001b[39m \u001b[38;5;241m1\u001b[39m:\n\u001b[0;32m   3806\u001b[0m     \u001b[38;5;28;01mreturn\u001b[39;00m \u001b[38;5;28mself\u001b[39m\u001b[38;5;241m.\u001b[39m_getitem_multilevel(key)\n\u001b[1;32m-> 3807\u001b[0m indexer \u001b[38;5;241m=\u001b[39m \u001b[38;5;28;43mself\u001b[39;49m\u001b[38;5;241;43m.\u001b[39;49m\u001b[43mcolumns\u001b[49m\u001b[38;5;241;43m.\u001b[39;49m\u001b[43mget_loc\u001b[49m\u001b[43m(\u001b[49m\u001b[43mkey\u001b[49m\u001b[43m)\u001b[49m\n\u001b[0;32m   3808\u001b[0m \u001b[38;5;28;01mif\u001b[39;00m is_integer(indexer):\n\u001b[0;32m   3809\u001b[0m     indexer \u001b[38;5;241m=\u001b[39m [indexer]\n",
      "File \u001b[1;32m~\\anaconda3\\lib\\site-packages\\pandas\\core\\indexes\\base.py:3804\u001b[0m, in \u001b[0;36mIndex.get_loc\u001b[1;34m(self, key, method, tolerance)\u001b[0m\n\u001b[0;32m   3802\u001b[0m     \u001b[38;5;28;01mreturn\u001b[39;00m \u001b[38;5;28mself\u001b[39m\u001b[38;5;241m.\u001b[39m_engine\u001b[38;5;241m.\u001b[39mget_loc(casted_key)\n\u001b[0;32m   3803\u001b[0m \u001b[38;5;28;01mexcept\u001b[39;00m \u001b[38;5;167;01mKeyError\u001b[39;00m \u001b[38;5;28;01mas\u001b[39;00m err:\n\u001b[1;32m-> 3804\u001b[0m     \u001b[38;5;28;01mraise\u001b[39;00m \u001b[38;5;167;01mKeyError\u001b[39;00m(key) \u001b[38;5;28;01mfrom\u001b[39;00m \u001b[38;5;21;01merr\u001b[39;00m\n\u001b[0;32m   3805\u001b[0m \u001b[38;5;28;01mexcept\u001b[39;00m \u001b[38;5;167;01mTypeError\u001b[39;00m:\n\u001b[0;32m   3806\u001b[0m     \u001b[38;5;66;03m# If we have a listlike key, _check_indexing_error will raise\u001b[39;00m\n\u001b[0;32m   3807\u001b[0m     \u001b[38;5;66;03m#  InvalidIndexError. Otherwise we fall through and re-raise\u001b[39;00m\n\u001b[0;32m   3808\u001b[0m     \u001b[38;5;66;03m#  the TypeError.\u001b[39;00m\n\u001b[0;32m   3809\u001b[0m     \u001b[38;5;28mself\u001b[39m\u001b[38;5;241m.\u001b[39m_check_indexing_error(key)\n",
      "\u001b[1;31mKeyError\u001b[0m: 'RevID'"
     ]
    }
   ],
   "source": [
    "# Add a column with the review ID\n",
    "sentencesPerReview = []\n",
    "for elem in listOfSentences:\n",
    "  sentencesPerReview.append(len(elem))\n",
    "sentences['RevID'] = np.repeat(ds['RevID'].values,sentencesPerReview)"
   ]
  },
  {
   "cell_type": "code",
   "execution_count": null,
   "metadata": {},
   "outputs": [],
   "source": [
    "# Preprocess text \n",
    "sentences['PreProcessedText'] = sentences['BaseText'].apply(textPreProcess)"
   ]
  },
  {
   "cell_type": "code",
   "execution_count": 16,
   "metadata": {},
   "outputs": [],
   "source": [
    "# Get words\n",
    "sentences['Words'] =  sentences['PreProcessedText'].apply(tokenize_words)"
   ]
  },
  {
   "cell_type": "code",
   "execution_count": 17,
   "metadata": {},
   "outputs": [],
   "source": [
    "# Remove stopwords\n",
    "stop_words = set(stopwords.words('english'))\n",
    "sentences['WordsCleaned'] = sentences['Words'].apply(removeStopWords,stop_words=stop_words)"
   ]
  },
  {
   "cell_type": "code",
   "execution_count": 18,
   "metadata": {},
   "outputs": [],
   "source": [
    "# Recreate sentence without stopwords\n",
    "sentences['ProcessedText'] = sentences['WordsCleaned'].apply(recreateText)"
   ]
  },
  {
   "cell_type": "code",
   "execution_count": 19,
   "metadata": {},
   "outputs": [],
   "source": [
    "# Create sentiment analysis object\n",
    "analyser = SentimentIntensityAnalyzer()"
   ]
  },
  {
   "cell_type": "code",
   "execution_count": 20,
   "metadata": {},
   "outputs": [
    {
     "name": "stdout",
     "output_type": "stream",
     "text": [
      "hotel centrally located bars restaurants within minutes walk {'neg': 0.0, 'neu': 1.0, 'pos': 0.0, 'compound': 0.0}\n"
     ]
    }
   ],
   "source": [
    "# To test, let's evaluate first sentence of first review\n",
    "# Scales:\n",
    "#   compound: -1:most extreme negative, 1:most extreme positive\n",
    "#     positive: compound >=0.05\n",
    "#     neutral: -0.05<compound<0.05\n",
    "#     negative: compound <= -0.05\n",
    "#   pos, neu, neg: proportion of text that are positive, neutral or negative\n",
    "score = analyser.polarity_scores(sentences['ProcessedText'][0])\n",
    "print(sentences['ProcessedText'][0],score)"
   ]
  },
  {
   "cell_type": "code",
   "execution_count": 21,
   "metadata": {},
   "outputs": [],
   "source": [
    "# Process sentiment for all sentences\n",
    "all_scores = []\n",
    "for t in (sentences['ProcessedText'][:]):\n",
    "  score = analyser.polarity_scores(t)\n",
    "  all_scores.append(score)\n",
    "sentences['Sentiment'] = [c['compound'] for c in all_scores]"
   ]
  },
  {
   "cell_type": "code",
   "execution_count": 22,
   "metadata": {},
   "outputs": [],
   "source": [
    "# Compute review's sentiment as the mean sentiment from its sentences\n",
    "meanByReview = sentences.groupby('RevID')['Sentiment'].mean()\n",
    "\n",
    "# Consider sentences with no result as neutral (0)\n",
    "meanByReview = meanByReview.fillna(0)\n",
    "\n",
    "# Add column Sentiment to reviews Dataframe\n",
    "ds['Sentiment'] = meanByReview[ds['RevID']].values"
   ]
  },
  {
   "cell_type": "code",
   "execution_count": 23,
   "metadata": {},
   "outputs": [],
   "source": [
    "# Assign a qualitative evaluation to the review\n",
    "bins = pd.IntervalIndex.from_tuples([(-1.1, -0.05), (-0.05, 0.05), (0.05, 1)], closed='right')\n",
    "x = pd.cut(ds['Sentiment'].to_list(), bins)\n",
    "x.categories = ['Negative','Neutral','Positive']\n",
    "ds['Polarity'] = x"
   ]
  },
  {
   "cell_type": "code",
   "execution_count": 24,
   "metadata": {},
   "outputs": [
    {
     "data": {
      "text/html": [
       "<div>\n",
       "<style scoped>\n",
       "    .dataframe tbody tr th:only-of-type {\n",
       "        vertical-align: middle;\n",
       "    }\n",
       "\n",
       "    .dataframe tbody tr th {\n",
       "        vertical-align: top;\n",
       "    }\n",
       "\n",
       "    .dataframe thead th {\n",
       "        text-align: right;\n",
       "    }\n",
       "</style>\n",
       "<table border=\"1\" class=\"dataframe\">\n",
       "  <thead>\n",
       "    <tr style=\"text-align: right;\">\n",
       "      <th></th>\n",
       "      <th>Sentiment</th>\n",
       "    </tr>\n",
       "    <tr>\n",
       "      <th>HotelID</th>\n",
       "      <th></th>\n",
       "    </tr>\n",
       "  </thead>\n",
       "  <tbody>\n",
       "    <tr>\n",
       "      <th>1</th>\n",
       "      <td>0.361068</td>\n",
       "    </tr>\n",
       "    <tr>\n",
       "      <th>10</th>\n",
       "      <td>0.376767</td>\n",
       "    </tr>\n",
       "    <tr>\n",
       "      <th>11</th>\n",
       "      <td>0.323291</td>\n",
       "    </tr>\n",
       "    <tr>\n",
       "      <th>12</th>\n",
       "      <td>0.339835</td>\n",
       "    </tr>\n",
       "    <tr>\n",
       "      <th>13</th>\n",
       "      <td>0.369670</td>\n",
       "    </tr>\n",
       "    <tr>\n",
       "      <th>...</th>\n",
       "      <td>...</td>\n",
       "    </tr>\n",
       "    <tr>\n",
       "      <th>65</th>\n",
       "      <td>0.478573</td>\n",
       "    </tr>\n",
       "    <tr>\n",
       "      <th>66</th>\n",
       "      <td>0.452675</td>\n",
       "    </tr>\n",
       "    <tr>\n",
       "      <th>7</th>\n",
       "      <td>0.240772</td>\n",
       "    </tr>\n",
       "    <tr>\n",
       "      <th>8</th>\n",
       "      <td>0.339550</td>\n",
       "    </tr>\n",
       "    <tr>\n",
       "      <th>9</th>\n",
       "      <td>0.364137</td>\n",
       "    </tr>\n",
       "  </tbody>\n",
       "</table>\n",
       "<p>64 rows × 1 columns</p>\n",
       "</div>"
      ],
      "text/plain": [
       "         Sentiment\n",
       "HotelID           \n",
       "1         0.361068\n",
       "10        0.376767\n",
       "11        0.323291\n",
       "12        0.339835\n",
       "13        0.369670\n",
       "...            ...\n",
       "65        0.478573\n",
       "66        0.452675\n",
       "7         0.240772\n",
       "8         0.339550\n",
       "9         0.364137\n",
       "\n",
       "[64 rows x 1 columns]"
      ]
     },
     "execution_count": 24,
     "metadata": {},
     "output_type": "execute_result"
    }
   ],
   "source": [
    "# Analysis examples:\n",
    "# Mean by hotel \n",
    "ex1 = ds.groupby('HotelID')['Sentiment'].mean().to_frame()\n",
    "ex1"
   ]
  },
  {
   "cell_type": "code",
   "execution_count": 25,
   "metadata": {},
   "outputs": [
    {
     "data": {
      "text/html": [
       "<div>\n",
       "<style scoped>\n",
       "    .dataframe tbody tr th:only-of-type {\n",
       "        vertical-align: middle;\n",
       "    }\n",
       "\n",
       "    .dataframe tbody tr th {\n",
       "        vertical-align: top;\n",
       "    }\n",
       "\n",
       "    .dataframe thead th {\n",
       "        text-align: right;\n",
       "    }\n",
       "</style>\n",
       "<table border=\"1\" class=\"dataframe\">\n",
       "  <thead>\n",
       "    <tr style=\"text-align: right;\">\n",
       "      <th></th>\n",
       "      <th>HotelType</th>\n",
       "      <th>HotelStars</th>\n",
       "      <th>Sentiment</th>\n",
       "    </tr>\n",
       "  </thead>\n",
       "  <tbody>\n",
       "    <tr>\n",
       "      <th>0</th>\n",
       "      <td>City</td>\n",
       "      <td>2</td>\n",
       "      <td>0.236023</td>\n",
       "    </tr>\n",
       "    <tr>\n",
       "      <th>1</th>\n",
       "      <td>City</td>\n",
       "      <td>3</td>\n",
       "      <td>0.334388</td>\n",
       "    </tr>\n",
       "    <tr>\n",
       "      <th>2</th>\n",
       "      <td>City</td>\n",
       "      <td>4</td>\n",
       "      <td>0.343244</td>\n",
       "    </tr>\n",
       "    <tr>\n",
       "      <th>3</th>\n",
       "      <td>City</td>\n",
       "      <td>5</td>\n",
       "      <td>0.324848</td>\n",
       "    </tr>\n",
       "    <tr>\n",
       "      <th>4</th>\n",
       "      <td>Resort</td>\n",
       "      <td>2</td>\n",
       "      <td>0.302441</td>\n",
       "    </tr>\n",
       "    <tr>\n",
       "      <th>5</th>\n",
       "      <td>Resort</td>\n",
       "      <td>3</td>\n",
       "      <td>0.331119</td>\n",
       "    </tr>\n",
       "    <tr>\n",
       "      <th>6</th>\n",
       "      <td>Resort</td>\n",
       "      <td>4</td>\n",
       "      <td>0.406917</td>\n",
       "    </tr>\n",
       "    <tr>\n",
       "      <th>7</th>\n",
       "      <td>Resort</td>\n",
       "      <td>5</td>\n",
       "      <td>0.369157</td>\n",
       "    </tr>\n",
       "  </tbody>\n",
       "</table>\n",
       "</div>"
      ],
      "text/plain": [
       "  HotelType HotelStars  Sentiment\n",
       "0      City          2   0.236023\n",
       "1      City          3   0.334388\n",
       "2      City          4   0.343244\n",
       "3      City          5   0.324848\n",
       "4    Resort          2   0.302441\n",
       "5    Resort          3   0.331119\n",
       "6    Resort          4   0.406917\n",
       "7    Resort          5   0.369157"
      ]
     },
     "execution_count": 25,
     "metadata": {},
     "output_type": "execute_result"
    }
   ],
   "source": [
    "# Analysis examples:\n",
    "# Mean by hotel stars and type\n",
    "ex2 = ds[['HotelType','HotelStars','Sentiment']].groupby(['HotelType','HotelStars'], as_index=False).mean()\n",
    "ex2"
   ]
  }
 ],
 "metadata": {
  "kernelspec": {
   "display_name": "Python 3 (ipykernel)",
   "language": "python",
   "name": "python3"
  },
  "language_info": {
   "codemirror_mode": {
    "name": "ipython",
    "version": 3
   },
   "file_extension": ".py",
   "mimetype": "text/x-python",
   "name": "python",
   "nbconvert_exporter": "python",
   "pygments_lexer": "ipython3",
   "version": "3.9.12"
  },
  "vscode": {
   "interpreter": {
    "hash": "d7a18bc08bf6b314cad8b0dd8f53415ad78d1015cc806d14e4873c235fb4e191"
   }
  }
 },
 "nbformat": 4,
 "nbformat_minor": 2
}
